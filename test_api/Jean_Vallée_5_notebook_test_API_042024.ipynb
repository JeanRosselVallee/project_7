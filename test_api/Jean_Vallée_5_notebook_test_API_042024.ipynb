{
 "cells": [
  {
   "cell_type": "markdown",
   "id": "1eeaf919-cbc9-493f-99ac-855ad61fdc56",
   "metadata": {},
   "source": [
    "<center>\n",
    "  <font size=\"7\">Tests unitaires de l'API</font><br>\n",
    "  <font size=\"5\">Projet 7 - Implémentez un modèle de scoring</font>\n",
    "</center>\n",
    "<div align=\"right\">\n",
    "  <font size=\"4\"><i>par Jean Vallée</i></font>\n",
    "</div>"
   ]
  },
  {
   "cell_type": "markdown",
   "id": "ca6ac2bb-81e9-43e8-be39-c2edd9522e9e",
   "metadata": {},
   "source": [
    "<hr size=5>"
   ]
  },
  {
   "cell_type": "markdown",
   "id": "6d56313f-5654-4ce4-a87d-a8afcfa427ae",
   "metadata": {},
   "source": [
    "# Scénario de test unitaire \n",
    "Vu qu'il s'agit d'un modèle de classification binaire, le test unitaire consistera à :\n",
    "- faire prédire la variable cible par l'API du modèle \n",
    "- fournir au modèle les valeurs des attributs via un formulaire\n",
    "\n",
    "Le micro-framework Web léger [_Flask_](https://flask.palletsprojects.com/en/3.0.x/quickstart/) prend en charge la gestion de requêtes et réponses REST. Cf. section [Serveur Web](#web_server)"
   ]
  },
  {
   "cell_type": "code",
   "execution_count": 217,
   "id": "4ff9fc9b-1965-4fb2-8ff4-1303868675c8",
   "metadata": {},
   "outputs": [],
   "source": [
    "ip_server = '13.92.86.145'\n",
    "port_staging_server, port_production_server, port_web_server = '5677', '5678', '6543'\n",
    "url_staging_server = ip_server + ':' + port_staging_server + '/invocations'\n",
    "url_production_server = ip_server + ':' + port_production_server + '/invocations'"
   ]
  },
  {
   "cell_type": "markdown",
   "id": "0559d3b1-26c3-4694-8848-ff52e1e24511",
   "metadata": {},
   "source": [
    "# Tests avec _pytest_"
   ]
  },
  {
   "cell_type": "markdown",
   "id": "12d4a3ec-c026-4be3-8726-fcca5f2100cb",
   "metadata": {},
   "source": [
    "## Installation de _pytest_"
   ]
  },
  {
   "cell_type": "code",
   "execution_count": 2,
   "id": "7ee86a1b-e683-4d4c-8a6a-63be9b94b282",
   "metadata": {},
   "outputs": [
    {
     "name": "stdout",
     "output_type": "stream",
     "text": [
      "Requirement already satisfied: pytest in /home/azureuser/environments_folder/my_env/lib/python3.10/site-packages (8.2.1)\n",
      "Requirement already satisfied: exceptiongroup>=1.0.0rc8 in /home/azureuser/environments_folder/my_env/lib/python3.10/site-packages (from pytest) (1.2.1)\n",
      "Requirement already satisfied: packaging in /home/azureuser/environments_folder/my_env/lib/python3.10/site-packages (from pytest) (23.2)\n",
      "Requirement already satisfied: tomli>=1 in /home/azureuser/environments_folder/my_env/lib/python3.10/site-packages (from pytest) (2.0.1)\n",
      "Requirement already satisfied: pluggy<2.0,>=1.5 in /home/azureuser/environments_folder/my_env/lib/python3.10/site-packages (from pytest) (1.5.0)\n",
      "Requirement already satisfied: iniconfig in /home/azureuser/environments_folder/my_env/lib/python3.10/site-packages (from pytest) (2.0.0)\n"
     ]
    }
   ],
   "source": [
    "! pip install pytest"
   ]
  },
  {
   "cell_type": "markdown",
   "id": "95743095-ba3a-4fd6-98c7-f335d9b97c05",
   "metadata": {},
   "source": [
    "## Fonctions de test"
   ]
  },
  {
   "cell_type": "markdown",
   "id": "8b64cf12-8980-4a2e-86b1-1dd73504fa96",
   "metadata": {},
   "source": [
    "### Test de connexion au serveur"
   ]
  },
  {
   "cell_type": "code",
   "execution_count": 218,
   "id": "95bef1e7-0e91-451b-b63e-8cdf9def5f6b",
   "metadata": {},
   "outputs": [],
   "source": [
    "dir_test_data = '../test_api/data/'\n",
    "path_test_json = dir_test_data + 'dict_X_single.json'\n",
    "path_test_1 = './test_1.py'"
   ]
  },
  {
   "cell_type": "code",
   "execution_count": 4,
   "id": "03547ded-9e15-43cd-a4b7-b3c9fbbc8b8b",
   "metadata": {},
   "outputs": [],
   "source": [
    "str_test_1 = \\\n",
    "'''\\\n",
    "import requests\n",
    "def test_connection():    \n",
    "    print('__________Connection to API Server_____________')\n",
    "    req_post = requests.post(   url     = 'http://13.92.86.145:5677/invocations', \n",
    "                                headers = {'Content-Type': 'application/json'}, \n",
    "'''"
   ]
  },
  {
   "cell_type": "code",
   "execution_count": 5,
   "id": "34349320-b86c-43e2-a5fc-736a56dc43de",
   "metadata": {},
   "outputs": [
    {
     "data": {
      "text/plain": [
       "'{\"CODE_GENDER_M\":1,\"NAME_CONTRACT_TYPE_Cash_loans\":1,\"NAME_EDUCATION_TYPE_Lower_secondary\":0,\"EXT_SOURCE_3\":1.0,\"NAME_EDUCATION_TYPE_Higher_education\":1,\"NAME_EDUCATION_TYPE_Secondary_or_secondary_special\":0}'"
      ]
     },
     "execution_count": 5,
     "metadata": {},
     "output_type": "execute_result"
    }
   ],
   "source": [
    "with open(path_test_json) as file_object:\n",
    "    str_test_values = file_object.read()\n",
    "str_test_values = str_test_values.replace('[', '').replace(']\\n', '')\n",
    "str_test_values"
   ]
  },
  {
   "cell_type": "code",
   "execution_count": 6,
   "id": "f61c8d03-3325-4e18-b07b-bdc3a52a2b90",
   "metadata": {},
   "outputs": [],
   "source": [
    "str_test_1 += \\\n",
    "'''\\\n",
    "                                data    = '{\"inputs\": str_test_values}' )  \\\n",
    "'''   \n",
    "str_test_1 = str_test_1.replace('str_test_values', str_test_values)"
   ]
  },
  {
   "cell_type": "code",
   "execution_count": 7,
   "id": "4fd1590f-a3d1-4790-904a-dafe233ff960",
   "metadata": {},
   "outputs": [
    {
     "data": {
      "text/plain": [
       "'import requests\\ndef test_connection():    \\n    print(\\'__________Connection to API Server_____________\\')\\n    req_post = requests.post(   url     = \\'http://13.92.86.145:5677/invocations\\', \\n                                headers = {\\'Content-Type\\': \\'application/json\\'}, \\n                                data    = \\'{\"inputs\": {\"CODE_GENDER_M\":1,\"NAME_CONTRACT_TYPE_Cash_loans\":1,\"NAME_EDUCATION_TYPE_Lower_secondary\":0,\"EXT_SOURCE_3\":1.0,\"NAME_EDUCATION_TYPE_Higher_education\":1,\"NAME_EDUCATION_TYPE_Secondary_or_secondary_special\":0}}\\' )  '"
      ]
     },
     "execution_count": 7,
     "metadata": {},
     "output_type": "execute_result"
    }
   ],
   "source": [
    "str_test_1"
   ]
  },
  {
   "cell_type": "code",
   "execution_count": 8,
   "id": "60b9085a-8975-4b8a-ae8c-91d53b9d822e",
   "metadata": {},
   "outputs": [],
   "source": [
    "str_test_1 += \\\n",
    "'''\n",
    "    is_connected = req_post.ok\n",
    "    if is_connected : print('OK : Connected to API Server')\n",
    "    assert is_connected\n",
    "'''"
   ]
  },
  {
   "cell_type": "code",
   "execution_count": 9,
   "id": "bd42a0d0-c7b5-46ec-9081-223b67bc481a",
   "metadata": {},
   "outputs": [],
   "source": [
    "with open(path_test_1, \"w\") as file_object:\n",
    "    print(str_test_1, file=file_object)"
   ]
  },
  {
   "cell_type": "code",
   "execution_count": 10,
   "id": "c7d2bcde-a995-4517-b050-0f02285c179a",
   "metadata": {},
   "outputs": [
    {
     "name": "stdout",
     "output_type": "stream",
     "text": [
      "import requests\n",
      "def test_connection():    \n",
      "    print('__________Connection to API Server_____________')\n",
      "    req_post = requests.post(   url     = 'http://13.92.86.145:5677/invocations', \n",
      "                                headers = {'Content-Type': 'application/json'}, \n",
      "                                data    = '{\"inputs\": {\"CODE_GENDER_M\":1,\"NAME_CONTRACT_TYPE_Cash_loans\":1,\"NAME_EDUCATION_TYPE_Lower_secondary\":0,\"EXT_SOURCE_3\":1.0,\"NAME_EDUCATION_TYPE_Higher_education\":1,\"NAME_EDUCATION_TYPE_Secondary_or_secondary_special\":0}}' )  \n",
      "    is_connected = req_post.ok\n",
      "    if is_connected : print('OK : Connected to API Server')\n",
      "    assert is_connected\n",
      "\n"
     ]
    }
   ],
   "source": [
    "!cat $path_test_1"
   ]
  },
  {
   "cell_type": "markdown",
   "id": "46d47826-eec5-4fb6-a97b-71b489ffdd7a",
   "metadata": {},
   "source": [
    "### Tests unitaires"
   ]
  },
  {
   "cell_type": "code",
   "execution_count": 163,
   "id": "2b7bca73-64cb-4080-afb0-a184d22abee6",
   "metadata": {},
   "outputs": [],
   "source": [
    "file_dict_X_sample = dir_test_data + 'dict_X_sample.json'\n",
    "file_list_y_sample = dir_test_data + 'li_y_sample.txt'\n",
    "path_test_2 = './test_2.py'"
   ]
  },
  {
   "cell_type": "code",
   "execution_count": 164,
   "id": "f3bd6587-f76e-46bd-97ab-19c2c6244065",
   "metadata": {},
   "outputs": [],
   "source": [
    "str_test_2 = \\\n",
    "'''\\\n",
    "import requests\n",
    "import json\n",
    "\n",
    "def predict(dict_features):\n",
    "    # Send input data to prediction API\n",
    "    req_post = requests.post(   url     = 'http://13.92.86.145:5677/invocations',\n",
    "                                headers = {'Content-Type': 'application/json'},\n",
    "                                data    = json.dumps({'inputs': dict_features}) )\n",
    "    # Get predicted value from API\n",
    "    dict_predicted = json.loads(req_post.text)\n",
    "    return dict_predicted\n",
    "\n",
    "def test_prediction():\n",
    "'''"
   ]
  },
  {
   "cell_type": "code",
   "execution_count": 165,
   "id": "91f77ce0-e3b2-4384-af59-e64883b495a3",
   "metadata": {},
   "outputs": [
    {
     "data": {
      "text/plain": [
       "[{'CODE_GENDER_M': 0,\n",
       "  'NAME_CONTRACT_TYPE_Cash_loans': 1,\n",
       "  'NAME_EDUCATION_TYPE_Lower_secondary': 1,\n",
       "  'EXT_SOURCE_3': 0.1359510442,\n",
       "  'NAME_EDUCATION_TYPE_Higher_education': 0,\n",
       "  'NAME_EDUCATION_TYPE_Secondary_or_secondary_special': 0},\n",
       " {'CODE_GENDER_M': 0,\n",
       "  'NAME_CONTRACT_TYPE_Cash_loans': 1,\n",
       "  'NAME_EDUCATION_TYPE_Lower_secondary': 1,\n",
       "  'EXT_SOURCE_3': 0.244516392,\n",
       "  'NAME_EDUCATION_TYPE_Higher_education': 0,\n",
       "  'NAME_EDUCATION_TYPE_Secondary_or_secondary_special': 0},\n",
       " {'CODE_GENDER_M': 0,\n",
       "  'NAME_CONTRACT_TYPE_Cash_loans': 1,\n",
       "  'NAME_EDUCATION_TYPE_Lower_secondary': 1,\n",
       "  'EXT_SOURCE_3': 0.2485355573,\n",
       "  'NAME_EDUCATION_TYPE_Higher_education': 0,\n",
       "  'NAME_EDUCATION_TYPE_Secondary_or_secondary_special': 0}]"
      ]
     },
     "execution_count": 165,
     "metadata": {},
     "output_type": "execute_result"
    }
   ],
   "source": [
    "with open(file_dict_X_sample) as file_object:\n",
    "    str_li_dict_features = file_object.read()\n",
    "str_li_dict_features = str_li_dict_features.replace('\\n', '')\n",
    "li_dict_features = eval(str_li_dict_features)\n",
    "li_dict_features"
   ]
  },
  {
   "cell_type": "code",
   "execution_count": 166,
   "id": "b9a82abe-2bcb-4d87-8902-124eb37a3c16",
   "metadata": {},
   "outputs": [
    {
     "data": {
      "text/plain": [
       "'[1, 1, 1]'"
      ]
     },
     "execution_count": 166,
     "metadata": {},
     "output_type": "execute_result"
    }
   ],
   "source": [
    "nb_observations = len(li_dict_features)\n",
    "li_targets = [1] * nb_observations\n",
    "str_li_targets = str(li_targets)\n",
    "str_li_targets"
   ]
  },
  {
   "cell_type": "code",
   "execution_count": 167,
   "id": "bb9293e2-5145-4f8e-ba5c-8232eb2f8e9e",
   "metadata": {},
   "outputs": [],
   "source": [
    "str_test_2 += \\\n",
    "'''\\\n",
    "    li_dict_features = str_li_dict_features\n",
    "    li_targets = str_li_targets\n",
    "    for idx, (dict_features_i, out_i) in enumerate(zip(li_dict_features, li_targets)) :\n",
    "'''   \n",
    "str_test_2 = str_test_2 .replace('str_li_dict_features', str_li_dict_features) \\\n",
    "                        .replace('str_li_targets', str_li_targets)"
   ]
  },
  {
   "cell_type": "code",
   "execution_count": 168,
   "id": "826b2368-275a-4514-95e3-b3de0e2ed93f",
   "metadata": {},
   "outputs": [
    {
     "name": "stdout",
     "output_type": "stream",
     "text": [
      "import requests\n",
      "import json\n",
      "\n",
      "def predict(dict_features):\n",
      "    # Send input data to prediction API\n",
      "    req_post = requests.post(   url     = 'http://13.92.86.145:5677/invocations',\n",
      "                                headers = {'Content-Type': 'application/json'},\n",
      "                                data    = json.dumps({'inputs': dict_features}) )\n",
      "    # Get predicted value from API\n",
      "    dict_predicted = json.loads(req_post.text)\n",
      "    return dict_predicted\n",
      "\n",
      "def test_prediction():\n",
      "    li_dict_features = [{\"CODE_GENDER_M\":0,\"NAME_CONTRACT_TYPE_Cash_loans\":1,\"NAME_EDUCATION_TYPE_Lower_secondary\":1,\"EXT_SOURCE_3\":0.1359510442,\"NAME_EDUCATION_TYPE_Higher_education\":0,\"NAME_EDUCATION_TYPE_Secondary_or_secondary_special\":0},{\"CODE_GENDER_M\":0,\"NAME_CONTRACT_TYPE_Cash_loans\":1,\"NAME_EDUCATION_TYPE_Lower_secondary\":1,\"EXT_SOURCE_3\":0.244516392,\"NAME_EDUCATION_TYPE_Higher_education\":0,\"NAME_EDUCATION_TYPE_Secondary_or_secondary_special\":0},{\"CODE_GENDER_M\":0,\"NAME_CONTRACT_TYPE_Cash_loans\":1,\"NAME_EDUCATION_TYPE_Lower_secondary\":1,\"EXT_SOURCE_3\":0.2485355573,\"NAME_EDUCATION_TYPE_Higher_education\":0,\"NAME_EDUCATION_TYPE_Secondary_or_secondary_special\":0}]\n",
      "    li_targets = [1, 1, 1]\n",
      "    for idx, (dict_features_i, out_i) in enumerate(zip(li_dict_features, li_targets)) :\n",
      "\n"
     ]
    }
   ],
   "source": [
    "print(str_test_2)"
   ]
  },
  {
   "cell_type": "code",
   "execution_count": 169,
   "id": "6dfec56e-9743-4382-9698-9c09ae746de0",
   "metadata": {},
   "outputs": [],
   "source": [
    "str_test_2 += \\\n",
    "'''\n",
    "        dict_predicted_i = predict(dict_features_i)\n",
    "        dict_expected_i  = {'predictions':[out_i]}\n",
    "        print('input features   :', dict_features_i)\n",
    "        print('output predicted:', dict_predicted_i)\n",
    "        print('output expected :', dict_expected_i)\n",
    "\n",
    "        # Compare predicted & expected values\n",
    "        assert dict_predicted_i == dict_expected_i\n",
    "'''"
   ]
  },
  {
   "cell_type": "code",
   "execution_count": 170,
   "id": "404b0f3b-c851-4339-b051-5ba4d01cdcf9",
   "metadata": {},
   "outputs": [],
   "source": [
    "with open(path_test_2, \"w\") as file_object:\n",
    "    print(str_test_2, file=file_object)"
   ]
  },
  {
   "cell_type": "code",
   "execution_count": 171,
   "id": "1d413b40-8860-443c-91ff-74a0bfaf1a23",
   "metadata": {},
   "outputs": [
    {
     "name": "stdout",
     "output_type": "stream",
     "text": [
      "import requests\n",
      "import json\n",
      "\n",
      "def predict(dict_features):\n",
      "    # Send input data to prediction API\n",
      "    req_post = requests.post(   url     = 'http://13.92.86.145:5677/invocations',\n",
      "                                headers = {'Content-Type': 'application/json'},\n",
      "                                data    = json.dumps({'inputs': dict_features}) )\n",
      "    # Get predicted value from API\n",
      "    dict_predicted = json.loads(req_post.text)\n",
      "    return dict_predicted\n",
      "\n",
      "def test_prediction():\n",
      "    li_dict_features = [{\"CODE_GENDER_M\":0,\"NAME_CONTRACT_TYPE_Cash_loans\":1,\"NAME_EDUCATION_TYPE_Lower_secondary\":1,\"EXT_SOURCE_3\":0.1359510442,\"NAME_EDUCATION_TYPE_Higher_education\":0,\"NAME_EDUCATION_TYPE_Secondary_or_secondary_special\":0},{\"CODE_GENDER_M\":0,\"NAME_CONTRACT_TYPE_Cash_loans\":1,\"NAME_EDUCATION_TYPE_Lower_secondary\":1,\"EXT_SOURCE_3\":0.244516392,\"NAME_EDUCATION_TYPE_Higher_education\":0,\"NAME_EDUCATION_TYPE_Secondary_or_secondary_special\":0},{\"CODE_GENDER_M\":0,\"NAME_CONTRACT_TYPE_Cash_loans\":1,\"NAME_EDUCATION_TYPE_Lower_secondary\":1,\"EXT_SOURCE_3\":0.2485355573,\"NAME_EDUCATION_TYPE_Higher_education\":0,\"NAME_EDUCATION_TYPE_Secondary_or_secondary_special\":0}]\n",
      "    li_targets = [1, 1, 1]\n",
      "    for idx, (dict_features_i, out_i) in enumerate(zip(li_dict_features, li_targets)) :\n",
      "\n",
      "        dict_predicted_i = predict(dict_features_i)\n",
      "        dict_expected_i  = {'predictions':[out_i]}\n",
      "        print('input features   :', dict_features_i)\n",
      "        print('output predicted:', dict_predicted_i)\n",
      "        print('output expected :', dict_expected_i)\n",
      "\n",
      "        # Compare predicted & expected values\n",
      "        assert dict_predicted_i == dict_expected_i\n",
      "\n"
     ]
    }
   ],
   "source": [
    "!cat $path_test_2"
   ]
  },
  {
   "cell_type": "markdown",
   "id": "391fc9f1-9d82-46e8-b699-e35c78b75d80",
   "metadata": {},
   "source": [
    "## Exécution et résultats des tests"
   ]
  },
  {
   "cell_type": "code",
   "execution_count": 172,
   "id": "2791b555-b814-4b48-a03b-91092b05785a",
   "metadata": {},
   "outputs": [
    {
     "name": "stdout",
     "output_type": "stream",
     "text": [
      "\u001b[1m============================= test session starts ==============================\u001b[0m\n",
      "platform linux -- Python 3.10.12, pytest-8.2.1, pluggy-1.5.0\n",
      "rootdir: /home/azureuser/project_7/test_api\n",
      "plugins: anyio-4.3.0\n",
      "collected 2 items                                                              \u001b[0m\n",
      "\n",
      "test_1.py \u001b[32m.\u001b[0m\u001b[32m                                                              [ 50%]\u001b[0m\n",
      "test_2.py \u001b[32m.\u001b[0m\u001b[32m                                                              [100%]\u001b[0m\n",
      "\n",
      "==================================== PASSES ====================================\n",
      "\u001b[32m\u001b[1m_______________________________ test_connection ________________________________\u001b[0m\n",
      "----------------------------- Captured stdout call -----------------------------\n",
      "__________Connection to API Server_____________\n",
      "OK : Connected to API Server\n",
      "\u001b[32m\u001b[1m_______________________________ test_prediction ________________________________\u001b[0m\n",
      "----------------------------- Captured stdout call -----------------------------\n",
      "input features   : {'CODE_GENDER_M': 0, 'NAME_CONTRACT_TYPE_Cash_loans': 1, 'NAME_EDUCATION_TYPE_Lower_secondary': 1, 'EXT_SOURCE_3': 0.1359510442, 'NAME_EDUCATION_TYPE_Higher_education': 0, 'NAME_EDUCATION_TYPE_Secondary_or_secondary_special': 0}\n",
      "output predicted: {'predictions': [1]}\n",
      "output expected : {'predictions': [1]}\n",
      "input features   : {'CODE_GENDER_M': 0, 'NAME_CONTRACT_TYPE_Cash_loans': 1, 'NAME_EDUCATION_TYPE_Lower_secondary': 1, 'EXT_SOURCE_3': 0.244516392, 'NAME_EDUCATION_TYPE_Higher_education': 0, 'NAME_EDUCATION_TYPE_Secondary_or_secondary_special': 0}\n",
      "output predicted: {'predictions': [1]}\n",
      "output expected : {'predictions': [1]}\n",
      "input features   : {'CODE_GENDER_M': 0, 'NAME_CONTRACT_TYPE_Cash_loans': 1, 'NAME_EDUCATION_TYPE_Lower_secondary': 1, 'EXT_SOURCE_3': 0.2485355573, 'NAME_EDUCATION_TYPE_Higher_education': 0, 'NAME_EDUCATION_TYPE_Secondary_or_secondary_special': 0}\n",
      "output predicted: {'predictions': [1]}\n",
      "output expected : {'predictions': [1]}\n",
      "\u001b[36m\u001b[1m=========================== short test summary info ============================\u001b[0m\n",
      "\u001b[32mPASSED\u001b[0m test_1.py::\u001b[1mtest_connection\u001b[0m\n",
      "\u001b[32mPASSED\u001b[0m test_2.py::\u001b[1mtest_prediction\u001b[0m\n",
      "\u001b[32m============================== \u001b[32m\u001b[1m2 passed\u001b[0m\u001b[32m in 0.15s\u001b[0m\u001b[32m ===============================\u001b[0m\n"
     ]
    }
   ],
   "source": [
    "!python -m pytest --import-mode=append -rA ../test_api/"
   ]
  },
  {
   "cell_type": "markdown",
   "id": "bfedbc2f-8323-475c-98f4-795952f6cc63",
   "metadata": {},
   "source": [
    "**Observation** : les résultats des tests unitaires sont positifs"
   ]
  },
  {
   "cell_type": "markdown",
   "id": "cb83ff97-695a-4cfd-975e-6bd61797e64a",
   "metadata": {},
   "source": [
    "# Tests via _curl_"
   ]
  },
  {
   "cell_type": "code",
   "execution_count": 22,
   "id": "63c865b0-6b11-45fb-9f0d-98f4d6f5ac1a",
   "metadata": {},
   "outputs": [],
   "source": [
    "import subprocess"
   ]
  },
  {
   "cell_type": "markdown",
   "id": "0473b650-a63d-4abd-83a8-7761fdbe3db8",
   "metadata": {},
   "source": [
    "Récupération de la liste d'attributs"
   ]
  },
  {
   "cell_type": "code",
   "execution_count": 32,
   "id": "6baa8569-f85d-4570-9461-7e99c953afa1",
   "metadata": {},
   "outputs": [
    {
     "data": {
      "text/plain": [
       "'[\"CODE_GENDER_M\", \"NAME_CONTRACT_TYPE_Cash_loans\", \"NAME_EDUCATION_TYPE_Lower_secondary\", \"EXT_SOURCE_3\", \"NAME_EDUCATION_TYPE_Higher_education\", \"NAME_EDUCATION_TYPE_Secondary_or_secondary_special\"]'"
      ]
     },
     "execution_count": 32,
     "metadata": {},
     "output_type": "execute_result"
    }
   ],
   "source": [
    "with open(dir_test_data + 'li_features.txt') as file_object:\n",
    "    str_li_features = file_object.read()\n",
    "str_li_features = str_li_features.replace('\\'', '\"').replace('\\n', '')\n",
    "str_li_features"
   ]
  },
  {
   "cell_type": "code",
   "execution_count": 24,
   "id": "95656f75-a29f-4735-90de-dfc97c7ff39e",
   "metadata": {},
   "outputs": [],
   "source": [
    "def get_single_prediction(str_values, str_expected) :\n",
    "    shell_command = 'curl -d \\'{\"dataframe_split\": { \"columns\": ' + str_li_features \\\n",
    "        + ', \"data\": [[' + str_values + ']]}}\\' -H \\'Content-Type: application/json\\' -X POST ' \\\n",
    "        + url_staging_server + ' --no-progress-meter'\n",
    "    print('Shell command :', shell_command, '\\n')\n",
    "    print(subprocess.getoutput(shell_command), 'expected :', str_expected, 'for features values:', str_values)"
   ]
  },
  {
   "cell_type": "code",
   "execution_count": 110,
   "id": "be9a60ec-3eea-4b00-9aa7-46fce5d205c5",
   "metadata": {},
   "outputs": [
    {
     "name": "stdout",
     "output_type": "stream",
     "text": [
      "Shell command : curl -d '{\"dataframe_split\": { \"columns\": [\"CODE_GENDER_M\", \"NAME_CONTRACT_TYPE_Cash_loans\", \"NAME_EDUCATION_TYPE_Lower_secondary\", \"EXT_SOURCE_3\", \"NAME_EDUCATION_TYPE_Higher_education\", \"NAME_EDUCATION_TYPE_Secondary_or_secondary_special\"], \"data\": [[1, 1, 0, 1, 1, 0]]}}' -H 'Content-Type: application/json' -X POST 13.92.86.145:5677/invocations --no-progress-meter \n",
      "\n",
      "{\"predictions\": [0]} expected : 0 for features values: 1, 1, 0, 1, 1, 0\n"
     ]
    }
   ],
   "source": [
    "get_single_prediction('1, 1, 0, 1, 1, 0', '0')"
   ]
  },
  {
   "cell_type": "markdown",
   "id": "542cbd0d-c679-4b2b-b9a6-c462d5f0d1e0",
   "metadata": {},
   "source": [
    "# Tests via interface Web d'API"
   ]
  },
  {
   "cell_type": "markdown",
   "id": "76e6a8d4-613d-4289-804d-43ed9c69a218",
   "metadata": {},
   "source": [
    "### Accès en ligne"
   ]
  },
  {
   "cell_type": "code",
   "execution_count": 45,
   "id": "dddb2063-29a1-41e2-a184-5ed549e9d650",
   "metadata": {},
   "outputs": [
    {
     "name": "stdout",
     "output_type": "stream",
     "text": [
      "Website URL = http://13.92.86.145:6543\n"
     ]
    }
   ],
   "source": [
    "print('Website URL =' , 'http://' + ip_server + ':' + port_web_server)"
   ]
  },
  {
   "cell_type": "markdown",
   "id": "31e43b37-7cf7-4e92-a33b-2a217b712ec4",
   "metadata": {},
   "source": [
    "### Arborescence de fichiers"
   ]
  },
  {
   "cell_type": "code",
   "execution_count": 24,
   "id": "3ad7e545-a9e7-41fe-818b-688a1b288308",
   "metadata": {},
   "outputs": [
    {
     "name": "stdout",
     "output_type": "stream",
     "text": [
      "  └── website\n",
      "  |  └── .ipynb_checkpoints\n",
      "  |  |  └── Jean_Vallée_5_notebook_test_API_042024-checkpoint.ipynb\n",
      "  |  └── web_router.py\n",
      "  |  └── templates\n",
      "  |  |  └── result.html\n",
      "  |  |  └── index.html\n",
      "  |  |  └── form.html\n",
      "  |  └── static\n",
      "  |  |  └── css\n",
      "  |  |  |  └── style.css\n",
      "  |  └── Jean_Vallée_5_notebook_test_API_042024.ipynb\n"
     ]
    }
   ],
   "source": [
    "! find ../website | sed -e \"s/[^\\/]*\\//  |/g\" -e \"s/|\\([^ ]\\)/└── \\1/\""
   ]
  },
  {
   "cell_type": "markdown",
   "id": "cd56d60e-5125-44e9-860a-9617feea7430",
   "metadata": {},
   "source": [
    "### Fichiers _HTML_"
   ]
  },
  {
   "cell_type": "code",
   "execution_count": 26,
   "id": "73cbfef1-bdc7-46b9-9219-6fac186f77fa",
   "metadata": {},
   "outputs": [],
   "source": [
    "import IPython\n",
    "dir_website = '../website/'\n",
    "dir_html = dir_website + 'templates/'"
   ]
  },
  {
   "cell_type": "markdown",
   "id": "f847a745-d8be-4908-bfcd-41f46d8e6d8c",
   "metadata": {},
   "source": [
    "#### Index  \n",
    "Fichier d'accueil"
   ]
  },
  {
   "cell_type": "code",
   "execution_count": 158,
   "id": "1958e589-651b-49dc-b0cb-e562049a9820",
   "metadata": {},
   "outputs": [
    {
     "name": "stdout",
     "output_type": "stream",
     "text": [
      "\n",
      "<!DOCTYPE html>\n",
      "<html lang=\"en\">\n",
      "    <head>\n",
      "        <meta charset=\"UTF-8\">\n",
      "        <link rel=\"stylesheet\" href=\"{{ url_for('static', filename= 'css/style.css') }}\">\n",
      "        <title>ML model API</title>\n",
      "    </head>\n",
      "    <body>\n",
      "       <h1>API du modèle de classification binaire</h1>      \n",
      "       <h2>Page d'accueil</h2>    \n",
      "       <a href=\"/form/\">Formulaire</a>\n",
      "    </body>\n",
      "</html>\n",
      "\n"
     ]
    }
   ],
   "source": [
    "file_html_index = dir_html + 'index.html'\n",
    "!cat $file_html_index"
   ]
  },
  {
   "cell_type": "code",
   "execution_count": 159,
   "id": "97066324-7b8a-46ab-a4f6-2b1e99a8bcc5",
   "metadata": {},
   "outputs": [
    {
     "data": {
      "text/html": [
       "\n",
       "        <iframe\n",
       "            width=\"700\"\n",
       "            height=\"350\"\n",
       "            src=\"../website/templates/index.html\"\n",
       "            frameborder=\"0\"\n",
       "            allowfullscreen\n",
       "            \n",
       "        ></iframe>\n",
       "        "
      ],
      "text/plain": [
       "<IPython.lib.display.IFrame at 0x766919fbe4d0>"
      ]
     },
     "execution_count": 159,
     "metadata": {},
     "output_type": "execute_result"
    }
   ],
   "source": [
    "IPython.display.IFrame(file_html_index, width=700, height=350) "
   ]
  },
  {
   "cell_type": "markdown",
   "id": "60a4a4cd-e991-4872-ad33-f7d00b0e9d5e",
   "metadata": {},
   "source": [
    "#### Formulaire  \n",
    "Formulaire de saisie des atttributs"
   ]
  },
  {
   "cell_type": "code",
   "execution_count": 299,
   "id": "bca85c18-eeb4-4221-ab10-8c72cd0de2f1",
   "metadata": {},
   "outputs": [],
   "source": [
    "path_form = dir_html + 'form.html'"
   ]
  },
  {
   "cell_type": "code",
   "execution_count": 300,
   "id": "13ef78c3-94d3-4516-9e54-3e10a390efec",
   "metadata": {},
   "outputs": [],
   "source": [
    "str_form = \\\n",
    "'''\\\n",
    "<!DOCTYPE html>\n",
    "<html lang=\"en\">\n",
    "    <head>\n",
    "        <meta charset=\"UTF-8\">\n",
    "        <link rel=\"stylesheet\" href=\"{{ url_for('static', filename= 'css/style.css') }}\">\n",
    "        <title>ML model API</title>\n",
    "    </head>\n",
    "    <body>\n",
    "        <h1>API du modèle de classification binaire</h1>       \n",
    "        <h2>Formulaire de saisie d'attributs</h2>       \n",
    "        \n",
    "        <form method=\"post\" action=\"{{ url_for('result') }}\">\n",
    "            <div>\n",
    "            \t<label for=\"port\">Server:</label>\n",
    "            \t<select id=\"port\" name=\"port\">\n",
    "                \t\t<option value=\"5677\"> Staging    </option>\n",
    "                \t\t<option value=\"5678\"> Production </option>\n",
    "            \t</select>\n",
    "            </div>\n",
    "            <br>\n",
    "            <table> \\\n",
    "'''"
   ]
  },
  {
   "cell_type": "code",
   "execution_count": 301,
   "id": "05cb86d0-df61-45ff-bac7-0f013c388909",
   "metadata": {},
   "outputs": [
    {
     "data": {
      "text/plain": [
       "['CODE_GENDER_M',\n",
       " 'NAME_CONTRACT_TYPE_Cash_loans',\n",
       " 'NAME_EDUCATION_TYPE_Lower_secondary',\n",
       " 'EXT_SOURCE_3',\n",
       " 'NAME_EDUCATION_TYPE_Higher_education',\n",
       " 'NAME_EDUCATION_TYPE_Secondary_or_secondary_special']"
      ]
     },
     "execution_count": 301,
     "metadata": {},
     "output_type": "execute_result"
    }
   ],
   "source": [
    "li_features = eval(str_li_features)\n",
    "li_features"
   ]
  },
  {
   "cell_type": "code",
   "execution_count": 302,
   "id": "7c1693fc-af78-41f1-ad37-93c1e726c822",
   "metadata": {},
   "outputs": [
    {
     "data": {
      "text/plain": [
       "['long', 'long', 'long', 'double', 'long', 'long']"
      ]
     },
     "execution_count": 302,
     "metadata": {},
     "output_type": "execute_result"
    }
   ],
   "source": [
    "with open(dir_test_data + 'li_types.txt') as file_object:\n",
    "    str_li_types = file_object.read()\n",
    "str_li_types = str_li_types.replace('[', '[\"').replace(', ', '\", \"').replace(']\\n', '\"]')\n",
    "li_types = eval(str_li_types)\n",
    "li_types"
   ]
  },
  {
   "cell_type": "code",
   "execution_count": 303,
   "id": "e66e2402-3347-43af-994d-865beca84889",
   "metadata": {},
   "outputs": [],
   "source": [
    "def get_div_per_feature(idx, str_feature_i, str_type_i) :\n",
    "    str_div_i = \\\n",
    "    '''\n",
    "                <tr>\n",
    "                    <td><label for=\"input_str_idx\">str_feature_i :</label></td>\n",
    "                    <td><input name=\"str_feature_i\" id=\"input_str_idx\" type=\"number\" step=\"any\" value=\"1\"></td>\n",
    "                    <td>str_type_i</td>\n",
    "                </tr> \\\n",
    "    '''\n",
    "    return str_div_i.replace('str_idx',       str(idx))      \\\n",
    "                    .replace('str_feature_i', str_feature_i) \\\n",
    "                    .replace('str_type_i',    str_type_i)"
   ]
  },
  {
   "cell_type": "code",
   "execution_count": 304,
   "id": "dc0deaa8-c7f4-4edb-b3c6-5702112c3f45",
   "metadata": {},
   "outputs": [],
   "source": [
    "for idx, (feature_i, type_i) in enumerate(zip(li_features, li_types)) :\n",
    "    str_form += get_div_per_feature(idx + 1, feature_i, type_i)"
   ]
  },
  {
   "cell_type": "code",
   "execution_count": 305,
   "id": "22d81e13-3c11-4fa4-95a2-37313ae939d5",
   "metadata": {},
   "outputs": [],
   "source": [
    "str_form += \\\n",
    "'''\n",
    "            </table>\n",
    "            <br>\n",
    "            <div>\n",
    "                <button>Predict</button>\n",
    "            </div>\n",
    "        </form>\n",
    "        <br>\n",
    "        <p>PI, valeurs des attributs pour obtenir des TP (vrai positif):</p>\n",
    "        str_pandas_as_html\n",
    "    </body>\n",
    "</html>\n",
    "'''"
   ]
  },
  {
   "cell_type": "code",
   "execution_count": 306,
   "id": "30a6e200-d48b-48ff-b234-7b2c1b79c4b1",
   "metadata": {
    "scrolled": true
   },
   "outputs": [],
   "source": [
    "import pandas as pd\n",
    "file_X_true_positives = '../modeling/data/out/X_true_pos.csv'\n",
    "df_X_true_pos = pd.read_csv(file_X_true_positives).drop('Unnamed: 0', axis='columns')"
   ]
  },
  {
   "cell_type": "code",
   "execution_count": 307,
   "id": "77347a28-bae9-4878-b397-f6c3e5d28bc8",
   "metadata": {
    "scrolled": true
   },
   "outputs": [],
   "source": [
    "str_pandas_as_html = df_X_true_pos.to_html(justify='center', border=0,\n",
    "                                float_format=lambda x: '%.10f' % x)\n",
    "str_form = str_form.replace('str_pandas_as_html', str_pandas_as_html)"
   ]
  },
  {
   "cell_type": "code",
   "execution_count": 308,
   "id": "b0449916-9486-40d7-9c50-ea2a32dacb66",
   "metadata": {},
   "outputs": [],
   "source": [
    "with open(path_form, 'w') as file_object:\n",
    "    print(str_form, file=file_object)"
   ]
  },
  {
   "cell_type": "code",
   "execution_count": 309,
   "id": "2cf7c112-d906-40c7-b243-2f9c07b703fc",
   "metadata": {
    "scrolled": true
   },
   "outputs": [
    {
     "name": "stdout",
     "output_type": "stream",
     "text": [
      "<!DOCTYPE html>\n",
      "<html lang=\"en\">\n",
      "    <head>\n",
      "        <meta charset=\"UTF-8\">\n",
      "        <link rel=\"stylesheet\" href=\"{{ url_for('static', filename= 'css/style.css') }}\">\n",
      "        <title>ML model API</title>\n",
      "    </head>\n",
      "    <body>\n",
      "        <h1>API du modèle de classification binaire</h1>       \n",
      "        <h2>Formulaire de saisie d'attributs</h2>       \n",
      "        \n",
      "        <form method=\"post\" action=\"{{ url_for('result') }}\">\n",
      "            <div>\n",
      "            \t<label for=\"port\">Server:</label>\n",
      "            \t<select id=\"port\" name=\"port\">\n",
      "                \t\t<option value=\"5677\"> Staging    </option>\n",
      "                \t\t<option value=\"5678\"> Production </option>\n",
      "            \t</select>\n",
      "            </div>\n",
      "            <br>\n",
      "            <table> \n",
      "                <tr>\n",
      "                    <td><label for=\"input_1\">CODE_GENDER_M :</label></td>\n",
      "                    <td><input name=\"CODE_GENDER_M\" id=\"input_1\" type=\"number\" step=\"any\" value=\"1\"></td>\n",
      "                    <td>long</td>\n",
      "                </tr>     \n",
      "                <tr>\n",
      "                    <td><label for=\"input_2\">NAME_CONTRACT_TYPE_Cash_loans :</label></td>\n",
      "                    <td><input name=\"NAME_CONTRACT_TYPE_Cash_loans\" id=\"input_2\" type=\"number\" step=\"any\" value=\"1\"></td>\n",
      "                    <td>long</td>\n",
      "                </tr>     \n",
      "                <tr>\n",
      "                    <td><label for=\"input_3\">NAME_EDUCATION_TYPE_Lower_secondary :</label></td>\n",
      "                    <td><input name=\"NAME_EDUCATION_TYPE_Lower_secondary\" id=\"input_3\" type=\"number\" step=\"any\" value=\"1\"></td>\n",
      "                    <td>long</td>\n",
      "                </tr>     \n",
      "                <tr>\n",
      "                    <td><label for=\"input_4\">EXT_SOURCE_3 :</label></td>\n",
      "                    <td><input name=\"EXT_SOURCE_3\" id=\"input_4\" type=\"number\" step=\"any\" value=\"1\"></td>\n",
      "                    <td>double</td>\n",
      "                </tr>     \n",
      "                <tr>\n",
      "                    <td><label for=\"input_5\">NAME_EDUCATION_TYPE_Higher_education :</label></td>\n",
      "                    <td><input name=\"NAME_EDUCATION_TYPE_Higher_education\" id=\"input_5\" type=\"number\" step=\"any\" value=\"1\"></td>\n",
      "                    <td>long</td>\n",
      "                </tr>     \n",
      "                <tr>\n",
      "                    <td><label for=\"input_6\">NAME_EDUCATION_TYPE_Secondary_or_secondary_special :</label></td>\n",
      "                    <td><input name=\"NAME_EDUCATION_TYPE_Secondary_or_secondary_special\" id=\"input_6\" type=\"number\" step=\"any\" value=\"1\"></td>\n",
      "                    <td>long</td>\n",
      "                </tr>     \n",
      "            </table>\n",
      "            <br>\n",
      "            <div>\n",
      "                <button>Predict</button>\n",
      "            </div>\n",
      "        </form>\n",
      "        <br>\n",
      "        <p>PI, valeurs des attributs pour obtenir des TP (vrai positif):</p>\n",
      "        <table class=\"dataframe\">\n",
      "  <thead>\n",
      "    <tr style=\"text-align: center;\">\n",
      "      <th></th>\n",
      "      <th>CODE_GENDER_M</th>\n",
      "      <th>NAME_CONTRACT_TYPE_Cash_loans</th>\n",
      "      <th>NAME_EDUCATION_TYPE_Lower_secondary</th>\n",
      "      <th>EXT_SOURCE_3</th>\n",
      "      <th>NAME_EDUCATION_TYPE_Higher_education</th>\n",
      "      <th>NAME_EDUCATION_TYPE_Secondary_or_secondary_special</th>\n",
      "    </tr>\n",
      "  </thead>\n",
      "  <tbody>\n",
      "    <tr>\n",
      "      <th>0</th>\n",
      "      <td>0</td>\n",
      "      <td>1</td>\n",
      "      <td>1</td>\n",
      "      <td>0.1359510442</td>\n",
      "      <td>0</td>\n",
      "      <td>0</td>\n",
      "    </tr>\n",
      "    <tr>\n",
      "      <th>1</th>\n",
      "      <td>0</td>\n",
      "      <td>1</td>\n",
      "      <td>1</td>\n",
      "      <td>0.2445163920</td>\n",
      "      <td>0</td>\n",
      "      <td>0</td>\n",
      "    </tr>\n",
      "    <tr>\n",
      "      <th>2</th>\n",
      "      <td>0</td>\n",
      "      <td>1</td>\n",
      "      <td>1</td>\n",
      "      <td>0.2485355573</td>\n",
      "      <td>0</td>\n",
      "      <td>0</td>\n",
      "    </tr>\n",
      "    <tr>\n",
      "      <th>3</th>\n",
      "      <td>0</td>\n",
      "      <td>1</td>\n",
      "      <td>1</td>\n",
      "      <td>0.0450521147</td>\n",
      "      <td>0</td>\n",
      "      <td>0</td>\n",
      "    </tr>\n",
      "    <tr>\n",
      "      <th>4</th>\n",
      "      <td>1</td>\n",
      "      <td>1</td>\n",
      "      <td>1</td>\n",
      "      <td>0.1907059478</td>\n",
      "      <td>0</td>\n",
      "      <td>0</td>\n",
      "    </tr>\n",
      "    <tr>\n",
      "      <th>5</th>\n",
      "      <td>0</td>\n",
      "      <td>1</td>\n",
      "      <td>0</td>\n",
      "      <td>0.0839170037</td>\n",
      "      <td>0</td>\n",
      "      <td>0</td>\n",
      "    </tr>\n",
      "  </tbody>\n",
      "</table>\n",
      "    </body>\n",
      "</html>\n",
      "\n"
     ]
    }
   ],
   "source": [
    "!cat $path_form"
   ]
  },
  {
   "cell_type": "code",
   "execution_count": 310,
   "id": "58d28614-4afe-4a47-85c8-cb1cee198a9b",
   "metadata": {},
   "outputs": [
    {
     "data": {
      "text/html": [
       "\n",
       "        <iframe\n",
       "            width=\"700\"\n",
       "            height=\"350\"\n",
       "            src=\"../website/templates/form.html\"\n",
       "            frameborder=\"0\"\n",
       "            allowfullscreen\n",
       "            \n",
       "        ></iframe>\n",
       "        "
      ],
      "text/plain": [
       "<IPython.lib.display.IFrame at 0x71ba3874b070>"
      ]
     },
     "execution_count": 310,
     "metadata": {},
     "output_type": "execute_result"
    }
   ],
   "source": [
    "IPython.display.IFrame(path_form, width=700, height=350) "
   ]
  },
  {
   "cell_type": "markdown",
   "id": "5aff3044-23da-4138-a16d-0b1afd80d6bc",
   "metadata": {},
   "source": [
    "#### Résultat\n",
    "Page de résultat de prédiction par l'API du modèle"
   ]
  },
  {
   "cell_type": "code",
   "execution_count": 50,
   "id": "72f423a9-0d2a-4035-b21b-53bd701d4c51",
   "metadata": {},
   "outputs": [],
   "source": [
    "path_result = dir_html + 'result.html'"
   ]
  },
  {
   "cell_type": "code",
   "execution_count": 60,
   "id": "3de854d9-1437-459a-bd0d-67cf5b3447a1",
   "metadata": {},
   "outputs": [],
   "source": [
    "str_result = \\\n",
    "'''\\\n",
    "<!DOCTYPE html>\n",
    "<html lang=\"en\">\n",
    "    <head>\n",
    "        <meta charset=\"UTF-8\">\n",
    "        <link rel=\"stylesheet\" href=\"{{ url_for('static', filename= 'css/style.css') }}\">\n",
    "        <title>ML model API</title>\n",
    "    </head>\n",
    "    <body>\n",
    "       <h1>API du modèle de classification binaire</h1>      \n",
    "       <h2>Page de prédiction du modèle</h2> \n",
    "       <h3>Valeur prédite = {{target_value['predictions']}}</h3>\n",
    "       <p>Pour les valeurs saisies des attributs suivants :</p>\n",
    "       <table>\n",
    "'''"
   ]
  },
  {
   "cell_type": "code",
   "execution_count": 61,
   "id": "536cc9e5-d8b0-464f-9dcf-8f421e21cb25",
   "metadata": {},
   "outputs": [
    {
     "data": {
      "text/plain": [
       "['CODE_GENDER_M',\n",
       " 'NAME_CONTRACT_TYPE_Cash_loans',\n",
       " 'NAME_EDUCATION_TYPE_Lower_secondary',\n",
       " 'EXT_SOURCE_3',\n",
       " 'NAME_EDUCATION_TYPE_Higher_education',\n",
       " 'NAME_EDUCATION_TYPE_Secondary_or_secondary_special']"
      ]
     },
     "execution_count": 61,
     "metadata": {},
     "output_type": "execute_result"
    }
   ],
   "source": [
    "li_features"
   ]
  },
  {
   "cell_type": "code",
   "execution_count": 63,
   "id": "e62486c9-8d60-4ad4-a6e4-757097da428e",
   "metadata": {},
   "outputs": [],
   "source": [
    "def get_div_per_feature(idx, str_feature_i) :\n",
    "    str_div_i = \\\n",
    "    ''' \n",
    "            <tr>\n",
    "                <td>str_feature_i</td><td>{{features['str_feature_i']}}</td>  \n",
    "            </tr> \\\n",
    "    '''\n",
    "    return str_div_i.replace('str_idx',       str(idx))    \\\n",
    "                    .replace('str_feature_i', str_feature_i)                        "
   ]
  },
  {
   "cell_type": "code",
   "execution_count": 64,
   "id": "ded7fed8-baf1-4c0e-bdac-5d5e4a2533bd",
   "metadata": {},
   "outputs": [],
   "source": [
    "for idx, feature_i in enumerate(li_features) :\n",
    "    str_result += get_div_per_feature(idx + 1, feature_i)"
   ]
  },
  {
   "cell_type": "code",
   "execution_count": 65,
   "id": "1a0afce7-482d-47d3-8739-5e3d6dcc70ef",
   "metadata": {},
   "outputs": [],
   "source": [
    "str_result += \\\n",
    "'''\n",
    "       </table>\n",
    "       <br>\n",
    "       <a href=\"/\">Retour à l'accueil</a>\n",
    "       <a href=\"/form/\">Formulaire</a>\n",
    "    </body>\n",
    "</html>\n",
    "'''"
   ]
  },
  {
   "cell_type": "code",
   "execution_count": 66,
   "id": "4903c80f-e220-4632-8329-28812ccd34a2",
   "metadata": {},
   "outputs": [],
   "source": [
    "with open(path_result, \"w\") as file_object:\n",
    "    print(str_result, file=file_object)"
   ]
  },
  {
   "cell_type": "code",
   "execution_count": 67,
   "id": "663b2214-7681-48bd-b03a-8c3c381e9d5c",
   "metadata": {},
   "outputs": [
    {
     "name": "stdout",
     "output_type": "stream",
     "text": [
      "<!DOCTYPE html>\n",
      "<html lang=\"en\">\n",
      "    <head>\n",
      "        <meta charset=\"UTF-8\">\n",
      "        <link rel=\"stylesheet\" href=\"{{ url_for('static', filename= 'css/style.css') }}\">\n",
      "        <title>ML model API</title>\n",
      "    </head>\n",
      "    <body>\n",
      "       <h1>API du modèle de classification binaire</h1>      \n",
      "       <h2>Page de prédiction du modèle</h2> \n",
      "       <h3>Valeur prédite = {{target_value['predictions']}}</h3>\n",
      "       <p>Pour les valeurs saisies des attributs suivants :</p>\n",
      "       <table>\n",
      " \n",
      "            <tr>\n",
      "                <td>CODE_GENDER_M</td><td>{{features['CODE_GENDER_M']}}</td>  \n",
      "            </tr>      \n",
      "            <tr>\n",
      "                <td>NAME_CONTRACT_TYPE_Cash_loans</td><td>{{features['NAME_CONTRACT_TYPE_Cash_loans']}}</td>  \n",
      "            </tr>      \n",
      "            <tr>\n",
      "                <td>NAME_EDUCATION_TYPE_Lower_secondary</td><td>{{features['NAME_EDUCATION_TYPE_Lower_secondary']}}</td>  \n",
      "            </tr>      \n",
      "            <tr>\n",
      "                <td>EXT_SOURCE_3</td><td>{{features['EXT_SOURCE_3']}}</td>  \n",
      "            </tr>      \n",
      "            <tr>\n",
      "                <td>NAME_EDUCATION_TYPE_Higher_education</td><td>{{features['NAME_EDUCATION_TYPE_Higher_education']}}</td>  \n",
      "            </tr>      \n",
      "            <tr>\n",
      "                <td>NAME_EDUCATION_TYPE_Secondary_or_secondary_special</td><td>{{features['NAME_EDUCATION_TYPE_Secondary_or_secondary_special']}}</td>  \n",
      "            </tr>     \n",
      "       </table>\n",
      "       <br>\n",
      "       <a href=\"/\">Retour à l'accueil</a>\n",
      "       <a href=\"/form/\">Formulaire</a>\n",
      "    </body>\n",
      "</html>\n",
      "\n"
     ]
    }
   ],
   "source": [
    "!cat $path_result"
   ]
  },
  {
   "cell_type": "code",
   "execution_count": 68,
   "id": "4d7e1047-60a5-4a04-a2eb-bd9e202a7860",
   "metadata": {},
   "outputs": [
    {
     "data": {
      "text/html": [
       "\n",
       "        <iframe\n",
       "            width=\"700\"\n",
       "            height=\"350\"\n",
       "            src=\"../website/templates/result.html\"\n",
       "            frameborder=\"0\"\n",
       "            allowfullscreen\n",
       "            \n",
       "        ></iframe>\n",
       "        "
      ],
      "text/plain": [
       "<IPython.lib.display.IFrame at 0x71ba4f6311e0>"
      ]
     },
     "execution_count": 68,
     "metadata": {},
     "output_type": "execute_result"
    }
   ],
   "source": [
    "IPython.display.IFrame(path_result, width=700, height=350) "
   ]
  },
  {
   "cell_type": "markdown",
   "id": "8998fae1-d803-4e55-b892-365e9629a812",
   "metadata": {},
   "source": [
    "#### Style"
   ]
  },
  {
   "cell_type": "code",
   "execution_count": 10,
   "id": "de8334de-7652-489d-8e71-b80ffb741b2d",
   "metadata": {},
   "outputs": [],
   "source": [
    "dir_style = './static/css/'"
   ]
  },
  {
   "cell_type": "code",
   "execution_count": 11,
   "id": "8ab6e006-fd0b-4b8e-8eb5-b5d9935e6428",
   "metadata": {},
   "outputs": [
    {
     "name": "stdout",
     "output_type": "stream",
     "text": [
      "\n",
      "h1 {\n",
      "    border: 2px #eee solid;\n",
      "    color: brown;\n",
      "    text-align: center;\n",
      "    padding: 10px;\n",
      "}\n",
      "\n"
     ]
    }
   ],
   "source": [
    "file_style = dir_style + 'style.css'\n",
    "!cat $file_style"
   ]
  },
  {
   "cell_type": "markdown",
   "id": "308cb3a4-ff78-48e7-b43c-b07c1342ec41",
   "metadata": {},
   "source": [
    "### Fichiers _Python_"
   ]
  },
  {
   "cell_type": "markdown",
   "id": "9f8d70b0-3989-40c6-8eb9-12ea5b96ed74",
   "metadata": {},
   "source": [
    "#### Routeur Web  \n",
    "Un fichier en Pyhton couvre la gestion REST"
   ]
  },
  {
   "cell_type": "code",
   "execution_count": 27,
   "id": "3d40dc06-8931-4b60-99a7-59379f679f1d",
   "metadata": {},
   "outputs": [
    {
     "name": "stdout",
     "output_type": "stream",
     "text": [
      "from flask import Flask, render_template, request\n",
      "import requests\n",
      "import json\n",
      "import subprocess\n",
      " \n",
      "def run_shell(command):\n",
      "    shell_process = subprocess.run([command], shell=True, capture_output=True, text=True)\n",
      "    return str(shell_process.stdout) + str(shell_process.stderr)\n",
      "def pull():\n",
      "    dir_root = '/home/azureuser/project_7/'\n",
      "    str_command_pull = 'cd ' + dir_root + ' ; git pull origin main'\n",
      "    str_output = run_shell(str_command_pull)\n",
      "    return 'Git Pull Model:===============\\n' + str_output\n",
      "def restart(str_environment) : \n",
      "    if str_environment == 'staging'    : dir_model, port = '../api/staging_model/',    '5677'\n",
      "    if str_environment == 'production' : dir_model, port = '../api/production_model/', '5678' \n",
      "    str_command_serve = 'mlflow models serve -m ' + dir_model + ' -p ' + port + ' -h 0.0.0.0 --no-conda &'\n",
      "    str_command_ps = 'ps aux | grep  \":' + port + '\" | grep -v grep | awk \\'{print $2, $15, $19}\\' '\n",
      "    str_output = 'Process BEFORE Restart:\\n'                    # check process BEFORE restart\n",
      "    str_output += run_shell(str_command_ps)\n",
      "    run_shell('pkill -f \":' + port + '\" ; sleep 1')     # RESTART\n",
      "    subprocess.Popen(str_command_serve, start_new_session=True, shell=True)\n",
      "    str_output += 'Process AFTER Restart:\\n'                    # check process AFTER restart\n",
      "    str_output += run_shell('sleep 4 ; ' + str_command_ps)\n",
      "    return 'Restart Server:===============\\n' + str_output\n",
      "def copy_model():\n",
      "    str_command_cp = 'cp -rf ../api/staging_model/* ../api/production_model/ ; echo $?'\n",
      "    str_output = run_shell(str_command_cp)\n",
      "    return str_output\n",
      "\n",
      "# WebApp Router\n",
      "app = Flask(__name__)                                     \n",
      "\n",
      "@app.route('/')                                           # Route Index\n",
      "def index(): return render_template('index.html')         # renders HTML as string\n",
      "\n",
      "@app.route('/form/')                                      # Route Form\n",
      "def form(): return render_template('form.html')\n",
      "\n",
      "@app.route('/result/', methods=['POST'])                  # Route Result (API prediction)\n",
      "def result():    \n",
      "    dict_features = request.form.to_dict(flat=False) #{port:[5678],umap_x:[.3],umap_y:[.3]}\n",
      "    port = dict_features.pop('port')[0]\n",
      "    req_post = requests.post(   url     = 'http://localhost:' + str(port) + '/invocations', \n",
      "                                headers = {'Content-Type': 'application/json'}, \n",
      "                                data    = json.dumps({'inputs': dict_features}) )\n",
      "    dict_prediction = json.loads(req_post.text)     #{predictions:[1]}\n",
      "    return render_template('result.html', port=port, features=dict_features, target_value=dict_prediction)\n",
      "\n",
      "@app.route('/deploy_to_staging/')                         # Deploys to Staging\n",
      "def deploy_staging():\n",
      "    str_output  = pull()                                        # phase_1 git pull model\n",
      "    str_output += restart('staging')                            # phase_2 restart model server\n",
      "    return str_output\n",
      "\n",
      "@app.route('/deploy_to_production/')                      # Deploys to Production\n",
      "def deploy_production():\n",
      "    str_output  = 'Copy Model from Staging to Production:===================\\n' \n",
      "    str_return_code = copy_model()                              # phase_1 copy model\n",
      "    if str_return_code == '0\\n' :\n",
      "        str_output += 'OK: Model copied\\n'\n",
      "        str_output += restart('production')                     # phase_2 restart model server\n",
      "    else : \n",
      "        str_output += 'ERROR: Model could NOT be copied'\n",
      "    return str_output\n"
     ]
    }
   ],
   "source": [
    "web_router = dir_website + 'web_router.py'\n",
    "!cat $web_router"
   ]
  },
  {
   "cell_type": "markdown",
   "id": "d75796a7-af40-4264-9ad3-1676162306f6",
   "metadata": {},
   "source": [
    "## Serveur _Web_"
   ]
  },
  {
   "cell_type": "markdown",
   "id": "000102ee-8521-4bdd-a8fc-fac5dbe71389",
   "metadata": {},
   "source": [
    "<a id=\"web_server\"></a>\n",
    "<hr>"
   ]
  },
  {
   "cell_type": "markdown",
   "id": "39af3bae-4dd7-4321-b3a7-2073fc46760c",
   "metadata": {},
   "source": [
    "### Lancement"
   ]
  },
  {
   "cell_type": "code",
   "execution_count": 69,
   "id": "17d7da02-8e8b-49e9-b0ba-a9f4eb35bfd2",
   "metadata": {},
   "outputs": [],
   "source": [
    "shell_command = 'flask --app $web_router run -h 0.0.0.0 -p 6543 --debug > ./flask_app.log 2>&1 &'\n",
    "get_ipython().system_raw(shell_command) # run model API in background"
   ]
  },
  {
   "cell_type": "markdown",
   "id": "0edfe70c-38eb-4a07-8940-cd0c5a5d0a15",
   "metadata": {},
   "source": [
    "### Vérifications\n",
    "#### Log"
   ]
  },
  {
   "cell_type": "code",
   "execution_count": 70,
   "id": "9b358db9-17fe-462b-b14c-54c93dabcf44",
   "metadata": {},
   "outputs": [
    {
     "name": "stdout",
     "output_type": "stream",
     "text": [
      " * Serving Flask app '../website/web_router.py'\n",
      " * Debug mode: on\n",
      "\u001b[31m\u001b[1mWARNING: This is a development server. Do not use it in a production deployment. Use a production WSGI server instead.\u001b[0m\n",
      " * Running on all addresses (0.0.0.0)\n",
      " * Running on http://127.0.0.1:6543\n",
      " * Running on http://10.0.0.4:6543\n",
      "\u001b[33mPress CTRL+C to quit\u001b[0m\n",
      " * Restarting with stat\n",
      " * Debugger is active!\n",
      " * Debugger PIN: 437-268-997\n"
     ]
    }
   ],
   "source": [
    "!tail ./flask_app.log"
   ]
  },
  {
   "cell_type": "markdown",
   "id": "50f6d070-6b27-48fa-a9ac-8647adb61ff2",
   "metadata": {},
   "source": [
    "#### Processus\n",
    "Liste des processus"
   ]
  },
  {
   "cell_type": "code",
   "execution_count": 71,
   "id": "ff10b483-b694-4035-93df-c1b29338fbf4",
   "metadata": {},
   "outputs": [
    {
     "name": "stdout",
     "output_type": "stream",
     "text": [
      "azureus+  267805  6.0  0.9  37652 31896 ?        S    22:25   0:00 /home/azureuser/environments_folder/my_env/bin/python3 /home/azureuser/environments_folder/my_env/bin/flask --app ../website/web_router.py run -h 0.0.0.0 -p 6543 --debug\n",
      "azureus+  267806  6.7  0.9 111384 31640 ?        Sl   22:25   0:00 /home/azureuser/environments_folder/my_env/bin/python3 /home/azureuser/environments_folder/my_env/bin/flask --app ../website/web_router.py run -h 0.0.0.0 -p 6543 --debug\n"
     ]
    }
   ],
   "source": [
    "li_ps = !ps aux | grep \"flask\" | grep -v \"grep\" | awk '{print $2}' \n",
    "!ps aux | grep \"flask\" | grep -v \"grep\" "
   ]
  },
  {
   "cell_type": "markdown",
   "id": "af70c01a-d789-4251-82bc-1177e2aa00d5",
   "metadata": {},
   "source": [
    "Arrêt des processus"
   ]
  },
  {
   "cell_type": "code",
   "execution_count": 62,
   "id": "e387ec28-455d-457a-be76-88cf3d71d6c5",
   "metadata": {},
   "outputs": [],
   "source": [
    "for ps_i in li_ps : \n",
    "    #!kill -9 $ps_i"
   ]
  }
 ],
 "metadata": {
  "kernelspec": {
   "display_name": "Python 3 (ipykernel)",
   "language": "python",
   "name": "python3"
  },
  "language_info": {
   "codemirror_mode": {
    "name": "ipython",
    "version": 3
   },
   "file_extension": ".py",
   "mimetype": "text/x-python",
   "name": "python",
   "nbconvert_exporter": "python",
   "pygments_lexer": "ipython3",
   "version": "3.10.12"
  }
 },
 "nbformat": 4,
 "nbformat_minor": 5
}

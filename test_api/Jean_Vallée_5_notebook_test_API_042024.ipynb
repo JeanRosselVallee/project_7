{
 "cells": [
  {
   "cell_type": "markdown",
   "id": "1eeaf919-cbc9-493f-99ac-855ad61fdc56",
   "metadata": {},
   "source": [
    "<center>\n",
    "  <font size=\"7\">Tests unitaires de l'API</font><br>\n",
    "  <font size=\"5\">Projet 7 - Implémentez un modèle de scoring</font>\n",
    "</center>\n",
    "<div align=\"right\">\n",
    "  <font size=\"4\"><i>par Jean Vallée</i></font>\n",
    "</div>"
   ]
  },
  {
   "cell_type": "markdown",
   "id": "ca6ac2bb-81e9-43e8-be39-c2edd9522e9e",
   "metadata": {},
   "source": [
    "<hr size=5>"
   ]
  },
  {
   "cell_type": "markdown",
   "id": "6d56313f-5654-4ce4-a87d-a8afcfa427ae",
   "metadata": {},
   "source": [
    "# Scénario de test unitaire \n",
    "Vu qu'il s'agit d'un modèle de classification binaire, le test unitaire consistera à :\n",
    "- faire prédire la variable cible par l'API du modèle \n",
    "- fournir au modèle les valeurs des attributs via un formulaire\n",
    "\n",
    "Le micro-framework Web léger [_Flask_](https://flask.palletsprojects.com/en/3.0.x/quickstart/) prend en charge la gestion de requêtes et réponses REST. Cf. section [Serveur Web](#web_server)"
   ]
  },
  {
   "cell_type": "code",
   "execution_count": 41,
   "id": "1ec03448-25df-4418-b232-aaa3a5bdb1f2",
   "metadata": {},
   "outputs": [],
   "source": [
    "import pandas as pd\n",
    "import json\n",
    "with open('../config.json') as file_object:\n",
    "    dict_config = json.load(file_object)"
   ]
  },
  {
   "cell_type": "markdown",
   "id": "0559d3b1-26c3-4694-8848-ff52e1e24511",
   "metadata": {},
   "source": [
    "# Tests avec _pytest_"
   ]
  },
  {
   "cell_type": "markdown",
   "id": "12d4a3ec-c026-4be3-8726-fcca5f2100cb",
   "metadata": {},
   "source": [
    "## Installation de _pytest_"
   ]
  },
  {
   "cell_type": "code",
   "execution_count": 43,
   "id": "7ee86a1b-e683-4d4c-8a6a-63be9b94b282",
   "metadata": {},
   "outputs": [
    {
     "name": "stdout",
     "output_type": "stream",
     "text": [
      "Requirement already satisfied: pytest in /home/user_n/anaconda3/envs/env_proj_7/lib/python3.10/site-packages (8.2.2)\n",
      "Requirement already satisfied: iniconfig in /home/user_n/anaconda3/envs/env_proj_7/lib/python3.10/site-packages (from pytest) (2.0.0)\n",
      "Requirement already satisfied: packaging in /home/user_n/anaconda3/envs/env_proj_7/lib/python3.10/site-packages (from pytest) (23.2)\n",
      "Requirement already satisfied: pluggy<2.0,>=1.5 in /home/user_n/anaconda3/envs/env_proj_7/lib/python3.10/site-packages (from pytest) (1.5.0)\n",
      "Requirement already satisfied: exceptiongroup>=1.0.0rc8 in /home/user_n/anaconda3/envs/env_proj_7/lib/python3.10/site-packages (from pytest) (1.2.1)\n",
      "Requirement already satisfied: tomli>=1 in /home/user_n/anaconda3/envs/env_proj_7/lib/python3.10/site-packages (from pytest) (2.0.1)\n"
     ]
    }
   ],
   "source": [
    "! pip install pytest"
   ]
  },
  {
   "cell_type": "markdown",
   "id": "95743095-ba3a-4fd6-98c7-f335d9b97c05",
   "metadata": {},
   "source": [
    "## Catalogue de tests\n",
    "Des fichiers sont écrits depuis ce _Noteboook_ pour faciliter les mises à jour des paramètres de connexion tels que l'adresse et le port d'un serveur, par exemple "
   ]
  },
  {
   "cell_type": "markdown",
   "id": "8b64cf12-8980-4a2e-86b1-1dd73504fa96",
   "metadata": {},
   "source": [
    "### Test 1 de connexion et du format\n",
    "Test de connexion au serveur et de vérification du format des données en entrée"
   ]
  },
  {
   "cell_type": "code",
   "execution_count": 246,
   "id": "95bef1e7-0e91-451b-b63e-8cdf9def5f6b",
   "metadata": {},
   "outputs": [],
   "source": [
    "dir_test_data = '../test_api/data/'\n",
    "path_test_1 = './test_1.py'"
   ]
  },
  {
   "cell_type": "markdown",
   "id": "942bb4e4-6184-4189-a0f8-e7b428210a51",
   "metadata": {},
   "source": [
    "#### Paramètres de connexion"
   ]
  },
  {
   "cell_type": "code",
   "execution_count": 247,
   "id": "4ff9fc9b-1965-4fb2-8ff4-1303868675c8",
   "metadata": {},
   "outputs": [],
   "source": [
    "ip_server           = dict_config['ip_host']\n",
    "port_staging_server = dict_config['port_staging']\n",
    "url_staging_server  = ip_server + ':' + port_staging_server + '/invocations'"
   ]
  },
  {
   "cell_type": "markdown",
   "id": "c0c20a1c-55a7-4035-9ac8-df9966514410",
   "metadata": {},
   "source": [
    "#### Vérification de connexion"
   ]
  },
  {
   "cell_type": "code",
   "execution_count": 248,
   "id": "3c10b569-5815-4408-9874-f72dc01e91d3",
   "metadata": {},
   "outputs": [
    {
     "name": "stdout",
     "output_type": "stream",
     "text": [
      "*   Trying 4.233.201.217:5677...\n",
      "* TCP_NODELAY set\n",
      "* Connected to 4.233.201.217 (4.233.201.217) port 5677 (#0)\n",
      "> GET /version HTTP/1.1\n",
      "> Host: 4.233.201.217:5677\n",
      "> User-Agent: curl/7.68.0\n",
      "> Accept: */*\n",
      "> \n",
      "* Mark bundle as not supporting multiuse\n",
      "< HTTP/1.1 200 OK\n",
      "< Server: gunicorn\n",
      "< Date: Tue, 25 Jun 2024 11:21:42 GMT\n",
      "< Connection: close\n",
      "< Content-Type: application/json\n",
      "< Content-Length: 6\n",
      "< \n",
      "* Closing connection 0\n",
      "2.14.1"
     ]
    }
   ],
   "source": [
    "! curl -v \"http://4.233.201.217:5677/version\" "
   ]
  },
  {
   "cell_type": "markdown",
   "id": "5cfa3554-2be5-43e8-b402-f56b2354b19b",
   "metadata": {},
   "source": [
    "#### Contenu de _test_1.py_"
   ]
  },
  {
   "cell_type": "code",
   "execution_count": 249,
   "id": "015a044b-9854-426b-97a5-4c9522f8974a",
   "metadata": {},
   "outputs": [],
   "source": [
    "str_test_1 = \\\n",
    "'''\\\n",
    "import requests\n",
    "def test_connection():    \n",
    "    print('__________Connection to API Server_____________')\n",
    "    req_post = requests.post(   url     = 'http://ip_server:port_server/invocations', \n",
    "                                headers = {'Content-Type': 'application/json'}, \n",
    "                                data    = '{\"dataframe_split\": str_dataframe_split }' )\n",
    "    # Evaluation of response\n",
    "    is_connected = req_post.ok\n",
    "    if is_connected : print('OK : Connected to API Server & validated input format')\n",
    "    assert is_connected\n",
    "'''"
   ]
  },
  {
   "cell_type": "markdown",
   "id": "3005c905-9649-4138-85e9-d483e319f698",
   "metadata": {},
   "source": [
    "**Mise à jour du contenu**\n",
    "\n",
    "On remplace les chaînes de caractères avec les valeurs des variables :\n",
    "- 1. Connexion au serveur via requête POST "
   ]
  },
  {
   "cell_type": "code",
   "execution_count": 250,
   "id": "03547ded-9e15-43cd-a4b7-b3c9fbbc8b8b",
   "metadata": {},
   "outputs": [],
   "source": [
    "str_test_1 = str_test_1 .replace('ip_server',   ip_server) \\\n",
    "                        .replace('port_server', port_staging_server)"
   ]
  },
  {
   "cell_type": "markdown",
   "id": "5754575b-043c-44b9-a7a0-77115aea87b1",
   "metadata": {},
   "source": [
    "- 2. Données avec un format valide (cf. [Deploy MLflow Model](https://mlflow.org/docs/latest/deployment/deploy-model-locally.html))"
   ]
  },
  {
   "cell_type": "code",
   "execution_count": 251,
   "id": "1d334794-44e9-4a17-9a25-ca1236e1c8d1",
   "metadata": {},
   "outputs": [
    {
     "data": {
      "text/plain": [
       "'{\"index\": [0], \"columns\": [\"NAME_EDUCATION_TYPE_Higher_education\", \"EXT_SOURCE_3\", \"EXT_SOURCE_2\", \"CODE_GENDER_M\", \"NAME_EDUCATION_TYPE_Secondary_or_secondary_special\", \"NAME_CONTRACT_TYPE_Cash_loans\", \"NAME_INCOME_TYPE_Working\"], \"data\": [[0, 0.5638350489514956, 0.3058183171273599, 0, 1, 1, 1]]}'"
      ]
     },
     "execution_count": 251,
     "metadata": {},
     "output_type": "execute_result"
    }
   ],
   "source": [
    "path_TP = '../modeling/data/out/X_TP.csv'   # True Positives dataset\n",
    "df_TP = pd.read_csv(path_TP)\n",
    "df_TP_sample_1 = df_TP.head(1)\n",
    "str_dataframe_split = str(df_TP_sample_1.to_dict(orient=\"split\")).replace(\"'\", '\"')\n",
    "str_dataframe_split"
   ]
  },
  {
   "cell_type": "code",
   "execution_count": 252,
   "id": "f61c8d03-3325-4e18-b07b-bdc3a52a2b90",
   "metadata": {},
   "outputs": [],
   "source": [
    "str_test_1 = str_test_1.replace('str_dataframe_split', str_dataframe_split)"
   ]
  },
  {
   "cell_type": "markdown",
   "id": "10ac6ae7-27a0-40f2-8570-06811df795fc",
   "metadata": {},
   "source": [
    "**Création du fichier**"
   ]
  },
  {
   "cell_type": "code",
   "execution_count": 253,
   "id": "bd42a0d0-c7b5-46ec-9081-223b67bc481a",
   "metadata": {},
   "outputs": [],
   "source": [
    "with open(path_test_1, \"w\") as file_object:\n",
    "    print(str_test_1, file=file_object)"
   ]
  },
  {
   "cell_type": "code",
   "execution_count": 254,
   "id": "c7d2bcde-a995-4517-b050-0f02285c179a",
   "metadata": {},
   "outputs": [
    {
     "name": "stdout",
     "output_type": "stream",
     "text": [
      "import requests\n",
      "def test_connection():    \n",
      "    print('__________Connection to API Server_____________')\n",
      "    req_post = requests.post(   url     = 'http://4.233.201.217:5677/invocations', \n",
      "                                headers = {'Content-Type': 'application/json'}, \n",
      "                                data    = '{\"dataframe_split\": {\"index\": [0], \"columns\": [\"NAME_EDUCATION_TYPE_Higher_education\", \"EXT_SOURCE_3\", \"EXT_SOURCE_2\", \"CODE_GENDER_M\", \"NAME_EDUCATION_TYPE_Secondary_or_secondary_special\", \"NAME_CONTRACT_TYPE_Cash_loans\", \"NAME_INCOME_TYPE_Working\"], \"data\": [[0, 0.5638350489514956, 0.3058183171273599, 0, 1, 1, 1]]} }' )\n",
      "    # Evaluation of response\n",
      "    is_connected = req_post.ok\n",
      "    if is_connected : print('OK : Connected to API Server & validated input format')\n",
      "    assert is_connected\n",
      "\n"
     ]
    }
   ],
   "source": [
    "!cat $path_test_1"
   ]
  },
  {
   "cell_type": "markdown",
   "id": "46d47826-eec5-4fb6-a97b-71b489ffdd7a",
   "metadata": {},
   "source": [
    "### Test 2 de prédiction\n",
    "Comparaison des prédictions sur un jeu de 3 observations sensées être de classe 1"
   ]
  },
  {
   "cell_type": "code",
   "execution_count": 23,
   "id": "2b7bca73-64cb-4080-afb0-a184d22abee6",
   "metadata": {},
   "outputs": [],
   "source": [
    "path_test_2 = './test_2.py'"
   ]
  },
  {
   "cell_type": "code",
   "execution_count": 433,
   "id": "a798f79c-2cb5-4f09-aca8-4b3d97c418ee",
   "metadata": {},
   "outputs": [],
   "source": [
    "str_test_2 = \\\n",
    "'''\n",
    "import requests\n",
    "import pandas as pd\n",
    "import json\n",
    "\n",
    "def test_predict():\n",
    "    dict_inputs = str_dataframe_split                     # input observations      \n",
    "    df_result_grid = pd.DataFrame(data=dict_inputs['data'], columns=dict_inputs['columns'])\n",
    "    df_result_grid['target'] = str_li_targets      # expected output\n",
    "\n",
    "    # Send input data to prediction API via POST request \n",
    "    req_post = requests.post(   url     = 'http://ip_server:port_server/invocations', \n",
    "                                headers = {'Content-Type': 'application/json'}, \n",
    "                                data    = '{\"dataframe_split\": str_dataframe_split }' )\n",
    "    \n",
    "    dict_predicted = json.loads(req_post.text)  # output predictions {'predictions': [1, 1, 1]}\n",
    "    df_result_grid['prediction'] = dict_predicted['predictions']\n",
    "    print(df_result_grid.round(3).T)            # results as pandas\n",
    "\n",
    "    # Compare predicted vs. expected values\n",
    "    assert df_result_grid['prediction'].equals(df_result_grid['target'])\n",
    "'''"
   ]
  },
  {
   "cell_type": "markdown",
   "id": "c42a8210-d26c-480f-b698-6693292d69f7",
   "metadata": {},
   "source": [
    "**Mise à jour du contenu**\n",
    "\n",
    "On remplace les chaînes de caractères avec les valeurs des variables :\n",
    "- 1. Connexion au serveur via requête POST "
   ]
  },
  {
   "cell_type": "code",
   "execution_count": 434,
   "id": "ad1a7195-70a1-4ed5-af02-71bfdb87a1d6",
   "metadata": {},
   "outputs": [],
   "source": [
    "str_test_2 = str_test_2 .replace('ip_server',   ip_server) \\\n",
    "                        .replace('port_server', port_staging_server)"
   ]
  },
  {
   "cell_type": "markdown",
   "id": "0d0a9996-8335-4be7-9535-4d110b576823",
   "metadata": {},
   "source": [
    "- 2. Jeu de 3 observations"
   ]
  },
  {
   "cell_type": "code",
   "execution_count": 435,
   "id": "afd11593-2380-4849-9334-01632e5a79cc",
   "metadata": {},
   "outputs": [
    {
     "data": {
      "text/plain": [
       "'{\"index\": [2582, 2583, 2584], \"columns\": [\"NAME_EDUCATION_TYPE_Higher_education\", \"EXT_SOURCE_3\", \"EXT_SOURCE_2\", \"CODE_GENDER_M\", \"NAME_EDUCATION_TYPE_Secondary_or_secondary_special\", \"NAME_CONTRACT_TYPE_Cash_loans\", \"NAME_INCOME_TYPE_Working\"], \"data\": [[0, 0.3944954053123993, 0.2731892846252296, 0, 1, 1, 1], [0, 0.1566398270314114, 0.5342365946929042, 1, 1, 1, 0], [0, 0.1176137317080569, 0.4562911010223129, 0, 1, 1, 0]]}'"
      ]
     },
     "execution_count": 435,
     "metadata": {},
     "output_type": "execute_result"
    }
   ],
   "source": [
    "nb_observations = 3\n",
    "path_TP = '../modeling/data/out/X_TP.csv'   # True Positives dataset\n",
    "df_TP = pd.read_csv(path_TP)\n",
    "df_TP_sample_N = df_TP.tail(nb_observations)\n",
    "str_dataframe_split = str(df_TP_sample_N.to_dict(orient=\"split\")).replace(\"'\", '\"')\n",
    "str_dataframe_split"
   ]
  },
  {
   "cell_type": "code",
   "execution_count": 436,
   "id": "881c37c5-9368-49e5-a37c-3ebdc5845104",
   "metadata": {},
   "outputs": [],
   "source": [
    "str_test_2 = str_test_2.replace('str_dataframe_split', str_dataframe_split)"
   ]
  },
  {
   "cell_type": "markdown",
   "id": "f96da43b-7d5b-4d87-92ac-1876c3e26459",
   "metadata": {},
   "source": [
    "- 3. Cibles attendues"
   ]
  },
  {
   "cell_type": "code",
   "execution_count": 437,
   "id": "b9a82abe-2bcb-4d87-8902-124eb37a3c16",
   "metadata": {},
   "outputs": [
    {
     "data": {
      "text/plain": [
       "'[1, 1, 1]'"
      ]
     },
     "execution_count": 437,
     "metadata": {},
     "output_type": "execute_result"
    }
   ],
   "source": [
    "li_targets = [1] * nb_observations\n",
    "str_li_targets = str(li_targets)\n",
    "str_li_targets"
   ]
  },
  {
   "cell_type": "code",
   "execution_count": 438,
   "id": "bb9293e2-5145-4f8e-ba5c-8232eb2f8e9e",
   "metadata": {},
   "outputs": [],
   "source": [
    "str_test_2 = str_test_2 .replace('str_li_targets', str_li_targets)"
   ]
  },
  {
   "cell_type": "markdown",
   "id": "d8a33d06-16a5-4379-8a1a-fae073a1decf",
   "metadata": {},
   "source": [
    "**Création du fichier**"
   ]
  },
  {
   "cell_type": "code",
   "execution_count": 439,
   "id": "404b0f3b-c851-4339-b051-5ba4d01cdcf9",
   "metadata": {},
   "outputs": [],
   "source": [
    "with open(path_test_2, \"w\") as file_object:\n",
    "    print(str_test_2, file=file_object)"
   ]
  },
  {
   "cell_type": "code",
   "execution_count": 440,
   "id": "1d413b40-8860-443c-91ff-74a0bfaf1a23",
   "metadata": {},
   "outputs": [
    {
     "name": "stdout",
     "output_type": "stream",
     "text": [
      "\n",
      "import requests\n",
      "import pandas as pd\n",
      "import json\n",
      "\n",
      "def test_predict():\n",
      "    dict_inputs = {\"index\": [2582, 2583, 2584], \"columns\": [\"NAME_EDUCATION_TYPE_Higher_education\", \"EXT_SOURCE_3\", \"EXT_SOURCE_2\", \"CODE_GENDER_M\", \"NAME_EDUCATION_TYPE_Secondary_or_secondary_special\", \"NAME_CONTRACT_TYPE_Cash_loans\", \"NAME_INCOME_TYPE_Working\"], \"data\": [[0, 0.3944954053123993, 0.2731892846252296, 0, 1, 1, 1], [0, 0.1566398270314114, 0.5342365946929042, 1, 1, 1, 0], [0, 0.1176137317080569, 0.4562911010223129, 0, 1, 1, 0]]}                     # input observations      \n",
      "    df_result_grid = pd.DataFrame(data=dict_inputs['data'], columns=dict_inputs['columns'])\n",
      "    df_result_grid['target'] = [1, 1, 1]      # expected output\n",
      "\n",
      "    # Send input data to prediction API via POST request \n",
      "    req_post = requests.post(   url     = 'http://4.233.201.217:5677/invocations', \n",
      "                                headers = {'Content-Type': 'application/json'}, \n",
      "                                data    = '{\"dataframe_split\": {\"index\": [2582, 2583, 2584], \"columns\": [\"NAME_EDUCATION_TYPE_Higher_education\", \"EXT_SOURCE_3\", \"EXT_SOURCE_2\", \"CODE_GENDER_M\", \"NAME_EDUCATION_TYPE_Secondary_or_secondary_special\", \"NAME_CONTRACT_TYPE_Cash_loans\", \"NAME_INCOME_TYPE_Working\"], \"data\": [[0, 0.3944954053123993, 0.2731892846252296, 0, 1, 1, 1], [0, 0.1566398270314114, 0.5342365946929042, 1, 1, 1, 0], [0, 0.1176137317080569, 0.4562911010223129, 0, 1, 1, 0]]} }' )\n",
      "    \n",
      "    dict_predicted = json.loads(req_post.text)  # output predictions {'predictions': [1, 1, 1]}\n",
      "    df_result_grid['prediction'] = dict_predicted['predictions']\n",
      "    print(df_result_grid.round(3).T)            # results as pandas\n",
      "\n",
      "    # Compare predicted vs. expected values\n",
      "    assert df_result_grid['prediction'].equals(df_result_grid['target'])\n",
      "\n"
     ]
    }
   ],
   "source": [
    "!cat $path_test_2"
   ]
  },
  {
   "cell_type": "markdown",
   "id": "391fc9f1-9d82-46e8-b699-e35c78b75d80",
   "metadata": {},
   "source": [
    "## Exécution et résultats des tests"
   ]
  },
  {
   "cell_type": "code",
   "execution_count": 441,
   "id": "2791b555-b814-4b48-a03b-91092b05785a",
   "metadata": {},
   "outputs": [
    {
     "name": "stdout",
     "output_type": "stream",
     "text": [
      "\u001b[1m============================= test session starts ==============================\u001b[0m\n",
      "platform linux -- Python 3.10.12, pytest-8.2.2, pluggy-1.5.0\n",
      "rootdir: /home/user_n/Documents/Dev/git/project_7/test_api\n",
      "plugins: anyio-4.4.0, Faker-25.9.1\n",
      "collected 2 items                                                              \u001b[0m\n",
      "\n",
      "test_1.py \u001b[32m.\u001b[0m\u001b[32m                                                              [ 50%]\u001b[0m\n",
      "test_2.py \u001b[32m.\u001b[0m\u001b[32m                                                              [100%]\u001b[0m\n",
      "\n",
      "==================================== PASSES ====================================\n",
      "\u001b[32m\u001b[1m_______________________________ test_connection ________________________________\u001b[0m\n",
      "----------------------------- Captured stdout call -----------------------------\n",
      "__________Connection to API Server_____________\n",
      "OK : Connected to API Server & validated input format\n",
      "\u001b[32m\u001b[1m_________________________________ test_predict _________________________________\u001b[0m\n",
      "----------------------------- Captured stdout call -----------------------------\n",
      "                                                        0      1      2\n",
      "NAME_EDUCATION_TYPE_Higher_education                0.000  0.000  0.000\n",
      "EXT_SOURCE_3                                        0.394  0.157  0.118\n",
      "EXT_SOURCE_2                                        0.273  0.534  0.456\n",
      "CODE_GENDER_M                                       0.000  1.000  0.000\n",
      "NAME_EDUCATION_TYPE_Secondary_or_secondary_special  1.000  1.000  1.000\n",
      "NAME_CONTRACT_TYPE_Cash_loans                       1.000  1.000  1.000\n",
      "NAME_INCOME_TYPE_Working                            1.000  0.000  0.000\n",
      "target                                              1.000  1.000  1.000\n",
      "prediction                                          1.000  1.000  1.000\n",
      "\u001b[36m\u001b[1m=========================== short test summary info ============================\u001b[0m\n",
      "\u001b[32mPASSED\u001b[0m test_1.py::\u001b[1mtest_connection\u001b[0m\n",
      "\u001b[32mPASSED\u001b[0m test_2.py::\u001b[1mtest_predict\u001b[0m\n",
      "\u001b[32m============================== \u001b[32m\u001b[1m2 passed\u001b[0m\u001b[32m in 0.71s\u001b[0m\u001b[32m ===============================\u001b[0m\n"
     ]
    }
   ],
   "source": [
    "!python -m pytest --import-mode=append -rA ../test_api/"
   ]
  },
  {
   "cell_type": "markdown",
   "id": "bfedbc2f-8323-475c-98f4-795952f6cc63",
   "metadata": {},
   "source": [
    "**Observation** : les résultats des tests unitaires sont positifs"
   ]
  },
  {
   "cell_type": "markdown",
   "id": "cb83ff97-695a-4cfd-975e-6bd61797e64a",
   "metadata": {},
   "source": [
    "# Tests via _curl_"
   ]
  },
  {
   "cell_type": "code",
   "execution_count": 442,
   "id": "63c865b0-6b11-45fb-9f0d-98f4d6f5ac1a",
   "metadata": {},
   "outputs": [],
   "source": [
    "import subprocess"
   ]
  },
  {
   "cell_type": "markdown",
   "id": "0473b650-a63d-4abd-83a8-7761fdbe3db8",
   "metadata": {},
   "source": [
    "Récupération de la liste d'attributs"
   ]
  },
  {
   "cell_type": "code",
   "execution_count": 443,
   "id": "6baa8569-f85d-4570-9461-7e99c953afa1",
   "metadata": {},
   "outputs": [
    {
     "data": {
      "text/plain": [
       "'[\"NAME_EDUCATION_TYPE_Higher_education\", \"EXT_SOURCE_3\", \"EXT_SOURCE_2\", \"CODE_GENDER_M\", \"NAME_EDUCATION_TYPE_Secondary_or_secondary_special\", \"NAME_CONTRACT_TYPE_Cash_loans\", \"NAME_INCOME_TYPE_Working\"]'"
      ]
     },
     "execution_count": 443,
     "metadata": {},
     "output_type": "execute_result"
    }
   ],
   "source": [
    "with open(dir_test_data + 'li_features.txt') as file_object:\n",
    "    str_li_features = file_object.read()\n",
    "str_li_features = str_li_features.replace('\\'', '\"').replace('\\n', '')\n",
    "str_li_features"
   ]
  },
  {
   "cell_type": "code",
   "execution_count": 447,
   "id": "95656f75-a29f-4735-90de-dfc97c7ff39e",
   "metadata": {},
   "outputs": [],
   "source": [
    "def get_single_prediction(str_values, str_expected) :\n",
    "    shell_command = 'curl -d \\'{\"dataframe_split\": { \"columns\": ' + str_li_features \\\n",
    "        + ', \"data\": [[' + str_values + ']]}}\\' -H \\'Content-Type: application/json\\' -X POST ' \\\n",
    "        + url_staging_server + ' --no-progress-meter'\n",
    "    print('Shell command :', shell_command, '\\n')\n",
    "    print(subprocess.getoutput(shell_command))\n",
    "    print('expected :', str_expected, 'for features values:', str_values)"
   ]
  },
  {
   "cell_type": "code",
   "execution_count": 448,
   "id": "0ac86984-d6e5-435f-adc3-4a2c06c48179",
   "metadata": {},
   "outputs": [
    {
     "data": {
      "text/plain": [
       "'0,0.5638350489514956,0.3058183171273599,0,1,1,1'"
      ]
     },
     "execution_count": 448,
     "metadata": {},
     "output_type": "execute_result"
    }
   ],
   "source": [
    "str_values_TP_sample_1 = ','.join([str(value) for value in list(dict_TP_sample_1.values())])\n",
    "str_values_TP_sample_1"
   ]
  },
  {
   "cell_type": "code",
   "execution_count": 449,
   "id": "be9a60ec-3eea-4b00-9aa7-46fce5d205c5",
   "metadata": {},
   "outputs": [
    {
     "name": "stdout",
     "output_type": "stream",
     "text": [
      "Shell command : curl -d '{\"dataframe_split\": { \"columns\": [\"NAME_EDUCATION_TYPE_Higher_education\", \"EXT_SOURCE_3\", \"EXT_SOURCE_2\", \"CODE_GENDER_M\", \"NAME_EDUCATION_TYPE_Secondary_or_secondary_special\", \"NAME_CONTRACT_TYPE_Cash_loans\", \"NAME_INCOME_TYPE_Working\"], \"data\": [[0,0.5638350489514956,0.3058183171273599,0,1,1,1]]}}' -H 'Content-Type: application/json' -X POST 4.233.201.217:5677/invocations --no-progress-meter \n",
      "\n",
      "{\"predictions\": [1]}\n",
      "expected : 1 for features values: 0,0.5638350489514956,0.3058183171273599,0,1,1,1\n"
     ]
    }
   ],
   "source": [
    "get_single_prediction(str_values_TP_sample_1, '1')"
   ]
  },
  {
   "cell_type": "markdown",
   "id": "542cbd0d-c679-4b2b-b9a6-c462d5f0d1e0",
   "metadata": {},
   "source": [
    "# Tests via interface Web d'API"
   ]
  },
  {
   "cell_type": "markdown",
   "id": "76e6a8d4-613d-4289-804d-43ed9c69a218",
   "metadata": {},
   "source": [
    "### Accès en ligne"
   ]
  },
  {
   "cell_type": "code",
   "execution_count": 450,
   "id": "dddb2063-29a1-41e2-a184-5ed549e9d650",
   "metadata": {},
   "outputs": [
    {
     "name": "stdout",
     "output_type": "stream",
     "text": [
      "Website URL = http://4.233.201.217:6543\n"
     ]
    }
   ],
   "source": [
    "port_web_server = dict_config['port_flask']\n",
    "print('Website URL =' , 'http://' + ip_server + ':' + port_web_server)"
   ]
  },
  {
   "cell_type": "markdown",
   "id": "31e43b37-7cf7-4e92-a33b-2a217b712ec4",
   "metadata": {},
   "source": [
    "### Arborescence de fichiers"
   ]
  },
  {
   "cell_type": "code",
   "execution_count": 453,
   "id": "3ad7e545-a9e7-41fe-818b-688a1b288308",
   "metadata": {},
   "outputs": [
    {
     "name": "stdout",
     "output_type": "stream",
     "text": [
      "  └── website\n",
      "  |  └── web_router.py\n",
      "  |  └── templates\n",
      "  |  |  └── report.html\n",
      "  |  |  └── index.html\n",
      "  |  |  └── result.html\n",
      "  |  |  └── form.html\n",
      "  |  |  └── report_simulation.html\n",
      "  |  |  └── api_observations.html\n",
      "  |  └── instructions_WebServer.md\n",
      "  |  └── static\n",
      "  |  |  └── css\n",
      "  |  |  |  └── style.css\n"
     ]
    }
   ],
   "source": [
    "! find ../website | grep -v \"checkpoint\" | sed -e \"s/[^\\/]*\\//  |/g\" -e \"s/|\\([^ ]\\)/└── \\1/\""
   ]
  },
  {
   "cell_type": "markdown",
   "id": "cd56d60e-5125-44e9-860a-9617feea7430",
   "metadata": {},
   "source": [
    "### Fichiers _HTML_"
   ]
  },
  {
   "cell_type": "code",
   "execution_count": 454,
   "id": "73cbfef1-bdc7-46b9-9219-6fac186f77fa",
   "metadata": {},
   "outputs": [],
   "source": [
    "import IPython\n",
    "dir_website = '../website/'\n",
    "dir_html = dir_website + 'templates/'"
   ]
  },
  {
   "cell_type": "markdown",
   "id": "f847a745-d8be-4908-bfcd-41f46d8e6d8c",
   "metadata": {},
   "source": [
    "#### Index  \n",
    "Fichier d'accueil"
   ]
  },
  {
   "cell_type": "code",
   "execution_count": 455,
   "id": "1958e589-651b-49dc-b0cb-e562049a9820",
   "metadata": {},
   "outputs": [
    {
     "name": "stdout",
     "output_type": "stream",
     "text": [
      "\n",
      "<!DOCTYPE html>\n",
      "<html lang=\"en\">\n",
      "    <head>\n",
      "        <meta charset=\"UTF-8\">\n",
      "        <link rel=\"stylesheet\" href=\"{{ url_for('static', filename= 'css/style.css') }}\">\n",
      "        <title>ML model API</title>\n",
      "    </head>\n",
      "    <body>\n",
      "       <h1>API du modèle de classification binaire</h1>      \n",
      "       <a href=\"/form/\"><h4>Formulaire</h4></a>\n",
      "       <a href=\"/report/\"><h4>Rapport Evidently</h4></a>\n",
      "       <a href=\"/report_simul/\"><h4>Rapport Evidently de simulation</h4></a>\n",
      "       <img src=\"https://miro.medium.com/v2/resize:fit:1200/0*5llOZkUFa4KHgDMQ.jpg\">\n",
      "    </body>\n",
      "</html>\n",
      "\n"
     ]
    }
   ],
   "source": [
    "file_html_index = dir_html + 'index.html'\n",
    "!cat $file_html_index"
   ]
  },
  {
   "cell_type": "code",
   "execution_count": 456,
   "id": "97066324-7b8a-46ab-a4f6-2b1e99a8bcc5",
   "metadata": {},
   "outputs": [
    {
     "data": {
      "text/html": [
       "\n",
       "        <iframe\n",
       "            width=\"700\"\n",
       "            height=\"350\"\n",
       "            src=\"../website/templates/index.html\"\n",
       "            frameborder=\"0\"\n",
       "            allowfullscreen\n",
       "            \n",
       "        ></iframe>\n",
       "        "
      ],
      "text/plain": [
       "<IPython.lib.display.IFrame at 0x7f2579602d10>"
      ]
     },
     "execution_count": 456,
     "metadata": {},
     "output_type": "execute_result"
    }
   ],
   "source": [
    "IPython.display.IFrame(file_html_index, width=700, height=350) "
   ]
  },
  {
   "cell_type": "markdown",
   "id": "60a4a4cd-e991-4872-ad33-f7d00b0e9d5e",
   "metadata": {},
   "source": [
    "#### Formulaire  \n",
    "Formulaire de saisie des atttributs"
   ]
  },
  {
   "cell_type": "code",
   "execution_count": 538,
   "id": "bca85c18-eeb4-4221-ab10-8c72cd0de2f1",
   "metadata": {},
   "outputs": [],
   "source": [
    "path_form = dir_html + 'form.html'"
   ]
  },
  {
   "cell_type": "code",
   "execution_count": 572,
   "id": "13ef78c3-94d3-4516-9e54-3e10a390efec",
   "metadata": {},
   "outputs": [],
   "source": [
    "str_form = \\\n",
    "'''\\\n",
    "<!DOCTYPE html>\n",
    "<html lang=\"en\">\n",
    "    <head>\n",
    "        <meta charset=\"UTF-8\">\n",
    "        <link rel=\"stylesheet\" href=\"{{ url_for('static', filename= 'css/style.css') }}\">\n",
    "        <title>ML model API</title>\n",
    "    </head>\n",
    "    <body>\n",
    "        <h1>API du modèle de classification binaire</h1>       \n",
    "        <h2>Formulaire de saisie d'attributs</h2>       \n",
    "        \n",
    "        <form method=\"post\" action=\"{{ url_for('result') }}\">\n",
    "            <div>\n",
    "            \t<label for=\"port\">Server:</label>\n",
    "            \t<select id=\"port\" name=\"port\">\n",
    "                \t\t<option value=\"5677\"> Staging    </option>\n",
    "                \t\t<option value=\"5678\"> Production </option>\n",
    "            \t</select>\n",
    "            </div>\n",
    "            <br>\n",
    "            <table> \\\n",
    "'''"
   ]
  },
  {
   "cell_type": "code",
   "execution_count": 573,
   "id": "05cb86d0-df61-45ff-bac7-0f013c388909",
   "metadata": {},
   "outputs": [
    {
     "data": {
      "text/plain": [
       "['NAME_EDUCATION_TYPE_Higher_education',\n",
       " 'EXT_SOURCE_3',\n",
       " 'EXT_SOURCE_2',\n",
       " 'CODE_GENDER_M',\n",
       " 'NAME_EDUCATION_TYPE_Secondary_or_secondary_special',\n",
       " 'NAME_CONTRACT_TYPE_Cash_loans',\n",
       " 'NAME_INCOME_TYPE_Working']"
      ]
     },
     "execution_count": 573,
     "metadata": {},
     "output_type": "execute_result"
    }
   ],
   "source": [
    "li_features = eval(str_li_features)\n",
    "li_features"
   ]
  },
  {
   "cell_type": "code",
   "execution_count": 574,
   "id": "7c1693fc-af78-41f1-ad37-93c1e726c822",
   "metadata": {},
   "outputs": [
    {
     "data": {
      "text/plain": [
       "['long', 'double', 'double', 'long', 'long', 'long', 'long']"
      ]
     },
     "execution_count": 574,
     "metadata": {},
     "output_type": "execute_result"
    }
   ],
   "source": [
    "with open(dir_test_data + 'li_types.txt') as file_object:\n",
    "    str_li_types = file_object.read()\n",
    "str_li_types = str_li_types.replace('[', '[\"').replace(', ', '\", \"').replace(']\\n', '\"]')\n",
    "li_types = eval(str_li_types)\n",
    "li_types"
   ]
  },
  {
   "cell_type": "code",
   "execution_count": 575,
   "id": "e66e2402-3347-43af-994d-865beca84889",
   "metadata": {},
   "outputs": [],
   "source": [
    "def get_div_per_feature(idx, str_feature_i, str_type_i) :\n",
    "    str_div_i = \\\n",
    "    '''\n",
    "                <tr>\n",
    "                    <td><label for=\"input_str_idx\">str_feature_i :</label></td>\n",
    "                    <td><input name=\"str_feature_i\" id=\"input_str_idx\" type=\"number\" step=\"any\" value=\"1\"></td>\n",
    "                    <td>str_type_i</td>\n",
    "                </tr> \\\n",
    "    '''\n",
    "    return str_div_i.replace('str_idx',       str(idx))      \\\n",
    "                    .replace('str_feature_i', str_feature_i) \\\n",
    "                    .replace('str_type_i',    str_type_i)"
   ]
  },
  {
   "cell_type": "code",
   "execution_count": 576,
   "id": "dc0deaa8-c7f4-4edb-b3c6-5702112c3f45",
   "metadata": {},
   "outputs": [],
   "source": [
    "for idx, (feature_i, type_i) in enumerate(zip(li_features, li_types)) :\n",
    "    str_form += get_div_per_feature(idx + 1, feature_i, type_i)"
   ]
  },
  {
   "cell_type": "code",
   "execution_count": 577,
   "id": "22d81e13-3c11-4fa4-95a2-37313ae939d5",
   "metadata": {},
   "outputs": [],
   "source": [
    "str_form += \\\n",
    "'''\n",
    "            </table>\n",
    "            <br>\n",
    "            <div>\n",
    "                <button>Predict</button>\n",
    "            </div>\n",
    "        </form>\n",
    "        <br>\n",
    "        <p>PI, valeurs des attributs pour obtenir des TP (vrai positif):</p>\n",
    "        str_pandas_as_html\n",
    "    </body>\n",
    "</html>\n",
    "'''"
   ]
  },
  {
   "cell_type": "code",
   "execution_count": 578,
   "id": "30a6e200-d48b-48ff-b234-7b2c1b79c4b1",
   "metadata": {
    "scrolled": true
   },
   "outputs": [
    {
     "data": {
      "text/html": [
       "<div>\n",
       "<style scoped>\n",
       "    .dataframe tbody tr th:only-of-type {\n",
       "        vertical-align: middle;\n",
       "    }\n",
       "\n",
       "    .dataframe tbody tr th {\n",
       "        vertical-align: top;\n",
       "    }\n",
       "\n",
       "    .dataframe thead th {\n",
       "        text-align: right;\n",
       "    }\n",
       "</style>\n",
       "<table border=\"1\" class=\"dataframe\">\n",
       "  <thead>\n",
       "    <tr style=\"text-align: right;\">\n",
       "      <th></th>\n",
       "      <th>2396</th>\n",
       "      <th>2203</th>\n",
       "      <th>2033</th>\n",
       "      <th>443</th>\n",
       "      <th>1537</th>\n",
       "      <th>1359</th>\n",
       "      <th>795</th>\n",
       "      <th>817</th>\n",
       "      <th>2544</th>\n",
       "      <th>215</th>\n",
       "    </tr>\n",
       "  </thead>\n",
       "  <tbody>\n",
       "    <tr>\n",
       "      <th>NAME_EDUCATION_TYPE_Higher_education</th>\n",
       "      <td>0.000000</td>\n",
       "      <td>0.000000</td>\n",
       "      <td>1.000000</td>\n",
       "      <td>0.000000</td>\n",
       "      <td>0.000000</td>\n",
       "      <td>0.000000</td>\n",
       "      <td>0.000000</td>\n",
       "      <td>0.000000</td>\n",
       "      <td>0.000000</td>\n",
       "      <td>0.000000</td>\n",
       "    </tr>\n",
       "    <tr>\n",
       "      <th>EXT_SOURCE_3</th>\n",
       "      <td>0.345785</td>\n",
       "      <td>0.227613</td>\n",
       "      <td>0.141115</td>\n",
       "      <td>0.712155</td>\n",
       "      <td>0.093837</td>\n",
       "      <td>0.076474</td>\n",
       "      <td>0.107532</td>\n",
       "      <td>0.152866</td>\n",
       "      <td>0.165407</td>\n",
       "      <td>0.415347</td>\n",
       "    </tr>\n",
       "    <tr>\n",
       "      <th>EXT_SOURCE_2</th>\n",
       "      <td>0.702490</td>\n",
       "      <td>0.317802</td>\n",
       "      <td>0.349900</td>\n",
       "      <td>0.089189</td>\n",
       "      <td>0.075550</td>\n",
       "      <td>0.018896</td>\n",
       "      <td>0.245341</td>\n",
       "      <td>0.546527</td>\n",
       "      <td>0.261886</td>\n",
       "      <td>0.403580</td>\n",
       "    </tr>\n",
       "    <tr>\n",
       "      <th>CODE_GENDER_M</th>\n",
       "      <td>1.000000</td>\n",
       "      <td>1.000000</td>\n",
       "      <td>0.000000</td>\n",
       "      <td>0.000000</td>\n",
       "      <td>0.000000</td>\n",
       "      <td>1.000000</td>\n",
       "      <td>0.000000</td>\n",
       "      <td>0.000000</td>\n",
       "      <td>0.000000</td>\n",
       "      <td>1.000000</td>\n",
       "    </tr>\n",
       "    <tr>\n",
       "      <th>NAME_EDUCATION_TYPE_Secondary_or_secondary_special</th>\n",
       "      <td>1.000000</td>\n",
       "      <td>1.000000</td>\n",
       "      <td>0.000000</td>\n",
       "      <td>1.000000</td>\n",
       "      <td>1.000000</td>\n",
       "      <td>1.000000</td>\n",
       "      <td>1.000000</td>\n",
       "      <td>1.000000</td>\n",
       "      <td>1.000000</td>\n",
       "      <td>1.000000</td>\n",
       "    </tr>\n",
       "    <tr>\n",
       "      <th>NAME_CONTRACT_TYPE_Cash_loans</th>\n",
       "      <td>1.000000</td>\n",
       "      <td>1.000000</td>\n",
       "      <td>1.000000</td>\n",
       "      <td>1.000000</td>\n",
       "      <td>1.000000</td>\n",
       "      <td>1.000000</td>\n",
       "      <td>1.000000</td>\n",
       "      <td>0.000000</td>\n",
       "      <td>1.000000</td>\n",
       "      <td>1.000000</td>\n",
       "    </tr>\n",
       "    <tr>\n",
       "      <th>NAME_INCOME_TYPE_Working</th>\n",
       "      <td>1.000000</td>\n",
       "      <td>1.000000</td>\n",
       "      <td>0.000000</td>\n",
       "      <td>1.000000</td>\n",
       "      <td>1.000000</td>\n",
       "      <td>1.000000</td>\n",
       "      <td>1.000000</td>\n",
       "      <td>1.000000</td>\n",
       "      <td>1.000000</td>\n",
       "      <td>1.000000</td>\n",
       "    </tr>\n",
       "  </tbody>\n",
       "</table>\n",
       "</div>"
      ],
      "text/plain": [
       "                                                        2396      2203  \\\n",
       "NAME_EDUCATION_TYPE_Higher_education                0.000000  0.000000   \n",
       "EXT_SOURCE_3                                        0.345785  0.227613   \n",
       "EXT_SOURCE_2                                        0.702490  0.317802   \n",
       "CODE_GENDER_M                                       1.000000  1.000000   \n",
       "NAME_EDUCATION_TYPE_Secondary_or_secondary_special  1.000000  1.000000   \n",
       "NAME_CONTRACT_TYPE_Cash_loans                       1.000000  1.000000   \n",
       "NAME_INCOME_TYPE_Working                            1.000000  1.000000   \n",
       "\n",
       "                                                        2033      443   \\\n",
       "NAME_EDUCATION_TYPE_Higher_education                1.000000  0.000000   \n",
       "EXT_SOURCE_3                                        0.141115  0.712155   \n",
       "EXT_SOURCE_2                                        0.349900  0.089189   \n",
       "CODE_GENDER_M                                       0.000000  0.000000   \n",
       "NAME_EDUCATION_TYPE_Secondary_or_secondary_special  0.000000  1.000000   \n",
       "NAME_CONTRACT_TYPE_Cash_loans                       1.000000  1.000000   \n",
       "NAME_INCOME_TYPE_Working                            0.000000  1.000000   \n",
       "\n",
       "                                                        1537      1359  \\\n",
       "NAME_EDUCATION_TYPE_Higher_education                0.000000  0.000000   \n",
       "EXT_SOURCE_3                                        0.093837  0.076474   \n",
       "EXT_SOURCE_2                                        0.075550  0.018896   \n",
       "CODE_GENDER_M                                       0.000000  1.000000   \n",
       "NAME_EDUCATION_TYPE_Secondary_or_secondary_special  1.000000  1.000000   \n",
       "NAME_CONTRACT_TYPE_Cash_loans                       1.000000  1.000000   \n",
       "NAME_INCOME_TYPE_Working                            1.000000  1.000000   \n",
       "\n",
       "                                                        795       817   \\\n",
       "NAME_EDUCATION_TYPE_Higher_education                0.000000  0.000000   \n",
       "EXT_SOURCE_3                                        0.107532  0.152866   \n",
       "EXT_SOURCE_2                                        0.245341  0.546527   \n",
       "CODE_GENDER_M                                       0.000000  0.000000   \n",
       "NAME_EDUCATION_TYPE_Secondary_or_secondary_special  1.000000  1.000000   \n",
       "NAME_CONTRACT_TYPE_Cash_loans                       1.000000  0.000000   \n",
       "NAME_INCOME_TYPE_Working                            1.000000  1.000000   \n",
       "\n",
       "                                                        2544      215   \n",
       "NAME_EDUCATION_TYPE_Higher_education                0.000000  0.000000  \n",
       "EXT_SOURCE_3                                        0.165407  0.415347  \n",
       "EXT_SOURCE_2                                        0.261886  0.403580  \n",
       "CODE_GENDER_M                                       0.000000  1.000000  \n",
       "NAME_EDUCATION_TYPE_Secondary_or_secondary_special  1.000000  1.000000  \n",
       "NAME_CONTRACT_TYPE_Cash_loans                       1.000000  1.000000  \n",
       "NAME_INCOME_TYPE_Working                            1.000000  1.000000  "
      ]
     },
     "execution_count": 578,
     "metadata": {},
     "output_type": "execute_result"
    }
   ],
   "source": [
    "df_TP_sample_10 = pd.read_csv(path_TP).sample(10, random_state=0)\n",
    "df_TP_sample_10.T"
   ]
  },
  {
   "cell_type": "code",
   "execution_count": 579,
   "id": "77347a28-bae9-4878-b397-f6c3e5d28bc8",
   "metadata": {
    "scrolled": true
   },
   "outputs": [],
   "source": [
    "str_pandas_as_html = df_TP_sample_10.T.to_html(justify='center', border=0, max_rows=10) #, \n",
    "                                #float_format=lambda x: '%.10f' % x)\n",
    "str_form = str_form .replace('str_pandas_as_html', str_pandas_as_html) \\\n",
    "                    .replace('.000000', '') #('.0000000000', '')"
   ]
  },
  {
   "cell_type": "code",
   "execution_count": 580,
   "id": "b0449916-9486-40d7-9c50-ea2a32dacb66",
   "metadata": {},
   "outputs": [],
   "source": [
    "with open(path_form, 'w') as file_object:\n",
    "    print(str_form, file=file_object)"
   ]
  },
  {
   "cell_type": "code",
   "execution_count": 581,
   "id": "2cf7c112-d906-40c7-b243-2f9c07b703fc",
   "metadata": {
    "scrolled": true
   },
   "outputs": [
    {
     "name": "stdout",
     "output_type": "stream",
     "text": [
      "<!DOCTYPE html>\n",
      "<html lang=\"en\">\n",
      "    <head>\n",
      "        <meta charset=\"UTF-8\">\n",
      "        <link rel=\"stylesheet\" href=\"{{ url_for('static', filename= 'css/style.css') }}\">\n",
      "        <title>ML model API</title>\n",
      "    </head>\n",
      "    <body>\n",
      "        <h1>API du modèle de classification binaire</h1>       \n",
      "        <h2>Formulaire de saisie d'attributs</h2>       \n",
      "        \n",
      "        <form method=\"post\" action=\"{{ url_for('result') }}\">\n",
      "            <div>\n",
      "            \t<label for=\"port\">Server:</label>\n",
      "            \t<select id=\"port\" name=\"port\">\n",
      "                \t\t<option value=\"5677\"> Staging    </option>\n",
      "                \t\t<option value=\"5678\"> Production </option>\n",
      "            \t</select>\n",
      "            </div>\n",
      "            <br>\n",
      "            <table> \n",
      "                <tr>\n",
      "                    <td><label for=\"input_1\">NAME_EDUCATION_TYPE_Higher_education :</label></td>\n",
      "                    <td><input name=\"NAME_EDUCATION_TYPE_Higher_education\" id=\"input_1\" type=\"number\" step=\"any\" value=\"1\"></td>\n",
      "                    <td>long</td>\n",
      "                </tr>     \n",
      "                <tr>\n",
      "                    <td><label for=\"input_2\">EXT_SOURCE_3 :</label></td>\n",
      "                    <td><input name=\"EXT_SOURCE_3\" id=\"input_2\" type=\"number\" step=\"any\" value=\"1\"></td>\n",
      "                    <td>double</td>\n",
      "                </tr>     \n",
      "                <tr>\n",
      "                    <td><label for=\"input_3\">EXT_SOURCE_2 :</label></td>\n",
      "                    <td><input name=\"EXT_SOURCE_2\" id=\"input_3\" type=\"number\" step=\"any\" value=\"1\"></td>\n",
      "                    <td>double</td>\n",
      "                </tr>     \n",
      "                <tr>\n",
      "                    <td><label for=\"input_4\">CODE_GENDER_M :</label></td>\n",
      "                    <td><input name=\"CODE_GENDER_M\" id=\"input_4\" type=\"number\" step=\"any\" value=\"1\"></td>\n",
      "                    <td>long</td>\n",
      "                </tr>     \n",
      "                <tr>\n",
      "                    <td><label for=\"input_5\">NAME_EDUCATION_TYPE_Secondary_or_secondary_special :</label></td>\n",
      "                    <td><input name=\"NAME_EDUCATION_TYPE_Secondary_or_secondary_special\" id=\"input_5\" type=\"number\" step=\"any\" value=\"1\"></td>\n",
      "                    <td>long</td>\n",
      "                </tr>     \n",
      "                <tr>\n",
      "                    <td><label for=\"input_6\">NAME_CONTRACT_TYPE_Cash_loans :</label></td>\n",
      "                    <td><input name=\"NAME_CONTRACT_TYPE_Cash_loans\" id=\"input_6\" type=\"number\" step=\"any\" value=\"1\"></td>\n",
      "                    <td>long</td>\n",
      "                </tr>     \n",
      "                <tr>\n",
      "                    <td><label for=\"input_7\">NAME_INCOME_TYPE_Working :</label></td>\n",
      "                    <td><input name=\"NAME_INCOME_TYPE_Working\" id=\"input_7\" type=\"number\" step=\"any\" value=\"1\"></td>\n",
      "                    <td>long</td>\n",
      "                </tr>     \n",
      "            </table>\n",
      "            <br>\n",
      "            <div>\n",
      "                <button>Predict</button>\n",
      "            </div>\n",
      "        </form>\n",
      "        <br>\n",
      "        <p>PI, valeurs des attributs pour obtenir des TP (vrai positif):</p>\n",
      "        <table class=\"dataframe\">\n",
      "  <thead>\n",
      "    <tr style=\"text-align: center;\">\n",
      "      <th></th>\n",
      "      <th>2396</th>\n",
      "      <th>2203</th>\n",
      "      <th>2033</th>\n",
      "      <th>443</th>\n",
      "      <th>1537</th>\n",
      "      <th>1359</th>\n",
      "      <th>795</th>\n",
      "      <th>817</th>\n",
      "      <th>2544</th>\n",
      "      <th>215</th>\n",
      "    </tr>\n",
      "  </thead>\n",
      "  <tbody>\n",
      "    <tr>\n",
      "      <th>NAME_EDUCATION_TYPE_Higher_education</th>\n",
      "      <td>0</td>\n",
      "      <td>0</td>\n",
      "      <td>1</td>\n",
      "      <td>0</td>\n",
      "      <td>0</td>\n",
      "      <td>0</td>\n",
      "      <td>0</td>\n",
      "      <td>0</td>\n",
      "      <td>0</td>\n",
      "      <td>0</td>\n",
      "    </tr>\n",
      "    <tr>\n",
      "      <th>EXT_SOURCE_3</th>\n",
      "      <td>0.345785</td>\n",
      "      <td>0.227613</td>\n",
      "      <td>0.141115</td>\n",
      "      <td>0.712155</td>\n",
      "      <td>0.093837</td>\n",
      "      <td>0.076474</td>\n",
      "      <td>0.107532</td>\n",
      "      <td>0.152866</td>\n",
      "      <td>0.165407</td>\n",
      "      <td>0.415347</td>\n",
      "    </tr>\n",
      "    <tr>\n",
      "      <th>EXT_SOURCE_2</th>\n",
      "      <td>0.702490</td>\n",
      "      <td>0.317802</td>\n",
      "      <td>0.349900</td>\n",
      "      <td>0.089189</td>\n",
      "      <td>0.075550</td>\n",
      "      <td>0.018896</td>\n",
      "      <td>0.245341</td>\n",
      "      <td>0.546527</td>\n",
      "      <td>0.261886</td>\n",
      "      <td>0.403580</td>\n",
      "    </tr>\n",
      "    <tr>\n",
      "      <th>CODE_GENDER_M</th>\n",
      "      <td>1</td>\n",
      "      <td>1</td>\n",
      "      <td>0</td>\n",
      "      <td>0</td>\n",
      "      <td>0</td>\n",
      "      <td>1</td>\n",
      "      <td>0</td>\n",
      "      <td>0</td>\n",
      "      <td>0</td>\n",
      "      <td>1</td>\n",
      "    </tr>\n",
      "    <tr>\n",
      "      <th>NAME_EDUCATION_TYPE_Secondary_or_secondary_special</th>\n",
      "      <td>1</td>\n",
      "      <td>1</td>\n",
      "      <td>0</td>\n",
      "      <td>1</td>\n",
      "      <td>1</td>\n",
      "      <td>1</td>\n",
      "      <td>1</td>\n",
      "      <td>1</td>\n",
      "      <td>1</td>\n",
      "      <td>1</td>\n",
      "    </tr>\n",
      "    <tr>\n",
      "      <th>NAME_CONTRACT_TYPE_Cash_loans</th>\n",
      "      <td>1</td>\n",
      "      <td>1</td>\n",
      "      <td>1</td>\n",
      "      <td>1</td>\n",
      "      <td>1</td>\n",
      "      <td>1</td>\n",
      "      <td>1</td>\n",
      "      <td>0</td>\n",
      "      <td>1</td>\n",
      "      <td>1</td>\n",
      "    </tr>\n",
      "    <tr>\n",
      "      <th>NAME_INCOME_TYPE_Working</th>\n",
      "      <td>1</td>\n",
      "      <td>1</td>\n",
      "      <td>0</td>\n",
      "      <td>1</td>\n",
      "      <td>1</td>\n",
      "      <td>1</td>\n",
      "      <td>1</td>\n",
      "      <td>1</td>\n",
      "      <td>1</td>\n",
      "      <td>1</td>\n",
      "    </tr>\n",
      "  </tbody>\n",
      "</table>\n",
      "    </body>\n",
      "</html>\n",
      "\n"
     ]
    }
   ],
   "source": [
    "!cat $path_form"
   ]
  },
  {
   "cell_type": "code",
   "execution_count": 582,
   "id": "58d28614-4afe-4a47-85c8-cb1cee198a9b",
   "metadata": {},
   "outputs": [
    {
     "data": {
      "text/html": [
       "\n",
       "        <iframe\n",
       "            width=\"700\"\n",
       "            height=\"350\"\n",
       "            src=\"../website/templates/form.html\"\n",
       "            frameborder=\"0\"\n",
       "            allowfullscreen\n",
       "            \n",
       "        ></iframe>\n",
       "        "
      ],
      "text/plain": [
       "<IPython.lib.display.IFrame at 0x7f25725aa8c0>"
      ]
     },
     "execution_count": 582,
     "metadata": {},
     "output_type": "execute_result"
    }
   ],
   "source": [
    "IPython.display.IFrame(path_form, width=700, height=350) "
   ]
  },
  {
   "cell_type": "markdown",
   "id": "5aff3044-23da-4138-a16d-0b1afd80d6bc",
   "metadata": {},
   "source": [
    "#### Résultat\n",
    "Page de résultat de prédiction par l'API du modèle"
   ]
  },
  {
   "cell_type": "code",
   "execution_count": 584,
   "id": "72f423a9-0d2a-4035-b21b-53bd701d4c51",
   "metadata": {},
   "outputs": [],
   "source": [
    "path_result = dir_html + 'result.html'"
   ]
  },
  {
   "cell_type": "code",
   "execution_count": 593,
   "id": "3de854d9-1437-459a-bd0d-67cf5b3447a1",
   "metadata": {},
   "outputs": [],
   "source": [
    "str_result = \\\n",
    "'''\\\n",
    "<!DOCTYPE html>\n",
    "<html lang=\"en\">\n",
    "    <head>\n",
    "        <meta charset=\"UTF-8\">\n",
    "        <link rel=\"stylesheet\" href=\"{{ url_for('static', filename= 'css/style.css') }}\">\n",
    "        <title>ML model API</title>\n",
    "    </head>\n",
    "    <body>\n",
    "       <h1>API du modèle de classification binaire</h1>      \n",
    "       <h2>Page de prédiction du modèle</h2> \n",
    "       <h3>Valeur prédite = {{target_value['predictions']}}</h3>\n",
    "       <p>Pour les valeurs saisies des attributs suivants :</p>\n",
    "       <table>\n",
    "'''"
   ]
  },
  {
   "cell_type": "code",
   "execution_count": 594,
   "id": "536cc9e5-d8b0-464f-9dcf-8f421e21cb25",
   "metadata": {},
   "outputs": [
    {
     "data": {
      "text/plain": [
       "['NAME_EDUCATION_TYPE_Higher_education',\n",
       " 'EXT_SOURCE_3',\n",
       " 'EXT_SOURCE_2',\n",
       " 'CODE_GENDER_M',\n",
       " 'NAME_EDUCATION_TYPE_Secondary_or_secondary_special',\n",
       " 'NAME_CONTRACT_TYPE_Cash_loans',\n",
       " 'NAME_INCOME_TYPE_Working']"
      ]
     },
     "execution_count": 594,
     "metadata": {},
     "output_type": "execute_result"
    }
   ],
   "source": [
    "li_features"
   ]
  },
  {
   "cell_type": "code",
   "execution_count": 595,
   "id": "e62486c9-8d60-4ad4-a6e4-757097da428e",
   "metadata": {},
   "outputs": [],
   "source": [
    "def get_div_per_feature(idx, str_feature_i) :\n",
    "    str_div_i = \\\n",
    "    ''' \n",
    "            <tr>\n",
    "                <td>str_feature_i</td><td>{{features['str_feature_i']}}</td>  \n",
    "            </tr> \\\n",
    "    '''\n",
    "    return str_div_i.replace('str_idx',       str(idx))    \\\n",
    "                    .replace('str_feature_i', str_feature_i)                        "
   ]
  },
  {
   "cell_type": "code",
   "execution_count": 596,
   "id": "ded7fed8-baf1-4c0e-bdac-5d5e4a2533bd",
   "metadata": {},
   "outputs": [],
   "source": [
    "for idx, feature_i in enumerate(li_features) :\n",
    "    str_result += get_div_per_feature(idx + 1, feature_i)"
   ]
  },
  {
   "cell_type": "code",
   "execution_count": 597,
   "id": "1a0afce7-482d-47d3-8739-5e3d6dcc70ef",
   "metadata": {},
   "outputs": [],
   "source": [
    "str_result += \\\n",
    "'''\n",
    "       </table>\n",
    "       <br>\n",
    "       <a href=\"/\">Retour à l'accueil</a>\n",
    "       <a href=\"/form/\">Formulaire</a>\n",
    "    </body>\n",
    "</html>\n",
    "'''"
   ]
  },
  {
   "cell_type": "code",
   "execution_count": 598,
   "id": "4903c80f-e220-4632-8329-28812ccd34a2",
   "metadata": {},
   "outputs": [],
   "source": [
    "with open(path_result, \"w\") as file_object:\n",
    "    print(str_result, file=file_object)"
   ]
  },
  {
   "cell_type": "code",
   "execution_count": 599,
   "id": "663b2214-7681-48bd-b03a-8c3c381e9d5c",
   "metadata": {},
   "outputs": [
    {
     "name": "stdout",
     "output_type": "stream",
     "text": [
      "<!DOCTYPE html>\n",
      "<html lang=\"en\">\n",
      "    <head>\n",
      "        <meta charset=\"UTF-8\">\n",
      "        <link rel=\"stylesheet\" href=\"{{ url_for('static', filename= 'css/style.css') }}\">\n",
      "        <title>ML model API</title>\n",
      "    </head>\n",
      "    <body>\n",
      "       <h1>API du modèle de classification binaire</h1>      \n",
      "       <h2>Page de prédiction du modèle</h2> \n",
      "       <h3>Valeur prédite = {{target_value['predictions']}}</h3>\n",
      "       <p>Pour les valeurs saisies des attributs suivants :</p>\n",
      "       <table>\n",
      " \n",
      "            <tr>\n",
      "                <td>NAME_EDUCATION_TYPE_Higher_education</td><td>{{features['NAME_EDUCATION_TYPE_Higher_education']}}</td>  \n",
      "            </tr>      \n",
      "            <tr>\n",
      "                <td>EXT_SOURCE_3</td><td>{{features['EXT_SOURCE_3']}}</td>  \n",
      "            </tr>      \n",
      "            <tr>\n",
      "                <td>EXT_SOURCE_2</td><td>{{features['EXT_SOURCE_2']}}</td>  \n",
      "            </tr>      \n",
      "            <tr>\n",
      "                <td>CODE_GENDER_M</td><td>{{features['CODE_GENDER_M']}}</td>  \n",
      "            </tr>      \n",
      "            <tr>\n",
      "                <td>NAME_EDUCATION_TYPE_Secondary_or_secondary_special</td><td>{{features['NAME_EDUCATION_TYPE_Secondary_or_secondary_special']}}</td>  \n",
      "            </tr>      \n",
      "            <tr>\n",
      "                <td>NAME_CONTRACT_TYPE_Cash_loans</td><td>{{features['NAME_CONTRACT_TYPE_Cash_loans']}}</td>  \n",
      "            </tr>      \n",
      "            <tr>\n",
      "                <td>NAME_INCOME_TYPE_Working</td><td>{{features['NAME_INCOME_TYPE_Working']}}</td>  \n",
      "            </tr>     \n",
      "       </table>\n",
      "       <br>\n",
      "       <a href=\"/\">Retour à l'accueil</a>\n",
      "       <a href=\"/form/\">Formulaire</a>\n",
      "    </body>\n",
      "</html>\n",
      "\n"
     ]
    }
   ],
   "source": [
    "!cat $path_result"
   ]
  },
  {
   "cell_type": "code",
   "execution_count": 600,
   "id": "4d7e1047-60a5-4a04-a2eb-bd9e202a7860",
   "metadata": {},
   "outputs": [
    {
     "data": {
      "text/html": [
       "\n",
       "        <iframe\n",
       "            width=\"700\"\n",
       "            height=\"350\"\n",
       "            src=\"../website/templates/result.html\"\n",
       "            frameborder=\"0\"\n",
       "            allowfullscreen\n",
       "            \n",
       "        ></iframe>\n",
       "        "
      ],
      "text/plain": [
       "<IPython.lib.display.IFrame at 0x7f25725aa5c0>"
      ]
     },
     "execution_count": 600,
     "metadata": {},
     "output_type": "execute_result"
    }
   ],
   "source": [
    "IPython.display.IFrame(path_result, width=700, height=350) "
   ]
  },
  {
   "cell_type": "markdown",
   "id": "8998fae1-d803-4e55-b892-365e9629a812",
   "metadata": {},
   "source": [
    "#### Style"
   ]
  },
  {
   "cell_type": "code",
   "execution_count": 603,
   "id": "de8334de-7652-489d-8e71-b80ffb741b2d",
   "metadata": {},
   "outputs": [],
   "source": [
    "dir_style = '../website/static/css/'"
   ]
  },
  {
   "cell_type": "code",
   "execution_count": 604,
   "id": "8ab6e006-fd0b-4b8e-8eb5-b5d9935e6428",
   "metadata": {},
   "outputs": [
    {
     "name": "stdout",
     "output_type": "stream",
     "text": [
      "html {\n",
      "    text-align: center;\n",
      "    font-family: Arial;\n",
      "}\n",
      "h1 {\n",
      "    border: 2px #eee solid;\n",
      "    color: brown;\n",
      "    text-align: center;\n",
      "    padding: 10px;\n",
      "}\n",
      "h3 {\n",
      "    color: darkred;\n",
      "}\n",
      "table { \n",
      "    margin-left: auto;\n",
      "    margin-right: auto;\n",
      "    font-size: 12px;\n",
      "}\n",
      "tr:nth-child(odd) {\n",
      "    background-color: #e6f7ff;\n",
      "}\n",
      "tr:nth-child(even) {\n",
      "    background-color: #b3e6ff;\n",
      "}"
     ]
    }
   ],
   "source": [
    "file_style = dir_style + 'style.css'\n",
    "!cat $file_style"
   ]
  },
  {
   "cell_type": "markdown",
   "id": "308cb3a4-ff78-48e7-b43c-b07c1342ec41",
   "metadata": {},
   "source": [
    "### Fichiers _Python_"
   ]
  },
  {
   "cell_type": "markdown",
   "id": "9f8d70b0-3989-40c6-8eb9-12ea5b96ed74",
   "metadata": {},
   "source": [
    "#### Routeur Web  \n",
    "Un fichier en Pyhton couvre la gestion REST"
   ]
  },
  {
   "cell_type": "code",
   "execution_count": 605,
   "id": "3d40dc06-8931-4b60-99a7-59379f679f1d",
   "metadata": {},
   "outputs": [
    {
     "name": "stdout",
     "output_type": "stream",
     "text": [
      "import pandas as pd\n",
      "import json\n",
      "import subprocess\n",
      "import requests\n",
      "from flask import Flask, render_template, request\n",
      "from mlflow import sklearn as skl\n",
      "from sklearn.metrics import recall_score, roc_auc_score\n",
      "\n",
      "# **************************************************** FUNCTIONS ************************\n",
      "def run_shell(command) :\n",
      "    shell_process = subprocess.run([command], shell=True, capture_output=True, text=True)\n",
      "    return str(shell_process.stdout) + str(shell_process.stderr)\n",
      "def pull() :\n",
      "    dir_root = '/home/azureuser/project_7/'\n",
      "    str_command_pull = 'cd ' + dir_root + ' ; git pull origin main'\n",
      "    str_output = run_shell(str_command_pull)\n",
      "    return 'Git Pull Model:===============\\n' + str_output\n",
      "def restart(str_environment) : \n",
      "    if str_environment == 'staging'    : dir_model, port = '../api/staging_model/',    '5677'\n",
      "    if str_environment == 'production' : dir_model, port = '../api/production_model/', '5678' \n",
      "    str_command_serve = 'mlflow models serve -m ' + dir_model + ' -p ' + port + ' -h 0.0.0.0 --no-conda &'\n",
      "    str_command_ps = 'ps aux | grep  \":' + port + '\" | grep -v grep | awk \\'{print $2, $15, $19}\\' '\n",
      "    str_output = 'Process BEFORE Restart:\\n'                    # check process BEFORE restart\n",
      "    str_output += run_shell(str_command_ps)\n",
      "    run_shell('pkill -f \":' + port + '\" ; sleep 1')     # RESTART\n",
      "    subprocess.Popen(str_command_serve, start_new_session=True, shell=True)\n",
      "    str_output += 'Process AFTER Restart:\\n'                    # check process AFTER restart\n",
      "    str_output += run_shell('sleep 4 ; ' + str_command_ps)\n",
      "    return 'Restart Server:===============\\n' + str_output\n",
      "def copy_model() :\n",
      "    str_command_cp = 'cp -rf ../api/staging_model/* ../api/production_model/ ; echo $?'\n",
      "    str_output = run_shell(str_command_cp)\n",
      "    return str_output\n",
      "def send_email(str_body) :\n",
      "    shell_command = 'echo \"' + str_body + '\" | mailx -s \"Model Performance Decay\" jv.virtualm@gmail.com'\n",
      "    subprocess.getoutput(shell_command)\n",
      "\n",
      "# **************************************************** FLASK APP *********************\n",
      "app = Flask(__name__)                                     \n",
      "# **************************************************** ROUTES ************************\n",
      "@app.route('/')                                           # Route Index\n",
      "def index() : return render_template('index.html')         # renders HTML as string\n",
      "\n",
      "@app.route('/form/')                                      # Route Form\n",
      "def form() : return render_template('form.html')\n",
      "\n",
      "@app.route('/result/', methods=['POST'])                  # Route Result (API prediction)\n",
      "def result() : \n",
      "    dict_features = request.form.to_dict(flat=False)      #{port:[...],feature:[value],...}\n",
      "    port = dict_features.pop('port')[0]\n",
      "    req_post = requests.post(   url     = 'http://localhost:' + str(port) + '/invocations', \n",
      "                                headers = {'Content-Type': 'application/json'}, \n",
      "                                data    = json.dumps({'inputs': dict_features}) )\n",
      "    dict_prediction = json.loads(req_post.text)           # {predictions:[1]}\n",
      "    return render_template('result.html', port=port, features=dict_features, target_value=dict_prediction)\n",
      "\n",
      "@app.route('/deploy_to_staging/')                         # Deploys to Staging\n",
      "def deploy_staging() :\n",
      "    str_output  = pull()                                        # phase_1 git pull model\n",
      "    str_output += restart('staging')                            # phase_2 restart model server\n",
      "    return str_output\n",
      "\n",
      "@app.route('/deploy_to_production/')                      # Deploys to Production\n",
      "def deploy_production() :\n",
      "    str_output  = 'Copy Model from Staging to Production:===================\\n' \n",
      "    str_return_code = copy_model()                              # phase_1 copy model\n",
      "    if str_return_code == '0\\n' :\n",
      "        str_output += 'OK: Model copied\\n'\n",
      "        str_output += restart('production')                     # phase_2 restart model server\n",
      "    else : \n",
      "        str_output += 'ERROR: Model could NOT be copied'\n",
      "    return str_output\n",
      "\n",
      "@app.route('/report/')                                    # Route Report\n",
      "def report() : return render_template('report.html')\n",
      "\n",
      "@app.route('/report_simul/')                              # Route Report Simulation\n",
      "def report_simul() : return render_template('report_simulation.html')\n",
      "\n",
      "@app.route('/alert_score/', methods=['POST'])             # Route Alert Low Score\n",
      "def alert_score() :    \n",
      "    alert_threshold = 0.6\n",
      "    dict_response = request.json                                 # Data extraction\n",
      "    df_X = pd.DataFrame(data    = dict_response['dataframe_split']['data'], \n",
      "                        columns = dict_response['dataframe_split']['columns'])\n",
      "    ser_y = df_X.pop('target')                                   # Prediction\n",
      "    server = dict_response['server']  # staging or production\n",
      "    # model = skl.load_model(model_uri='../api/production_model/')\n",
      "    model = skl.load_model(model_uri='../api/' + server + '_model/')\n",
      "    np_y_pred = model.predict(df_X, bool_save_events=False)\n",
      "    df_X['target'] = ser_y\n",
      "    df_X['prediction'] = pd.Series(np_y_pred)\n",
      "    df_X.to_csv ('../modeling/data/out/api_observations.csv')     # Backup    \n",
      "    df_X.to_html('../website/templates/api_observations.html')\n",
      "    \n",
      "    score_auc    = roc_auc_score(ser_y, np_y_pred)               # Score\n",
      "    score_recall = recall_score( ser_y, np_y_pred) \n",
      "    str_score = 'Score AUC   = ' + str(score_auc.round(4))\n",
      "    if score_auc < alert_threshold : \n",
      "        send_email('alert_score(): ' + str_score)\n",
      "    return str_score + '\\nScore Recall= ' + str(score_recall.round(4))\n",
      "    \n",
      "@app.route('/backup/')                                     # Route View Backup\n",
      "def backup_csv() : \n",
      "    return render_template('api_observations.html')\n"
     ]
    }
   ],
   "source": [
    "web_router = dir_website + 'web_router.py'\n",
    "!cat $web_router"
   ]
  },
  {
   "cell_type": "markdown",
   "id": "d75796a7-af40-4264-9ad3-1676162306f6",
   "metadata": {},
   "source": [
    "## Serveur _Web_"
   ]
  },
  {
   "cell_type": "markdown",
   "id": "000102ee-8521-4bdd-a8fc-fac5dbe71389",
   "metadata": {},
   "source": [
    "<a id=\"web_server\"></a>\n",
    "<hr>"
   ]
  },
  {
   "cell_type": "markdown",
   "id": "39af3bae-4dd7-4321-b3a7-2073fc46760c",
   "metadata": {},
   "source": [
    "### Lancement"
   ]
  },
  {
   "cell_type": "code",
   "execution_count": 27,
   "id": "17d7da02-8e8b-49e9-b0ba-a9f4eb35bfd2",
   "metadata": {},
   "outputs": [],
   "source": [
    "shell_command = 'nohup flask --app $web_router run -h 0.0.0.0 -p $port_web_server --debug > ./flask_app.log 2>&1 &'\n",
    "get_ipython().system_raw(shell_command) # run model API in background"
   ]
  },
  {
   "cell_type": "markdown",
   "id": "0edfe70c-38eb-4a07-8940-cd0c5a5d0a15",
   "metadata": {},
   "source": [
    "### Vérifications\n",
    "#### Log"
   ]
  },
  {
   "cell_type": "code",
   "execution_count": 28,
   "id": "9b358db9-17fe-462b-b14c-54c93dabcf44",
   "metadata": {},
   "outputs": [
    {
     "name": "stdout",
     "output_type": "stream",
     "text": [
      " * Serving Flask app '../website/web_router.py'\n",
      " * Debug mode: on\n",
      "\u001b[31m\u001b[1mWARNING: This is a development server. Do not use it in a production deployment. Use a production WSGI server instead.\u001b[0m\n",
      " * Running on all addresses (0.0.0.0)\n",
      " * Running on http://127.0.0.1:6543\n",
      " * Running on http://10.1.0.4:6543\n",
      "\u001b[33mPress CTRL+C to quit\u001b[0m\n",
      " * Restarting with watchdog (inotify)\n"
     ]
    }
   ],
   "source": [
    "!tail ./flask_app.log"
   ]
  },
  {
   "cell_type": "markdown",
   "id": "50f6d070-6b27-48fa-a9ac-8647adb61ff2",
   "metadata": {},
   "source": [
    "#### Processus\n",
    "Liste des processus (2)"
   ]
  },
  {
   "cell_type": "code",
   "execution_count": 606,
   "id": "ff10b483-b694-4035-93df-c1b29338fbf4",
   "metadata": {},
   "outputs": [],
   "source": [
    "li_ps = !ps aux | grep \"flask\" | grep -v \"grep\" | awk '{print $2}' \n",
    "!ps aux | grep \"flask\" | grep -v \"grep\" "
   ]
  },
  {
   "cell_type": "markdown",
   "id": "af70c01a-d789-4251-82bc-1177e2aa00d5",
   "metadata": {},
   "source": [
    "Arrêt des processus"
   ]
  },
  {
   "cell_type": "code",
   "execution_count": 80,
   "id": "e387ec28-455d-457a-be76-88cf3d71d6c5",
   "metadata": {},
   "outputs": [],
   "source": [
    "for ps_i in li_ps : \n",
    "    #!kill -9 $ps_i"
   ]
  }
 ],
 "metadata": {
  "kernelspec": {
   "display_name": "Python 3 (ipykernel)",
   "language": "python",
   "name": "python3"
  },
  "language_info": {
   "codemirror_mode": {
    "name": "ipython",
    "version": 3
   },
   "file_extension": ".py",
   "mimetype": "text/x-python",
   "name": "python",
   "nbconvert_exporter": "python",
   "pygments_lexer": "ipython3",
   "version": "3.10.12"
  }
 },
 "nbformat": 4,
 "nbformat_minor": 5
}

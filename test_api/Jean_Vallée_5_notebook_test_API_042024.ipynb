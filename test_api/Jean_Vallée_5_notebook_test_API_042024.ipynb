{
 "cells": [
  {
   "cell_type": "markdown",
   "id": "6d56313f-5654-4ce4-a87d-a8afcfa427ae",
   "metadata": {},
   "source": [
    "# Tests unitaires de l'API\n",
    "## Scénario de test unitaire \n",
    "Vu qu'il s'agit d'un modèle de classification binaire, le test unitaire consistera à :\n",
    "- faire prédire la variable cible par l'API du modèle \n",
    "- fournir au modèle les valeurs des attributs via un formulaire\n",
    "\n",
    "Le micro-framework Web léger [_Flask_](https://flask.palletsprojects.com/en/3.0.x/quickstart/) prend en charge la gestion de requêtes et réponses REST. Cf. section [Serveur Web](#web_server)"
   ]
  },
  {
   "cell_type": "code",
   "execution_count": 77,
   "id": "4ff9fc9b-1965-4fb2-8ff4-1303868675c8",
   "metadata": {},
   "outputs": [],
   "source": [
    "ip_server = '13.92.86.145'\n",
    "port_api_server, port_web_server = '5678', '6543'\n",
    "url_api_server = ip_server + ':' + port_api_server + '/invocations'"
   ]
  },
  {
   "cell_type": "markdown",
   "id": "0559d3b1-26c3-4694-8848-ff52e1e24511",
   "metadata": {},
   "source": [
    "## Tests avec _pytest_"
   ]
  },
  {
   "cell_type": "markdown",
   "id": "12d4a3ec-c026-4be3-8726-fcca5f2100cb",
   "metadata": {},
   "source": [
    "#### Installation de _pytest_"
   ]
  },
  {
   "cell_type": "code",
   "execution_count": 15,
   "id": "7ee86a1b-e683-4d4c-8a6a-63be9b94b282",
   "metadata": {},
   "outputs": [
    {
     "name": "stdout",
     "output_type": "stream",
     "text": [
      "Found existing installation: pytest 8.2.1\n",
      "Uninstalling pytest-8.2.1:\n",
      "  Would remove:\n",
      "    /home/azureuser/environments_folder/my_env/bin/py.test\n",
      "    /home/azureuser/environments_folder/my_env/bin/pytest\n",
      "    /home/azureuser/environments_folder/my_env/lib/python3.10/site-packages/_pytest/*\n",
      "    /home/azureuser/environments_folder/my_env/lib/python3.10/site-packages/py.py\n",
      "    /home/azureuser/environments_folder/my_env/lib/python3.10/site-packages/pytest-8.2.1.dist-info/*\n",
      "    /home/azureuser/environments_folder/my_env/lib/python3.10/site-packages/pytest/*\n",
      "Proceed (Y/n)? ^C\n",
      "\u001b[31mERROR: Operation cancelled by user\u001b[0m\u001b[31m\n",
      "\u001b[0m"
     ]
    }
   ],
   "source": [
    "! pip install pytest"
   ]
  },
  {
   "cell_type": "markdown",
   "id": "95743095-ba3a-4fd6-98c7-f335d9b97c05",
   "metadata": {},
   "source": [
    "#### Fonctions de test"
   ]
  },
  {
   "cell_type": "code",
   "execution_count": 4,
   "id": "7c4c70f5-5665-472b-9740-fbc2aa53c03b",
   "metadata": {},
   "outputs": [
    {
     "name": "stdout",
     "output_type": "stream",
     "text": [
      "import requests\n",
      "import json\n",
      "\n",
      "def predict(dict_features):\n",
      "    # Send input data to prediction API\n",
      "    req_post = requests.post(   url     = 'http://13.92.86.145:5678/invocations',\n",
      "                                headers = {'Content-Type': 'application/json'},\n",
      "                                data    = json.dumps({'inputs': dict_features}) )\n",
      "    # Get predicted value from API\n",
      "    dict_predicted = json.loads(req_post.text)\n",
      "    return dict_predicted\n",
      "\n",
      "def test_prediction():\n",
      "    for idx, (in_1, in_2, out_i) in enumerate([\n",
      "                        (.2, .2, 1),\n",
      "                        (.3, .3, 1),\n",
      "                        (.4, .4, 0)   ]) :\n",
      "        print('_____________Unit Test N°', idx + 1, '_______________')\n",
      "        dict_features_i  = {'umap_x':[str(in_1)],'umap_y':[str(in_2)]}\n",
      "        dict_predicted_i = predict(dict_features_i)\n",
      "        dict_expected_i  = {'predictions':[out_i]}\n",
      "        print('input features   :', dict_features_i)\n",
      "        print('output predicted:', dict_predicted_i)\n",
      "        print('output expected :', dict_expected_i)\n",
      "\n",
      "        # Compare predicted & expected values\n",
      "        assert dict_predicted_i == dict_expected_i\n"
     ]
    }
   ],
   "source": [
    "!cat ../test_api/test_2.py"
   ]
  },
  {
   "cell_type": "markdown",
   "id": "391fc9f1-9d82-46e8-b699-e35c78b75d80",
   "metadata": {},
   "source": [
    "#### Exécution et résultats des tests"
   ]
  },
  {
   "cell_type": "code",
   "execution_count": 17,
   "id": "2791b555-b814-4b48-a03b-91092b05785a",
   "metadata": {},
   "outputs": [
    {
     "name": "stdout",
     "output_type": "stream",
     "text": [
      "\u001b[1m============================= test session starts ==============================\u001b[0m\n",
      "platform linux -- Python 3.10.12, pytest-8.2.1, pluggy-1.5.0\n",
      "rootdir: /home/azureuser/project_7\n",
      "plugins: anyio-4.3.0\n",
      "collected 2 items                                                              \u001b[0m\n",
      "\n",
      "../test_api/test_1.py \u001b[32m.\u001b[0m\u001b[32m                                                  [ 50%]\u001b[0m\n",
      "../test_api/test_2.py \u001b[32m.\u001b[0m\u001b[32m                                                  [100%]\u001b[0m\n",
      "\n",
      "==================================== PASSES ====================================\n",
      "\u001b[32m\u001b[1m_______________________________ test_connection ________________________________\u001b[0m\n",
      "----------------------------- Captured stdout call -----------------------------\n",
      "__________Connection to API Server_____________\n",
      "OK : Connected to API Server\n",
      "\u001b[32m\u001b[1m_______________________________ test_prediction ________________________________\u001b[0m\n",
      "----------------------------- Captured stdout call -----------------------------\n",
      "_____________Unit Test N° 1 _______________\n",
      "input features   : {'umap_x': ['0.2'], 'umap_y': ['0.2']}\n",
      "output predicted: {'predictions': [1]}\n",
      "output expected : {'predictions': [1]}\n",
      "_____________Unit Test N° 2 _______________\n",
      "input features   : {'umap_x': ['0.3'], 'umap_y': ['0.3']}\n",
      "output predicted: {'predictions': [1]}\n",
      "output expected : {'predictions': [1]}\n",
      "_____________Unit Test N° 3 _______________\n",
      "input features   : {'umap_x': ['0.4'], 'umap_y': ['0.4']}\n",
      "output predicted: {'predictions': [0]}\n",
      "output expected : {'predictions': [0]}\n",
      "\u001b[36m\u001b[1m=========================== short test summary info ============================\u001b[0m\n",
      "\u001b[32mPASSED\u001b[0m ../test_api/test_1.py::\u001b[1mtest_connection\u001b[0m\n",
      "\u001b[32mPASSED\u001b[0m ../test_api/test_2.py::\u001b[1mtest_prediction\u001b[0m\n",
      "\u001b[32m============================== \u001b[32m\u001b[1m2 passed\u001b[0m\u001b[32m in 0.11s\u001b[0m\u001b[32m ===============================\u001b[0m\n"
     ]
    }
   ],
   "source": [
    "!python -m pytest --import-mode=append -rA ../test_api/"
   ]
  },
  {
   "cell_type": "markdown",
   "id": "bfedbc2f-8323-475c-98f4-795952f6cc63",
   "metadata": {},
   "source": [
    "**Observation** : les résultats des tests unitaires sont positifs"
   ]
  },
  {
   "cell_type": "markdown",
   "id": "cb83ff97-695a-4cfd-975e-6bd61797e64a",
   "metadata": {},
   "source": [
    "## Tests via _curl_"
   ]
  },
  {
   "cell_type": "code",
   "execution_count": null,
   "id": "63c865b0-6b11-45fb-9f0d-98f4d6f5ac1a",
   "metadata": {},
   "outputs": [],
   "source": [
    "import subprocess"
   ]
  },
  {
   "cell_type": "code",
   "execution_count": 81,
   "id": "95656f75-a29f-4735-90de-dfc97c7ff39e",
   "metadata": {},
   "outputs": [
    {
     "name": "stdout",
     "output_type": "stream",
     "text": [
      "{\"predictions\": [0]} expected : 0 for attributes: -0.749079, 1.281123\n"
     ]
    }
   ],
   "source": [
    "def get_single_prediction(str_attributes, str_expected) :\n",
    "    shell_command = 'curl \\\n",
    "        -d \\'{\"dataframe_split\": { \"columns\": [\"umap_x\",\"umap_y\"], \"data\": [[' + str_attributes + ']]}}\\' \\\n",
    "        -H \\'Content-Type: application/json\\' -X POST ' + url_api_server + ' --no-progress-meter'\n",
    "    print(subprocess.getoutput(shell_command), 'expected :', str_expected, 'for attributes:', str_attributes)\n",
    "get_single_prediction('-0.749079, 1.281123', '0')"
   ]
  },
  {
   "cell_type": "markdown",
   "id": "542cbd0d-c679-4b2b-b9a6-c462d5f0d1e0",
   "metadata": {},
   "source": [
    "## Tests via interface Web d'API"
   ]
  },
  {
   "cell_type": "markdown",
   "id": "76e6a8d4-613d-4289-804d-43ed9c69a218",
   "metadata": {},
   "source": [
    "### Accès en ligne"
   ]
  },
  {
   "cell_type": "code",
   "execution_count": 45,
   "id": "dddb2063-29a1-41e2-a184-5ed549e9d650",
   "metadata": {},
   "outputs": [
    {
     "name": "stdout",
     "output_type": "stream",
     "text": [
      "Website URL = http://13.92.86.145:6543\n"
     ]
    }
   ],
   "source": [
    "print('Website URL =' , 'http://' + ip_server + ':' + port_web_server)"
   ]
  },
  {
   "cell_type": "markdown",
   "id": "31e43b37-7cf7-4e92-a33b-2a217b712ec4",
   "metadata": {},
   "source": [
    "### Arborescence de fichiers"
   ]
  },
  {
   "cell_type": "code",
   "execution_count": 24,
   "id": "3ad7e545-a9e7-41fe-818b-688a1b288308",
   "metadata": {},
   "outputs": [
    {
     "name": "stdout",
     "output_type": "stream",
     "text": [
      "  └── website\n",
      "  |  └── .ipynb_checkpoints\n",
      "  |  |  └── Jean_Vallée_5_notebook_test_API_042024-checkpoint.ipynb\n",
      "  |  └── web_router.py\n",
      "  |  └── templates\n",
      "  |  |  └── result.html\n",
      "  |  |  └── index.html\n",
      "  |  |  └── form.html\n",
      "  |  └── static\n",
      "  |  |  └── css\n",
      "  |  |  |  └── style.css\n",
      "  |  └── Jean_Vallée_5_notebook_test_API_042024.ipynb\n"
     ]
    }
   ],
   "source": [
    "! find ../website | sed -e \"s/[^\\/]*\\//  |/g\" -e \"s/|\\([^ ]\\)/└── \\1/\""
   ]
  },
  {
   "cell_type": "markdown",
   "id": "cd56d60e-5125-44e9-860a-9617feea7430",
   "metadata": {},
   "source": [
    "### Fichiers _HTML_"
   ]
  },
  {
   "cell_type": "code",
   "execution_count": 66,
   "id": "73cbfef1-bdc7-46b9-9219-6fac186f77fa",
   "metadata": {},
   "outputs": [],
   "source": [
    "import IPython\n",
    "dir_website = '../website/'\n",
    "dir_html = dir_website + 'templates/'"
   ]
  },
  {
   "cell_type": "markdown",
   "id": "f847a745-d8be-4908-bfcd-41f46d8e6d8c",
   "metadata": {},
   "source": [
    "#### Index  \n",
    "Fichier d'accueil"
   ]
  },
  {
   "cell_type": "code",
   "execution_count": 21,
   "id": "1958e589-651b-49dc-b0cb-e562049a9820",
   "metadata": {},
   "outputs": [
    {
     "name": "stdout",
     "output_type": "stream",
     "text": [
      "\n",
      "<!DOCTYPE html>\n",
      "<html lang=\"en\">\n",
      "    <head>\n",
      "        <meta charset=\"UTF-8\">\n",
      "        <link rel=\"stylesheet\" href=\"{{ url_for('static', filename= 'css/style.css') }}\">\n",
      "        <title>ML model API</title>\n",
      "    </head>\n",
      "    <body>\n",
      "       <h1>API du modèle de classification binaire</h1>      \n",
      "       <h2>Page d'accueil</h2>    \n",
      "       <a href=\"/form/\">Formulaire</a>\n",
      "    </body>\n",
      "</html>\n",
      "\n"
     ]
    }
   ],
   "source": [
    "file_html_index = dir_html + 'index.html'\n",
    "!cat $file_html_index"
   ]
  },
  {
   "cell_type": "code",
   "execution_count": 33,
   "id": "97066324-7b8a-46ab-a4f6-2b1e99a8bcc5",
   "metadata": {},
   "outputs": [
    {
     "data": {
      "text/html": [
       "\n",
       "        <iframe\n",
       "            width=\"700\"\n",
       "            height=\"350\"\n",
       "            src=\"./templates/index.html\"\n",
       "            frameborder=\"0\"\n",
       "            allowfullscreen\n",
       "            \n",
       "        ></iframe>\n",
       "        "
      ],
      "text/plain": [
       "<IPython.lib.display.IFrame at 0x7a27b0faf940>"
      ]
     },
     "execution_count": 33,
     "metadata": {},
     "output_type": "execute_result"
    }
   ],
   "source": [
    "IPython.display.IFrame(file_html_index, width=700, height=350) "
   ]
  },
  {
   "cell_type": "markdown",
   "id": "60a4a4cd-e991-4872-ad33-f7d00b0e9d5e",
   "metadata": {},
   "source": [
    "#### Formulaire  \n",
    "Formulaire de saisie des atttributs"
   ]
  },
  {
   "cell_type": "code",
   "execution_count": 100,
   "id": "bca85c18-eeb4-4221-ab10-8c72cd0de2f1",
   "metadata": {},
   "outputs": [],
   "source": [
    "path_form = dir_html + 'form.html'"
   ]
  },
  {
   "cell_type": "code",
   "execution_count": 101,
   "id": "13ef78c3-94d3-4516-9e54-3e10a390efec",
   "metadata": {},
   "outputs": [],
   "source": [
    "str_form = \\\n",
    "'''\\\n",
    "<!DOCTYPE html>\n",
    "<html lang=\"en\">\n",
    "    <head>\n",
    "        <meta charset=\"UTF-8\">\n",
    "        <link rel=\"stylesheet\" href=\"{{ url_for('static', filename= 'css/style.css') }}\">\n",
    "        <title>ML model API</title>\n",
    "    </head>\n",
    "    <body>\n",
    "        <h1>API du modèle de classification binaire</h1>       \n",
    "        <h2>Formulaire de saisie d'attributs</h2>       \n",
    "        \n",
    "        <form method=\"post\" action=\"{{ url_for('result') }}\">\n",
    "            <div>\n",
    "            \t<label for=\"port\">Server:</label>\n",
    "            \t<select id=\"port\" name=\"port\">\n",
    "                \t\t<option value=\"5677\"> Staging    </option>\n",
    "                \t\t<option value=\"5678\"> Production </option>\n",
    "            \t</select>\n",
    "            </div>\\\n",
    "'''"
   ]
  },
  {
   "cell_type": "code",
   "execution_count": 103,
   "id": "05cb86d0-df61-45ff-bac7-0f013c388909",
   "metadata": {},
   "outputs": [
    {
     "data": {
      "text/plain": [
       "['CODE_GENDER_M',\n",
       " 'NAME_CONTRACT_TYPE_Cash_loans',\n",
       " 'NAME_EDUCATION_TYPE_Lower_secondary',\n",
       " 'EXT_SOURCE_3',\n",
       " 'NAME_EDUCATION_TYPE_Higher_education',\n",
       " 'NAME_EDUCATION_TYPE_Secondary_or_secondary_special']"
      ]
     },
     "execution_count": 103,
     "metadata": {},
     "output_type": "execute_result"
    }
   ],
   "source": [
    "with open('../api/staging_model/li_features.txt') as file_object:\n",
    "    str_li_features = file_object.read()\n",
    "li_features = eval(str_li_features)\n",
    "li_features"
   ]
  },
  {
   "cell_type": "code",
   "execution_count": 102,
   "id": "84d0521a-d2c9-4991-bebd-1f6bbf7be742",
   "metadata": {},
   "outputs": [],
   "source": [
    "def get_div_per_feature(idx, str_feature_i) :\n",
    "    str_div_i = \\\n",
    "    '''\n",
    "                <div>\n",
    "                    <label for=\"input_str_idx\">str_feature_i :</label>\n",
    "                    <input name=\"str_feature_i\" id=\"input_str_idx\" type=\"number\" step=\"any\" value=\"0.3\">\n",
    "                </div> \\\n",
    "    '''\n",
    "    return str_div_i.replace('str_idx',       str(idx))    \\\n",
    "                    .replace('str_feature_i', str_feature_i)                        "
   ]
  },
  {
   "cell_type": "code",
   "execution_count": 104,
   "id": "dc0deaa8-c7f4-4edb-b3c6-5702112c3f45",
   "metadata": {},
   "outputs": [],
   "source": [
    "for idx, feature_i in enumerate(li_features) :\n",
    "    str_form += get_div_per_feature(idx + 1, feature_i)"
   ]
  },
  {
   "cell_type": "code",
   "execution_count": 105,
   "id": "22d81e13-3c11-4fa4-95a2-37313ae939d5",
   "metadata": {},
   "outputs": [],
   "source": [
    "str_form += \\\n",
    "'''\n",
    "            <div>\n",
    "                <button>Predict</button>\n",
    "            </div>\n",
    "        </form>\n",
    "      \n",
    "    </body>\n",
    "</html>\n",
    "'''"
   ]
  },
  {
   "cell_type": "code",
   "execution_count": 106,
   "id": "b0449916-9486-40d7-9c50-ea2a32dacb66",
   "metadata": {},
   "outputs": [],
   "source": [
    "with open(path_form, \"w\") as file_object:\n",
    "    print(str_form, file=file_object)"
   ]
  },
  {
   "cell_type": "code",
   "execution_count": 107,
   "id": "2cf7c112-d906-40c7-b243-2f9c07b703fc",
   "metadata": {},
   "outputs": [
    {
     "name": "stdout",
     "output_type": "stream",
     "text": [
      "<!DOCTYPE html>\n",
      "<html lang=\"en\">\n",
      "    <head>\n",
      "        <meta charset=\"UTF-8\">\n",
      "        <link rel=\"stylesheet\" href=\"{{ url_for('static', filename= 'css/style.css') }}\">\n",
      "        <title>ML model API</title>\n",
      "    </head>\n",
      "    <body>\n",
      "        <h1>API du modèle de classification binaire</h1>       \n",
      "        <h2>Formulaire de saisie d'attributs</h2>       \n",
      "        \n",
      "        <form method=\"post\" action=\"{{ url_for('result') }}\">\n",
      "            <div>\n",
      "            \t<label for=\"port\">Server:</label>\n",
      "            \t<select id=\"port\" name=\"port\">\n",
      "                \t\t<option value=\"5677\"> Staging    </option>\n",
      "                \t\t<option value=\"5678\"> Production </option>\n",
      "            \t</select>\n",
      "            </div>\n",
      "                <div>\n",
      "                    <label for=\"input_1\">CODE_GENDER_M :</label>\n",
      "                    <input name=\"CODE_GENDER_M\" id=\"input_1\" type=\"number\" step=\"any\" value=\"0.3\">\n",
      "                </div>     \n",
      "                <div>\n",
      "                    <label for=\"input_2\">NAME_CONTRACT_TYPE_Cash_loans :</label>\n",
      "                    <input name=\"NAME_CONTRACT_TYPE_Cash_loans\" id=\"input_2\" type=\"number\" step=\"any\" value=\"0.3\">\n",
      "                </div>     \n",
      "                <div>\n",
      "                    <label for=\"input_3\">NAME_EDUCATION_TYPE_Lower_secondary :</label>\n",
      "                    <input name=\"NAME_EDUCATION_TYPE_Lower_secondary\" id=\"input_3\" type=\"number\" step=\"any\" value=\"0.3\">\n",
      "                </div>     \n",
      "                <div>\n",
      "                    <label for=\"input_4\">EXT_SOURCE_3 :</label>\n",
      "                    <input name=\"EXT_SOURCE_3\" id=\"input_4\" type=\"number\" step=\"any\" value=\"0.3\">\n",
      "                </div>     \n",
      "                <div>\n",
      "                    <label for=\"input_5\">NAME_EDUCATION_TYPE_Higher_education :</label>\n",
      "                    <input name=\"NAME_EDUCATION_TYPE_Higher_education\" id=\"input_5\" type=\"number\" step=\"any\" value=\"0.3\">\n",
      "                </div>     \n",
      "                <div>\n",
      "                    <label for=\"input_6\">NAME_EDUCATION_TYPE_Secondary_or_secondary_special :</label>\n",
      "                    <input name=\"NAME_EDUCATION_TYPE_Secondary_or_secondary_special\" id=\"input_6\" type=\"number\" step=\"any\" value=\"0.3\">\n",
      "                </div>     \n",
      "            <div>\n",
      "                <button>Predict</button>\n",
      "            </div>\n",
      "        </form>\n",
      "      \n",
      "    </body>\n",
      "</html>\n",
      "\n"
     ]
    }
   ],
   "source": [
    "!cat $path_form"
   ]
  },
  {
   "cell_type": "code",
   "execution_count": 108,
   "id": "58d28614-4afe-4a47-85c8-cb1cee198a9b",
   "metadata": {},
   "outputs": [
    {
     "data": {
      "text/html": [
       "\n",
       "        <iframe\n",
       "            width=\"700\"\n",
       "            height=\"350\"\n",
       "            src=\"../website/templates/form.html\"\n",
       "            frameborder=\"0\"\n",
       "            allowfullscreen\n",
       "            \n",
       "        ></iframe>\n",
       "        "
      ],
      "text/plain": [
       "<IPython.lib.display.IFrame at 0x766919fbf0a0>"
      ]
     },
     "execution_count": 108,
     "metadata": {},
     "output_type": "execute_result"
    }
   ],
   "source": [
    "IPython.display.IFrame(path_form, width=700, height=350) "
   ]
  },
  {
   "cell_type": "markdown",
   "id": "5aff3044-23da-4138-a16d-0b1afd80d6bc",
   "metadata": {},
   "source": [
    "#### Résultat\n",
    "Page de résultat de prédiction par l'API du modèle"
   ]
  },
  {
   "cell_type": "code",
   "execution_count": 110,
   "id": "72f423a9-0d2a-4035-b21b-53bd701d4c51",
   "metadata": {},
   "outputs": [],
   "source": [
    "path_result = dir_html + 'result.html'"
   ]
  },
  {
   "cell_type": "code",
   "execution_count": 149,
   "id": "3de854d9-1437-459a-bd0d-67cf5b3447a1",
   "metadata": {},
   "outputs": [],
   "source": [
    "str_result = \\\n",
    "'''\\\n",
    "<!DOCTYPE html>\n",
    "<html lang=\"en\">\n",
    "    <head>\n",
    "        <meta charset=\"UTF-8\">\n",
    "        <link rel=\"stylesheet\" href=\"{{ url_for('static', filename= 'css/style.css') }}\">\n",
    "        <title>ML model API</title>\n",
    "    </head>\n",
    "    <body>\n",
    "       <h1>API du modèle de classification binaire</h1>      \n",
    "       <h2>Page de prédiction du modèle</h2> \n",
    "       <p>Valeur prédite = {{target_value['predictions']}}</p>\n",
    "       <p>Pour les valeurs saisies des attributs suivants :</p>\n",
    "'''"
   ]
  },
  {
   "cell_type": "code",
   "execution_count": 150,
   "id": "536cc9e5-d8b0-464f-9dcf-8f421e21cb25",
   "metadata": {},
   "outputs": [
    {
     "data": {
      "text/plain": [
       "['CODE_GENDER_M',\n",
       " 'NAME_CONTRACT_TYPE_Cash_loans',\n",
       " 'NAME_EDUCATION_TYPE_Lower_secondary',\n",
       " 'EXT_SOURCE_3',\n",
       " 'NAME_EDUCATION_TYPE_Higher_education',\n",
       " 'NAME_EDUCATION_TYPE_Secondary_or_secondary_special']"
      ]
     },
     "execution_count": 150,
     "metadata": {},
     "output_type": "execute_result"
    }
   ],
   "source": [
    "with open('../api/staging_model/li_features.txt') as file_object:\n",
    "    str_li_features = file_object.read()\n",
    "li_features = eval(str_li_features)\n",
    "li_features"
   ]
  },
  {
   "cell_type": "code",
   "execution_count": 151,
   "id": "413f3501-65c6-4825-908d-9e26c9f9e3b4",
   "metadata": {},
   "outputs": [],
   "source": [
    "def get_div_per_feature(idx, str_feature_i) :\n",
    "    str_div_i = \\\n",
    "    ''' \n",
    "       <p>str_feature_i = {{features['str_feature_i']}}</p>  \\\n",
    "    '''\n",
    "    return str_div_i.replace('str_idx',       str(idx))    \\\n",
    "                    .replace('str_feature_i', str_feature_i)                        "
   ]
  },
  {
   "cell_type": "code",
   "execution_count": 152,
   "id": "ded7fed8-baf1-4c0e-bdac-5d5e4a2533bd",
   "metadata": {},
   "outputs": [],
   "source": [
    "for idx, feature_i in enumerate(li_features) :\n",
    "    str_result += get_div_per_feature(idx + 1, feature_i)"
   ]
  },
  {
   "cell_type": "code",
   "execution_count": 153,
   "id": "1a0afce7-482d-47d3-8739-5e3d6dcc70ef",
   "metadata": {},
   "outputs": [],
   "source": [
    "str_result += \\\n",
    "'''\n",
    "       <a href=\"/\">Retour à l'accueil</a>\n",
    "       <a href=\"/form/\">Formulaire</a>\n",
    "    </body>\n",
    "</html>\n",
    "'''"
   ]
  },
  {
   "cell_type": "code",
   "execution_count": 154,
   "id": "4903c80f-e220-4632-8329-28812ccd34a2",
   "metadata": {},
   "outputs": [],
   "source": [
    "with open(path_result, \"w\") as file_object:\n",
    "    print(str_result, file=file_object)"
   ]
  },
  {
   "cell_type": "code",
   "execution_count": 155,
   "id": "663b2214-7681-48bd-b03a-8c3c381e9d5c",
   "metadata": {},
   "outputs": [
    {
     "name": "stdout",
     "output_type": "stream",
     "text": [
      "<!DOCTYPE html>\n",
      "<html lang=\"en\">\n",
      "    <head>\n",
      "        <meta charset=\"UTF-8\">\n",
      "        <link rel=\"stylesheet\" href=\"{{ url_for('static', filename= 'css/style.css') }}\">\n",
      "        <title>ML model API</title>\n",
      "    </head>\n",
      "    <body>\n",
      "       <h1>API du modèle de classification binaire</h1>      \n",
      "       <h2>Page de prédiction du modèle</h2> \n",
      "       <p>Valeur prédite = {{target_value['predictions']}}</p>\n",
      "       <p>Pour les valeurs saisies des attributs suivants :</p>\n",
      " \n",
      "       <p>CODE_GENDER_M = {{features['CODE_GENDER_M']}}</p>       \n",
      "       <p>NAME_CONTRACT_TYPE_Cash_loans = {{features['NAME_CONTRACT_TYPE_Cash_loans']}}</p>       \n",
      "       <p>NAME_EDUCATION_TYPE_Lower_secondary = {{features['NAME_EDUCATION_TYPE_Lower_secondary']}}</p>       \n",
      "       <p>EXT_SOURCE_3 = {{features['EXT_SOURCE_3']}}</p>       \n",
      "       <p>NAME_EDUCATION_TYPE_Higher_education = {{features['NAME_EDUCATION_TYPE_Higher_education']}}</p>       \n",
      "       <p>NAME_EDUCATION_TYPE_Secondary_or_secondary_special = {{features['NAME_EDUCATION_TYPE_Secondary_or_secondary_special']}}</p>      \n",
      "       <a href=\"/\">Retour à l'accueil</a>\n",
      "       <a href=\"/form/\">Formulaire</a>\n",
      "    </body>\n",
      "</html>\n",
      "\n"
     ]
    }
   ],
   "source": [
    "!cat $path_result"
   ]
  },
  {
   "cell_type": "code",
   "execution_count": 156,
   "id": "4d7e1047-60a5-4a04-a2eb-bd9e202a7860",
   "metadata": {},
   "outputs": [
    {
     "data": {
      "text/html": [
       "\n",
       "        <iframe\n",
       "            width=\"700\"\n",
       "            height=\"350\"\n",
       "            src=\"../website/templates/result.html\"\n",
       "            frameborder=\"0\"\n",
       "            allowfullscreen\n",
       "            \n",
       "        ></iframe>\n",
       "        "
      ],
      "text/plain": [
       "<IPython.lib.display.IFrame at 0x766919fbefb0>"
      ]
     },
     "execution_count": 156,
     "metadata": {},
     "output_type": "execute_result"
    }
   ],
   "source": [
    "IPython.display.IFrame(path_result, width=700, height=350) "
   ]
  },
  {
   "cell_type": "markdown",
   "id": "8998fae1-d803-4e55-b892-365e9629a812",
   "metadata": {},
   "source": [
    "#### Style"
   ]
  },
  {
   "cell_type": "code",
   "execution_count": 10,
   "id": "de8334de-7652-489d-8e71-b80ffb741b2d",
   "metadata": {},
   "outputs": [],
   "source": [
    "dir_style = './static/css/'"
   ]
  },
  {
   "cell_type": "code",
   "execution_count": 11,
   "id": "8ab6e006-fd0b-4b8e-8eb5-b5d9935e6428",
   "metadata": {},
   "outputs": [
    {
     "name": "stdout",
     "output_type": "stream",
     "text": [
      "\n",
      "h1 {\n",
      "    border: 2px #eee solid;\n",
      "    color: brown;\n",
      "    text-align: center;\n",
      "    padding: 10px;\n",
      "}\n",
      "\n"
     ]
    }
   ],
   "source": [
    "file_style = dir_style + 'style.css'\n",
    "!cat $file_style"
   ]
  },
  {
   "cell_type": "markdown",
   "id": "308cb3a4-ff78-48e7-b43c-b07c1342ec41",
   "metadata": {},
   "source": [
    "### Fichiers _Python_"
   ]
  },
  {
   "cell_type": "markdown",
   "id": "9f8d70b0-3989-40c6-8eb9-12ea5b96ed74",
   "metadata": {},
   "source": [
    "#### Routeur Web  \n",
    "Un fichier en Pyhton couvre la gestion REST"
   ]
  },
  {
   "cell_type": "code",
   "execution_count": null,
   "id": "3d40dc06-8931-4b60-99a7-59379f679f1d",
   "metadata": {},
   "outputs": [],
   "source": [
    "web_router = dir_website + 'web_router.py'\n",
    "!cat $web_router"
   ]
  },
  {
   "cell_type": "markdown",
   "id": "d75796a7-af40-4264-9ad3-1676162306f6",
   "metadata": {},
   "source": [
    "## Serveur _Web_"
   ]
  },
  {
   "cell_type": "markdown",
   "id": "000102ee-8521-4bdd-a8fc-fac5dbe71389",
   "metadata": {},
   "source": [
    "<a id=\"web_server\"></a>\n",
    "<hr>"
   ]
  },
  {
   "cell_type": "markdown",
   "id": "39af3bae-4dd7-4321-b3a7-2073fc46760c",
   "metadata": {},
   "source": [
    "### Lancement"
   ]
  },
  {
   "cell_type": "code",
   "execution_count": 69,
   "id": "17d7da02-8e8b-49e9-b0ba-a9f4eb35bfd2",
   "metadata": {},
   "outputs": [],
   "source": [
    "shell_command = 'flask --app $web_router run -h 0.0.0.0 -p 6543 --debug > ./flask_app.log 2>&1 &'\n",
    "get_ipython().system_raw(shell_command) # run model API in background"
   ]
  },
  {
   "cell_type": "markdown",
   "id": "0edfe70c-38eb-4a07-8940-cd0c5a5d0a15",
   "metadata": {},
   "source": [
    "### Vérifications\n",
    "#### Log"
   ]
  },
  {
   "cell_type": "code",
   "execution_count": 70,
   "id": "9b358db9-17fe-462b-b14c-54c93dabcf44",
   "metadata": {},
   "outputs": [
    {
     "name": "stdout",
     "output_type": "stream",
     "text": [
      " * Serving Flask app '../website/web_router.py'\n",
      " * Debug mode: on\n",
      "\u001b[31m\u001b[1mWARNING: This is a development server. Do not use it in a production deployment. Use a production WSGI server instead.\u001b[0m\n",
      " * Running on all addresses (0.0.0.0)\n",
      " * Running on http://127.0.0.1:6543\n",
      " * Running on http://10.0.0.4:6543\n",
      "\u001b[33mPress CTRL+C to quit\u001b[0m\n",
      " * Restarting with stat\n",
      " * Debugger is active!\n",
      " * Debugger PIN: 437-268-997\n"
     ]
    }
   ],
   "source": [
    "!tail ./flask_app.log"
   ]
  },
  {
   "cell_type": "markdown",
   "id": "50f6d070-6b27-48fa-a9ac-8647adb61ff2",
   "metadata": {},
   "source": [
    "#### Processus\n",
    "Liste des processus"
   ]
  },
  {
   "cell_type": "code",
   "execution_count": 71,
   "id": "ff10b483-b694-4035-93df-c1b29338fbf4",
   "metadata": {},
   "outputs": [
    {
     "name": "stdout",
     "output_type": "stream",
     "text": [
      "azureus+  267805  6.0  0.9  37652 31896 ?        S    22:25   0:00 /home/azureuser/environments_folder/my_env/bin/python3 /home/azureuser/environments_folder/my_env/bin/flask --app ../website/web_router.py run -h 0.0.0.0 -p 6543 --debug\n",
      "azureus+  267806  6.7  0.9 111384 31640 ?        Sl   22:25   0:00 /home/azureuser/environments_folder/my_env/bin/python3 /home/azureuser/environments_folder/my_env/bin/flask --app ../website/web_router.py run -h 0.0.0.0 -p 6543 --debug\n"
     ]
    }
   ],
   "source": [
    "li_ps = !ps aux | grep \"flask\" | grep -v \"grep\" | awk '{print $2}' \n",
    "!ps aux | grep \"flask\" | grep -v \"grep\" "
   ]
  },
  {
   "cell_type": "markdown",
   "id": "af70c01a-d789-4251-82bc-1177e2aa00d5",
   "metadata": {},
   "source": [
    "Arrêt des processus"
   ]
  },
  {
   "cell_type": "code",
   "execution_count": 62,
   "id": "e387ec28-455d-457a-be76-88cf3d71d6c5",
   "metadata": {},
   "outputs": [],
   "source": [
    "for ps_i in li_ps : \n",
    "    #!kill -9 $ps_i"
   ]
  }
 ],
 "metadata": {
  "kernelspec": {
   "display_name": "Python 3 (ipykernel)",
   "language": "python",
   "name": "python3"
  },
  "language_info": {
   "codemirror_mode": {
    "name": "ipython",
    "version": 3
   },
   "file_extension": ".py",
   "mimetype": "text/x-python",
   "name": "python",
   "nbconvert_exporter": "python",
   "pygments_lexer": "ipython3",
   "version": "3.10.12"
  }
 },
 "nbformat": 4,
 "nbformat_minor": 5
}

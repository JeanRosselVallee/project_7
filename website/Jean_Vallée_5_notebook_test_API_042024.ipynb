{
 "cells": [
  {
   "cell_type": "markdown",
   "id": "6d56313f-5654-4ce4-a87d-a8afcfa427ae",
   "metadata": {},
   "source": [
    "# Tests unitaires de l'API\n",
    "## Scénario de test unitaire \n",
    "Vu qu'il s'agit d'un modèle de classification binaire, le test unitaire consistera à :\n",
    "- faire prédire la variable cible par l'API du modèle \n",
    "- fournir au modèle les valeurs des attributs via un formulaire\n",
    "\n",
    "Le micro-framework Web léger [_Flask_](https://flask.palletsprojects.com/en/3.0.x/quickstart/) prend en charge la gestion de requêtes et réponses REST"
   ]
  },
  {
   "cell_type": "markdown",
   "id": "cb83ff97-695a-4cfd-975e-6bd61797e64a",
   "metadata": {},
   "source": [
    "## Fichiers _HTML_"
   ]
  },
  {
   "cell_type": "code",
   "execution_count": 1,
   "id": "4ed3cabc-e344-47a1-be56-46e371b3c942",
   "metadata": {},
   "outputs": [],
   "source": [
    "dir_api = './api_folder/'\n",
    "!mkdir -p $dir_api"
   ]
  },
  {
   "cell_type": "code",
   "execution_count": 2,
   "id": "73cbfef1-bdc7-46b9-9219-6fac186f77fa",
   "metadata": {},
   "outputs": [],
   "source": [
    "dir_template = dir_api + 'templates/'\n",
    "!mkdir -p $dir_template "
   ]
  },
  {
   "cell_type": "markdown",
   "id": "485f944f-209e-40c5-b758-4bddcf91b78b",
   "metadata": {},
   "source": [
    "Module de validation de formulaires pour _Flask_"
   ]
  },
  {
   "cell_type": "code",
   "execution_count": 48,
   "id": "21d92f83-356e-413d-9774-0d774d310ed4",
   "metadata": {},
   "outputs": [
    {
     "name": "stdout",
     "output_type": "stream",
     "text": [
      "Requirement already satisfied: wtforms in /home/azureuser/environments_folder/my_env/lib/python3.10/site-packages (3.1.2)\n",
      "Requirement already satisfied: markupsafe in /home/azureuser/environments_folder/my_env/lib/python3.10/site-packages (from wtforms) (2.1.5)\n"
     ]
    }
   ],
   "source": [
    "#!pip install wtforms"
   ]
  },
  {
   "cell_type": "code",
   "execution_count": null,
   "id": "595e2bcc-cc66-42aa-866a-d8a61ed24a9e",
   "metadata": {},
   "outputs": [],
   "source": [
    "#help('wtforms.fields.form')"
   ]
  },
  {
   "cell_type": "markdown",
   "id": "f847a745-d8be-4908-bfcd-41f46d8e6d8c",
   "metadata": {},
   "source": [
    "### Index  \n",
    "Fichier d'accueil"
   ]
  },
  {
   "cell_type": "code",
   "execution_count": 236,
   "id": "cf119f4a-ddbd-4581-9f1a-fdcf2515bdd8",
   "metadata": {},
   "outputs": [
    {
     "name": "stdout",
     "output_type": "stream",
     "text": [
      "-rw-rw-r-- 1 azureuser azureuser 383 May 15 11:12 ./api_folder/templates/index.html\n"
     ]
    }
   ],
   "source": [
    "file_html_index = dir_template + 'index.html'\n",
    "code_html_index = \\\n",
    "'''\n",
    "<!DOCTYPE html>\n",
    "<html lang=#en#>\n",
    "    <head>\n",
    "        <meta charset=#UTF-8#>\n",
    "        <link rel=#stylesheet# href=#{{ url_for('static', filename= 'css/style.css') }}#>\n",
    "        <title>ML model API</title>\n",
    "    </head>\n",
    "    <body>\n",
    "       <h1>API du modèle de classification binaire</h1>      \n",
    "       <h2>Page d'accueil</h2>    \n",
    "       <a href=#/form/#>Formulaire</a>\n",
    "    </body>\n",
    "</html>\n",
    "'''\n",
    "!echo \"$code_html_index\" | sed \"s/#/\\\"/g\"> $file_html_index\n",
    "!ls -l $file_html_index"
   ]
  },
  {
   "cell_type": "markdown",
   "id": "1db9ef2e-01e9-40a7-93c0-a883dfcee8f9",
   "metadata": {},
   "source": [
    "**Vérification du contenu**"
   ]
  },
  {
   "cell_type": "code",
   "execution_count": 237,
   "id": "1958e589-651b-49dc-b0cb-e562049a9820",
   "metadata": {},
   "outputs": [
    {
     "name": "stdout",
     "output_type": "stream",
     "text": [
      "\n",
      "<!DOCTYPE html>\n",
      "<html lang=\"en\">\n",
      "    <head>\n",
      "        <meta charset=\"UTF-8\">\n",
      "        <link rel=\"stylesheet\" href=\"{{ url_for('static', filename= 'css/style.css') }}\">\n",
      "        <title>ML model API</title>\n",
      "    </head>\n",
      "    <body>\n",
      "       <h1>API du modèle de classification binaire</h1>      \n",
      "       <h2>Page d'accueil</h2>    \n",
      "       <a href=\"/form/\">Formulaire</a>\n",
      "    </body>\n",
      "</html>\n",
      "\n"
     ]
    }
   ],
   "source": [
    "!cat $file_html_index"
   ]
  },
  {
   "cell_type": "markdown",
   "id": "60a4a4cd-e991-4872-ad33-f7d00b0e9d5e",
   "metadata": {},
   "source": [
    "### Formulaire  \n",
    "Formulaire de saisie des atttributs"
   ]
  },
  {
   "cell_type": "code",
   "execution_count": 326,
   "id": "c0008919-3ddb-43c8-8f75-1af6a0203f83",
   "metadata": {},
   "outputs": [
    {
     "name": "stdout",
     "output_type": "stream",
     "text": [
      "-rw-rw-r-- 1 azureuser azureuser 896 May 16 08:35 ./api_folder/templates/form.html\n"
     ]
    }
   ],
   "source": [
    "file_html_form = dir_template + 'form.html'\n",
    "code_html_form = \\\n",
    "'''\n",
    "<!DOCTYPE html>\n",
    "<html lang=#en#>\n",
    "    <head>\n",
    "        <meta charset=#UTF-8#>\n",
    "        <link rel=#stylesheet# href=#{{ url_for('static', filename= 'css/style.css') }}#>\n",
    "        <title>ML model API</title>\n",
    "    </head>\n",
    "    <body>\n",
    "        <h1>API du modèle de classification binaire</h1>       \n",
    "        <h2>Formulaire de saisie d'attributs</h2>       \n",
    "        \n",
    "        <form method=#post# action=#{{ url_for('result') }}#>\n",
    "            <div>\n",
    "                <label for=#feat1#>Feature 1 :</label>\n",
    "                <input name=#umap_x# id=#feat1# type=#number# step=#any# value=#0.3#>\n",
    "            </div>\n",
    "            <div>\n",
    "                <label for=#feat2#>Feature 2 :</label>\n",
    "                <input name=#umap_y# id=#feat2# type=#number# step=#any# value=#0.3#>\n",
    "            </div>\n",
    "            <div>\n",
    "                <button>Predict</button>\n",
    "            </div>\n",
    "        </form>\n",
    "      \n",
    "    </body>\n",
    "</html>\n",
    "'''\n",
    "!echo \"$code_html_form\" | sed \"s/#/\\\"/g\"> $file_html_form\n",
    "!ls -l $file_html_form"
   ]
  },
  {
   "cell_type": "markdown",
   "id": "d8061cd7-dc44-492c-88e1-0518eff9a56f",
   "metadata": {},
   "source": [
    "**Vérification du contenu**"
   ]
  },
  {
   "cell_type": "code",
   "execution_count": 116,
   "id": "e1a878fc-57c4-49f3-8d05-9cea35226f9b",
   "metadata": {},
   "outputs": [
    {
     "name": "stdout",
     "output_type": "stream",
     "text": [
      "\n",
      "<!DOCTYPE html>\n",
      "<html lang=\"en\">\n",
      "    <head>\n",
      "        <meta charset=\"UTF-8\">\n",
      "        <link rel=\"stylesheet\" href=\"{{ url_for('static', filename= 'css/style.css') }}\">\n",
      "        <title>ML model API</title>\n",
      "    </head>\n",
      "    <body>\n",
      "       <h1>API du modèle de classification binaire</h1>       \n",
      "       <h2>Formulaire de saisie d'attributs</h2>       \n",
      "\n",
      "      <form method=\"post\" action=\"{{ url_for('hello') }}\">\n",
      "        <div>\n",
      "          <label for=\"say\">What greeting do you want to say?</label>\n",
      "          <input name=\"say\" id=say value=Hi>\n",
      "        </div>\n",
      "        <div>\n",
      "          <label for=\"to\">Who do you want to say it to?</label>\n",
      "          <input name=\"to\" id=\"to\" value=\"Mom\">\n",
      "        </div>\n",
      "        <div>\n",
      "          <button>Send my greetings</button>\n",
      "        </div>\n",
      "      </form>\n",
      "      \n",
      "    </body>\n",
      "  </html>\n",
      "\n"
     ]
    }
   ],
   "source": [
    "!cat $file_html_form"
   ]
  },
  {
   "cell_type": "markdown",
   "id": "5aff3044-23da-4138-a16d-0b1afd80d6bc",
   "metadata": {},
   "source": [
    "### Résultat\n",
    "Page de résultat de prédiction par l'API du modèle"
   ]
  },
  {
   "cell_type": "code",
   "execution_count": 309,
   "id": "9e5a2d10-91b7-40f8-81f6-3d3df046eed2",
   "metadata": {},
   "outputs": [
    {
     "name": "stdout",
     "output_type": "stream",
     "text": [
      "-rw-rw-r-- 1 azureuser azureuser 595 May 16 07:38 ./api_folder/templates/result.html\n"
     ]
    }
   ],
   "source": [
    "file_html_result = dir_template + 'result.html'\n",
    "code_html_result = \\\n",
    "'''\n",
    "<!DOCTYPE html>\n",
    "<html lang=#en#>\n",
    "    <head>\n",
    "        <meta charset=#UTF-8#>\n",
    "        <link rel=#stylesheet# href=#{{ url_for('static', filename= 'css/style.css') }}#>\n",
    "        <title>ML model API</title>\n",
    "    </head>\n",
    "    <body>\n",
    "       <h1>API du modèle de classification binaire</h1>      \n",
    "       <h2>Page de prédiction du modèle</h2> \n",
    "       <p>umap_x = {{features['umap_x']}}</p>\n",
    "       <p>umap_y = {{features['umap_y']}}</p>\n",
    "       <p>valeur prédite = {{target_value['predictions']}}</p>\n",
    "       <a href=#/#>Retour à l'accueil</a>\n",
    "       <a href=#/form/#>Formulaire</a>\n",
    "    </body>\n",
    "</html>\n",
    "'''\n",
    "!echo \"$code_html_result\" | sed \"s/#/\\\"/g\"> $file_html_result\n",
    "!ls -l $file_html_result"
   ]
  },
  {
   "cell_type": "markdown",
   "id": "aa4e8444-5618-4f74-ad11-1b281dec8476",
   "metadata": {},
   "source": [
    "**Vérification du contenu**"
   ]
  },
  {
   "cell_type": "code",
   "execution_count": 240,
   "id": "2b1d4aba-f822-42bf-9624-a6aa8ad0f622",
   "metadata": {},
   "outputs": [
    {
     "name": "stdout",
     "output_type": "stream",
     "text": [
      "\n",
      "<!DOCTYPE html>\n",
      "<html lang=\"en\">\n",
      "    <head>\n",
      "        <meta charset=\"UTF-8\">\n",
      "        <link rel=\"stylesheet\" href=\"{{ url_for('static', filename= 'css/style.css') }}\">\n",
      "        <title>ML model API</title>\n",
      "    </head>\n",
      "    <body>\n",
      "       <h1>API du modèle de classification binaire</h1>      \n",
      "       <h2>Page de prédiction du modèle</h2> \n",
      "       <p>{{say}}  {{to}}</p>\n",
      "       <a href=\"/\">Retour à l'accueil</a>\n",
      "       <a href=\"/form/\">Formulaire</a>\n",
      "    </body>\n",
      "</html>\n",
      "\n"
     ]
    }
   ],
   "source": [
    "!cat $file_html_result"
   ]
  },
  {
   "cell_type": "markdown",
   "id": "8998fae1-d803-4e55-b892-365e9629a812",
   "metadata": {},
   "source": [
    "### Style"
   ]
  },
  {
   "cell_type": "code",
   "execution_count": 6,
   "id": "de8334de-7652-489d-8e71-b80ffb741b2d",
   "metadata": {},
   "outputs": [],
   "source": [
    "dir_style = dir_api + 'static/css/'\n",
    "!mkdir -p $dir_style"
   ]
  },
  {
   "cell_type": "code",
   "execution_count": 7,
   "id": "8ab6e006-fd0b-4b8e-8eb5-b5d9935e6428",
   "metadata": {},
   "outputs": [
    {
     "name": "stdout",
     "output_type": "stream",
     "text": [
      "-rw-rw-r-- 1 azureuser azureuser 98 May 14 21:02 ./api_folder/static/css/style.css\n"
     ]
    }
   ],
   "source": [
    "file_style = dir_style + 'style.css'\n",
    "code_css_style = \\\n",
    "'''\n",
    "h1 {\n",
    "    border: 2px #eee solid;\n",
    "    color: brown;\n",
    "    text-align: center;\n",
    "    padding: 10px;\n",
    "}\n",
    "'''\n",
    "!echo \"$code_css_style\" > $file_style\n",
    "!ls -l $file_style"
   ]
  },
  {
   "cell_type": "markdown",
   "id": "308cb3a4-ff78-48e7-b43c-b07c1342ec41",
   "metadata": {},
   "source": [
    "## Fichiers _Python_"
   ]
  },
  {
   "cell_type": "markdown",
   "id": "9f8d70b0-3989-40c6-8eb9-12ea5b96ed74",
   "metadata": {},
   "source": [
    "### Routeur Web  \n",
    "Un fichier en Pyhton couvre la gestion REST"
   ]
  },
  {
   "cell_type": "code",
   "execution_count": 504,
   "id": "3d40dc06-8931-4b60-99a7-59379f679f1d",
   "metadata": {},
   "outputs": [
    {
     "name": "stdout",
     "output_type": "stream",
     "text": [
      "-rw-rw-r-- 1 azureuser azureuser 1407 May 22 15:44 ./api_folder/test_api.py\n"
     ]
    }
   ],
   "source": [
    "file_api = dir_api + 'test_api.py'\n",
    "code_api_test = \\\n",
    "'''\n",
    "from flask import Flask, render_template, request\n",
    "import requests\n",
    "import json\n",
    "\n",
    "app = Flask(__name__) # get work dirs\n",
    "\n",
    "@app.route('/')                                           # index\n",
    "def index():\n",
    "    return render_template('index.html') # HTML as string\n",
    "\n",
    "@app.route('/form/')                                      # form\n",
    "def form():\n",
    "    return render_template('form.html')\n",
    "\n",
    "@app.route('/result/', methods=['POST'])                  # result predicted by API\n",
    "def result():    \n",
    "    dict_features = request.form.to_dict(flat=False) #{\"umap_x\":[\".3\"],\"umap_y\":[\".3\"]}\n",
    "    req_post = requests.post(   url     = 'http://localhost:5678/invocations', \n",
    "                                headers = {'Content-Type': 'application/json'}, \n",
    "                                data    = json.dumps({'inputs': dict_features}) )\n",
    "    dict_prediction = json.loads(req_post.text)     #{\"predictions\":[1]}\n",
    "    return render_template('result.html', features=dict_features, target_value=dict_prediction)\n",
    "\n",
    "@app.route('/deploy/')                                    # deploy\n",
    "def deploy():\n",
    "    import subprocess\n",
    "    status_phase_1 = '1. Git Pull'\n",
    "    dir_tests = '/home/azureuser/git_folder/classifier0/ocr_proj7_ML-model-/tests'\n",
    "    shell_command = 'cd ' + dir_tests + ' ; git pull origin main'\n",
    "    shell_process = subprocess.run([shell_command], shell=True, capture_output=True, text=True)\n",
    "    return shell_process.stdout + shell_process.stderr\n",
    "'''\n",
    "!echo \"$code_api_test\" | sed \"s/£/\\\\\\/g\"> $file_api\n",
    "!ls -l $file_api"
   ]
  },
  {
   "cell_type": "code",
   "execution_count": 465,
   "id": "841a809c-cdc3-420d-ac9d-432c74c9947c",
   "metadata": {},
   "outputs": [
    {
     "data": {
      "text/plain": [
       "2"
      ]
     },
     "execution_count": 465,
     "metadata": {},
     "output_type": "execute_result"
    }
   ],
   "source": [
    "os.system('git pull origin main > git_pull.log')"
   ]
  },
  {
   "cell_type": "code",
   "execution_count": 500,
   "id": "484b6035-643d-48a4-9e45-b98c0d628cf6",
   "metadata": {},
   "outputs": [
    {
     "name": "stdout",
     "output_type": "stream",
     "text": [
      "output: Already up to date.\n",
      "\n",
      "errors: From https://github.com/JeanRosselVallee/ocr_proj7_ML-model-\n",
      " * branch            main       -> FETCH_HEAD\n",
      "\n"
     ]
    }
   ],
   "source": [
    "import subprocess\n",
    "shell_command = 'cd ' + dir_tests + ' ; git pull origin main'\n",
    "subprocess_1 = subprocess.run([shell_command], shell=True, capture_output=True, text=True)\n",
    "print('output:', subprocess_1.stdout)\n",
    "print('errors:', subprocess_1.stderr)"
   ]
  },
  {
   "cell_type": "code",
   "execution_count": 443,
   "id": "491c99ee-24de-46e6-9120-1da50dea524a",
   "metadata": {},
   "outputs": [],
   "source": [
    "dir_tests = '~/git_folder/classifier0/ocr_proj7_ML-model-/tests'"
   ]
  },
  {
   "cell_type": "code",
   "execution_count": 440,
   "id": "b39e7306-a160-48ae-89c7-b803fd17abad",
   "metadata": {},
   "outputs": [
    {
     "name": "stdout",
     "output_type": "stream",
     "text": [
      "From https://github.com/JeanRosselVallee/ocr_proj7_ML-model-\n",
      " * branch            main       -> FETCH_HEAD\n",
      "Already up to date.\n"
     ]
    }
   ],
   "source": [
    "! cd $dir_tests ; cat ./git_pull.log"
   ]
  },
  {
   "cell_type": "code",
   "execution_count": 452,
   "id": "72ea9b36-03ac-4c95-a563-ddf82bc18b1a",
   "metadata": {},
   "outputs": [
    {
     "name": "stdout",
     "output_type": "stream",
     "text": [
      "From https://github.com/JeanRosselVallee/ocr_proj7_ML-model-\n",
      " * branch            main       -> FETCH_HEAD\n",
      "Already up to date.\n",
      "\n"
     ]
    }
   ],
   "source": [
    "import os\n",
    "file_log = os.path.expanduser(dir_tests) + '/git_pull.log'\n",
    "str = open(file_log, 'r').read()\n",
    "print(str)"
   ]
  },
  {
   "cell_type": "code",
   "execution_count": 424,
   "id": "1fc96bf4-854b-4fd1-bedd-b10c3acac1b5",
   "metadata": {},
   "outputs": [
    {
     "name": "stdout",
     "output_type": "stream",
     "text": [
      "/bin/bash: line 1: cd: ~/git_folder/classifier0/ocr_proj7_ML-model-/tests: No such file or directory\n"
     ]
    }
   ],
   "source": [
    "! cd \"$dir_tests\""
   ]
  },
  {
   "cell_type": "code",
   "execution_count": 439,
   "id": "abe797b4-c028-44f8-adc4-59152bcbbcab",
   "metadata": {},
   "outputs": [
    {
     "name": "stdout",
     "output_type": "stream",
     "text": [
      "=============\n",
      "cat: /home/azureuser/git_folder/classifier0/ocr_proj7_ML-model-/tests/git_pull_20240522_134214.log: No such file or directory\n"
     ]
    }
   ],
   "source": [
    "! cd $dir_tests ; git pull origin main > ./git_pull.log 2>&1\n",
    "print('=============')\n",
    "! cat $dir_tests/$file_log\n",
    "\n",
    "# ToDo : save/backup model.plk old versions + timestamped log"
   ]
  },
  {
   "cell_type": "markdown",
   "id": "53acc758-a399-4411-9a51-41d401360334",
   "metadata": {},
   "source": [
    "**Vérification du contenu**"
   ]
  },
  {
   "cell_type": "code",
   "execution_count": 377,
   "id": "e5b485b1-bb54-43b3-8021-9493396e7842",
   "metadata": {},
   "outputs": [
    {
     "name": "stdout",
     "output_type": "stream",
     "text": [
      "\n",
      "from flask import Flask, render_template, request\n",
      "import requests\n",
      "import json\n",
      "\n",
      "app = Flask(__name__) # get work dirs\n",
      "\n",
      "@app.route('/')                                           # index\n",
      "def index():\n",
      "    return render_template('index.html') # HTML as string\n",
      "\n",
      "@app.route('/form/')                                      # form\n",
      "def form():\n",
      "    return render_template('form.html')\n",
      "\n",
      "@app.route('/result/', methods=['POST'])                  # result predicted by API\n",
      "def result():    \n",
      "    dict_features = request.form.to_dict(flat=False) #{umap_x:[.3],umap_y:[.3]}\n",
      "    req_post = requests.post(   url     = 'http://localhost:5678/invocations', \n",
      "                                headers = {'Content-Type': 'application/json'}, \n",
      "                                data    = json.dumps({'inputs': dict_features}) )\n",
      "    dict_prediction = json.loads(req_post.text)     #{predictions:[1]}\n",
      "    return render_template('result.html', features=dict_features, target_value=dict_prediction)\n",
      "\n",
      "@app.route('/deploy/')                                    # deploy\n",
      "def deploy():\n",
      "    status_phase_1 = '1. Curl Before Pull'\n",
      "    status_phase_2 = '2. Git Pull'\n",
      "    status_phase_3 = '3. Curl After Pull'\n",
      "    deploy_status = '\\n'.join([status_phase_1, status_phase_2, status_phase_3])\n",
      "    return deploy_status\n",
      "\n"
     ]
    }
   ],
   "source": [
    "!cat $file_api"
   ]
  },
  {
   "cell_type": "markdown",
   "id": "31e43b37-7cf7-4e92-a33b-2a217b712ec4",
   "metadata": {},
   "source": [
    "### Vérification de l'arborescence"
   ]
  },
  {
   "cell_type": "code",
   "execution_count": 226,
   "id": "3ad7e545-a9e7-41fe-818b-688a1b288308",
   "metadata": {},
   "outputs": [
    {
     "name": "stdout",
     "output_type": "stream",
     "text": [
      "  |  |\n",
      "  |  └── test_api.py\n",
      "  |  └── templates\n",
      "  |  |  └── result.html\n",
      "  |  |  └── index.html\n",
      "  |  |  └── form.html\n",
      "  |  └── __pycache__\n",
      "  |  |  └── test_api.cpython-310.pyc\n",
      "  |  └── static\n",
      "  |  |  └── css\n",
      "  |  |  |  └── style.css\n"
     ]
    }
   ],
   "source": [
    "! find $dir_api | sed -e \"s/[^\\/]*\\//  |/g\" -e \"s/|\\([^ ]\\)/└── \\1/\""
   ]
  },
  {
   "cell_type": "markdown",
   "id": "d75796a7-af40-4264-9ad3-1676162306f6",
   "metadata": {},
   "source": [
    "## Serveur _REST_"
   ]
  },
  {
   "cell_type": "markdown",
   "id": "39af3bae-4dd7-4321-b3a7-2073fc46760c",
   "metadata": {},
   "source": [
    "### Lancer le service"
   ]
  },
  {
   "cell_type": "code",
   "execution_count": 382,
   "id": "17d7da02-8e8b-49e9-b0ba-a9f4eb35bfd2",
   "metadata": {},
   "outputs": [],
   "source": [
    "shell_command = 'flask --app $file_api run -h 0.0.0.0 -p 6543 --debug > ./flask_app.log 2>&1 &'\n",
    "get_ipython().system_raw(shell_command) # run model API in background"
   ]
  },
  {
   "cell_type": "markdown",
   "id": "0edfe70c-38eb-4a07-8940-cd0c5a5d0a15",
   "metadata": {},
   "source": [
    "### Vérifier le processus"
   ]
  },
  {
   "cell_type": "code",
   "execution_count": 351,
   "id": "9b358db9-17fe-462b-b14c-54c93dabcf44",
   "metadata": {},
   "outputs": [
    {
     "name": "stdout",
     "output_type": "stream",
     "text": [
      "143.198.166.78 - - [20/May/2024 19:21:53] code 400, message Bad request version ('À\\x13À')\n",
      "143.198.166.78 - - [20/May/2024 19:21:53] \"\u001b[35m\u001b[1m\\x16\\x03\\x01\\x00î\\x01\\x00\\x00ê\\x03\\x03ÆGñ¢\\x16m_QNx!µH¦Õ\\x00­yÿ:pÿ*4éÅ¿Q]UÌÒ Ýbk8 \\x9f\\x87ïÓ1zõ\\x80çr¯¾N\\x03¥NfXø}Ð¦n\\x89q,U\\x00&À+À/À,À0Ì©Ì¨À\\x09À\\x13À\u001b[0m\" HTTPStatus.BAD_REQUEST -\n",
      "78.241.156.248 - - [22/May/2024 06:52:23] \"GET /form/ HTTP/1.1\" 200 -\n",
      "78.241.156.248 - - [22/May/2024 06:52:24] \"\u001b[33mGET /favicon.ico HTTP/1.1\u001b[0m\" 404 -\n",
      "78.241.156.248 - - [22/May/2024 06:52:24] \"\u001b[36mGET /static/css/style.css HTTP/1.1\u001b[0m\" 304 -\n",
      "78.241.156.248 - - [22/May/2024 06:52:24] \"\u001b[33mGET /favicon.ico HTTP/1.1\u001b[0m\" 404 -\n",
      "78.241.156.248 - - [22/May/2024 06:52:26] \"POST /result/ HTTP/1.1\" 200 -\n",
      "78.241.156.248 - - [22/May/2024 06:52:26] \"\u001b[33mGET /favicon.ico HTTP/1.1\u001b[0m\" 404 -\n",
      "78.241.156.248 - - [22/May/2024 06:52:26] \"\u001b[36mGET /static/css/style.css HTTP/1.1\u001b[0m\" 304 -\n",
      "78.241.156.248 - - [22/May/2024 06:52:27] \"\u001b[33mGET /favicon.ico HTTP/1.1\u001b[0m\" 404 -\n"
     ]
    }
   ],
   "source": [
    "!tail ./flask_app.log"
   ]
  },
  {
   "cell_type": "code",
   "execution_count": 384,
   "id": "45ba16ab-7326-4878-8541-432bb458eb99",
   "metadata": {},
   "outputs": [
    {
     "name": "stdout",
     "output_type": "stream",
     "text": [
      " * Serving Flask app './api_folder/test_api.py'\n",
      " * Debug mode: on\n",
      "\u001b[31m\u001b[1mWARNING: This is a development server. Do not use it in a production deployment. Use a production WSGI server instead.\u001b[0m\n",
      " * Running on all addresses (0.0.0.0)\n",
      " * Running on http://127.0.0.1:6543\n",
      " * Running on http://10.0.0.4:6543\n",
      "\u001b[33mPress CTRL+C to quit\u001b[0m\n",
      " * Restarting with stat\n",
      " * Debugger is active!\n",
      " * Debugger PIN: 135-461-422\n"
     ]
    }
   ],
   "source": [
    "!tail -n 30 ./flask_app.log"
   ]
  },
  {
   "cell_type": "code",
   "execution_count": 383,
   "id": "ff10b483-b694-4035-93df-c1b29338fbf4",
   "metadata": {},
   "outputs": [
    {
     "name": "stdout",
     "output_type": "stream",
     "text": [
      "azureus+  122862  7.6  0.9  37648 31640 ?        S    07:25   0:00 /home/azureuser/environments_folder/my_env/bin/python3 /home/azureuser/environments_folder/my_env/bin/flask --app ./api_folder/test_api.py run -h 0.0.0.0 -p 6543 --debug\n",
      "azureus+  122863  8.3  0.9 111380 31764 ?        Sl   07:25   0:00 /home/azureuser/environments_folder/my_env/bin/python3 /home/azureuser/environments_folder/my_env/bin/flask --app ./api_folder/test_api.py run -h 0.0.0.0 -p 6543 --debug\n"
     ]
    }
   ],
   "source": [
    "li_ps = !ps aux | grep \"flask\" | grep -v \"grep\" | awk '{print $2}' \n",
    "!ps aux | grep \"flask\" | grep -v \"grep\" "
   ]
  },
  {
   "cell_type": "markdown",
   "id": "af70c01a-d789-4251-82bc-1177e2aa00d5",
   "metadata": {},
   "source": [
    "### Arrêter le service"
   ]
  },
  {
   "cell_type": "code",
   "execution_count": 380,
   "id": "e387ec28-455d-457a-be76-88cf3d71d6c5",
   "metadata": {},
   "outputs": [],
   "source": [
    "for ps_i in li_ps : \n",
    "    !kill -9 $ps_i"
   ]
  },
  {
   "cell_type": "markdown",
   "id": "e4cc0afc-b612-4d59-8f93-f8315791036a",
   "metadata": {},
   "source": [
    "### Vérification sur navigateur\n",
    "http://13.92.86.145:5432/form/?name=%22Jean%22"
   ]
  }
 ],
 "metadata": {
  "kernelspec": {
   "display_name": "Python 3 (ipykernel)",
   "language": "python",
   "name": "python3"
  },
  "language_info": {
   "codemirror_mode": {
    "name": "ipython",
    "version": 3
   },
   "file_extension": ".py",
   "mimetype": "text/x-python",
   "name": "python",
   "nbconvert_exporter": "python",
   "pygments_lexer": "ipython3",
   "version": "3.10.12"
  }
 },
 "nbformat": 4,
 "nbformat_minor": 5
}

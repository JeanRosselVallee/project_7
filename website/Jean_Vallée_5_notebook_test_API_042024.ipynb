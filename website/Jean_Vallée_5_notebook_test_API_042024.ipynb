{
 "cells": [
  {
   "cell_type": "markdown",
   "id": "6d56313f-5654-4ce4-a87d-a8afcfa427ae",
   "metadata": {},
   "source": [
    "# Tests unitaires de l'API\n",
    "## Scénario de test unitaire \n",
    "Vu qu'il s'agit d'un modèle de classification binaire, le test unitaire consistera à :\n",
    "- faire prédire la variable cible par l'API du modèle \n",
    "- fournir au modèle les valeurs des attributs via un formulaire\n",
    "\n",
    "Le micro-framework Web léger [_Flask_](https://flask.palletsprojects.com/en/3.0.x/quickstart/) prend en charge la gestion de requêtes et réponses REST"
   ]
  },
  {
   "cell_type": "markdown",
   "id": "0559d3b1-26c3-4694-8848-ff52e1e24511",
   "metadata": {},
   "source": [
    "## API\n",
    "Mise en service"
   ]
  },
  {
   "cell_type": "code",
   "execution_count": null,
   "id": "7c4c70f5-5665-472b-9740-fbc2aa53c03b",
   "metadata": {},
   "outputs": [],
   "source": []
  },
  {
   "cell_type": "code",
   "execution_count": null,
   "id": "00cb88d0-d2a6-47f4-84cc-11b7a7c28f14",
   "metadata": {},
   "outputs": [],
   "source": []
  },
  {
   "cell_type": "code",
   "execution_count": null,
   "id": "5f1212ed-ed4f-4731-8106-df4edb92af28",
   "metadata": {},
   "outputs": [],
   "source": []
  },
  {
   "cell_type": "markdown",
   "id": "cb83ff97-695a-4cfd-975e-6bd61797e64a",
   "metadata": {},
   "source": [
    "## Interface Web de l'API\n",
    "### Fichiers _HTML_"
   ]
  },
  {
   "cell_type": "code",
   "execution_count": 6,
   "id": "73cbfef1-bdc7-46b9-9219-6fac186f77fa",
   "metadata": {},
   "outputs": [],
   "source": [
    "dir_html = './templates/'"
   ]
  },
  {
   "cell_type": "markdown",
   "id": "f847a745-d8be-4908-bfcd-41f46d8e6d8c",
   "metadata": {},
   "source": [
    "#### Index  \n",
    "Fichier d'accueil"
   ]
  },
  {
   "cell_type": "code",
   "execution_count": 7,
   "id": "1958e589-651b-49dc-b0cb-e562049a9820",
   "metadata": {},
   "outputs": [
    {
     "name": "stdout",
     "output_type": "stream",
     "text": [
      "\n",
      "<!DOCTYPE html>\n",
      "<html lang=\"en\">\n",
      "    <head>\n",
      "        <meta charset=\"UTF-8\">\n",
      "        <link rel=\"stylesheet\" href=\"{{ url_for('static', filename= 'css/style.css') }}\">\n",
      "        <title>ML model API</title>\n",
      "    </head>\n",
      "    <body>\n",
      "       <h1>API du modèle de classification binaire</h1>      \n",
      "       <h2>Page d'accueil</h2>    \n",
      "       <a href=\"/form/\">Formulaire</a>\n",
      "    </body>\n",
      "</html>\n",
      "\n"
     ]
    }
   ],
   "source": [
    "file_html_index = dir_html + 'index.html'\n",
    "!cat $file_html_index"
   ]
  },
  {
   "cell_type": "markdown",
   "id": "60a4a4cd-e991-4872-ad33-f7d00b0e9d5e",
   "metadata": {},
   "source": [
    "#### Formulaire  \n",
    "Formulaire de saisie des atttributs"
   ]
  },
  {
   "cell_type": "code",
   "execution_count": 8,
   "id": "e1a878fc-57c4-49f3-8d05-9cea35226f9b",
   "metadata": {},
   "outputs": [
    {
     "name": "stdout",
     "output_type": "stream",
     "text": [
      "\n",
      "<!DOCTYPE html>\n",
      "<html lang=\"en\">\n",
      "    <head>\n",
      "        <meta charset=\"UTF-8\">\n",
      "        <link rel=\"stylesheet\" href=\"{{ url_for('static', filename= 'css/style.css') }}\">\n",
      "        <title>ML model API</title>\n",
      "    </head>\n",
      "    <body>\n",
      "        <h1>API du modèle de classification binaire</h1>       \n",
      "        <h2>Formulaire de saisie d'attributs</h2>       \n",
      "        \n",
      "        <form method=\"post\" action=\"{{ url_for('result') }}\">\n",
      "            <div>\n",
      "                <label for=\"feat1\">Feature 1 :</label>\n",
      "                <input name=\"umap_x\" id=\"feat1\" type=\"number\" step=\"any\" value=\"0.3\">\n",
      "            </div>\n",
      "            <div>\n",
      "                <label for=\"feat2\">Feature 2 :</label>\n",
      "                <input name=\"umap_y\" id=\"feat2\" type=\"number\" step=\"any\" value=\"0.3\">\n",
      "            </div>\n",
      "            <div>\n",
      "                <button>Predict</button>\n",
      "            </div>\n",
      "        </form>\n",
      "      \n",
      "    </body>\n",
      "</html>\n",
      "\n"
     ]
    }
   ],
   "source": [
    "file_html_form = dir_html + 'form.html'\n",
    "!cat $file_html_form"
   ]
  },
  {
   "cell_type": "markdown",
   "id": "5aff3044-23da-4138-a16d-0b1afd80d6bc",
   "metadata": {},
   "source": [
    "#### Résultat\n",
    "Page de résultat de prédiction par l'API du modèle"
   ]
  },
  {
   "cell_type": "code",
   "execution_count": 9,
   "id": "2b1d4aba-f822-42bf-9624-a6aa8ad0f622",
   "metadata": {},
   "outputs": [
    {
     "name": "stdout",
     "output_type": "stream",
     "text": [
      "\n",
      "<!DOCTYPE html>\n",
      "<html lang=\"en\">\n",
      "    <head>\n",
      "        <meta charset=\"UTF-8\">\n",
      "        <link rel=\"stylesheet\" href=\"{{ url_for('static', filename= 'css/style.css') }}\">\n",
      "        <title>ML model API</title>\n",
      "    </head>\n",
      "    <body>\n",
      "       <h1>API du modèle de classification binaire</h1>      \n",
      "       <h2>Page de prédiction du modèle</h2> \n",
      "       <p>umap_x = {{features['umap_x']}}</p>\n",
      "       <p>umap_y = {{features['umap_y']}}</p>\n",
      "       <p>valeur prédite = {{target_value['predictions']}}</p>\n",
      "       <a href=\"/\">Retour à l'accueil</a>\n",
      "       <a href=\"/form/\">Formulaire</a>\n",
      "    </body>\n",
      "</html>\n",
      "\n"
     ]
    }
   ],
   "source": [
    "file_html_result = dir_html + 'result.html'\n",
    "!cat $file_html_result"
   ]
  },
  {
   "cell_type": "markdown",
   "id": "8998fae1-d803-4e55-b892-365e9629a812",
   "metadata": {},
   "source": [
    "#### Style"
   ]
  },
  {
   "cell_type": "code",
   "execution_count": 10,
   "id": "de8334de-7652-489d-8e71-b80ffb741b2d",
   "metadata": {},
   "outputs": [],
   "source": [
    "dir_style = './static/css/'"
   ]
  },
  {
   "cell_type": "code",
   "execution_count": 11,
   "id": "8ab6e006-fd0b-4b8e-8eb5-b5d9935e6428",
   "metadata": {},
   "outputs": [
    {
     "name": "stdout",
     "output_type": "stream",
     "text": [
      "\n",
      "h1 {\n",
      "    border: 2px #eee solid;\n",
      "    color: brown;\n",
      "    text-align: center;\n",
      "    padding: 10px;\n",
      "}\n",
      "\n"
     ]
    }
   ],
   "source": [
    "file_style = dir_style + 'style.css'\n",
    "!cat $file_style"
   ]
  },
  {
   "cell_type": "markdown",
   "id": "308cb3a4-ff78-48e7-b43c-b07c1342ec41",
   "metadata": {},
   "source": [
    "### Fichiers _Python_"
   ]
  },
  {
   "cell_type": "markdown",
   "id": "9f8d70b0-3989-40c6-8eb9-12ea5b96ed74",
   "metadata": {},
   "source": [
    "#### Routeur Web  \n",
    "Un fichier en Pyhton couvre la gestion REST"
   ]
  },
  {
   "cell_type": "code",
   "execution_count": 23,
   "id": "3d40dc06-8931-4b60-99a7-59379f679f1d",
   "metadata": {},
   "outputs": [
    {
     "name": "stdout",
     "output_type": "stream",
     "text": [
      "\n",
      "from flask import Flask, render_template, request\n",
      "import requests\n",
      "import json\n",
      "\n",
      "app = Flask(__name__) # get work dirs\n",
      "\n",
      "@app.route('/')                                           # index\n",
      "def index():\n",
      "    return render_template('index.html') # HTML as string\n",
      "\n",
      "@app.route('/form/')                                      # form\n",
      "def form():\n",
      "    return render_template('form.html')\n",
      "\n",
      "@app.route('/result/', methods=['POST'])                  # result predicted by API\n",
      "def result():    \n",
      "    dict_features = request.form.to_dict(flat=False) #{umap_x:[.3],umap_y:[.3]}\n",
      "    req_post = requests.post(   url     = 'http://localhost:5678/invocations', \n",
      "                                headers = {'Content-Type': 'application/json'}, \n",
      "                                data    = json.dumps({'inputs': dict_features}) )\n",
      "    dict_prediction = json.loads(req_post.text)     #{predictions:[1]}\n",
      "    return render_template('result.html', features=dict_features, target_value=dict_prediction)\n",
      "\n",
      "@app.route('/deploy/')                                    # deploy\n",
      "def deploy():\n",
      "    import subprocess\n",
      "    status_phase_1 = '1. Git Pull'\n",
      "    dir_root = '/home/azureuser/git_folder/project_7/'\n",
      "    shell_command = 'cd ' + dir_root + ' ; git pull origin main'\n",
      "    shell_process = subprocess.run([shell_command], shell=True, capture_output=True, text=True)\n",
      "    return shell_process.stdout + shell_process.stderr\n",
      "\n"
     ]
    }
   ],
   "source": [
    "file_api = 'web_router.py'\n",
    "!cat $file_api"
   ]
  },
  {
   "cell_type": "markdown",
   "id": "31e43b37-7cf7-4e92-a33b-2a217b712ec4",
   "metadata": {},
   "source": [
    "### Arborescence de fichiers"
   ]
  },
  {
   "cell_type": "code",
   "execution_count": 24,
   "id": "3ad7e545-a9e7-41fe-818b-688a1b288308",
   "metadata": {},
   "outputs": [
    {
     "name": "stdout",
     "output_type": "stream",
     "text": [
      "  └── website\n",
      "  |  └── .ipynb_checkpoints\n",
      "  |  |  └── Jean_Vallée_5_notebook_test_API_042024-checkpoint.ipynb\n",
      "  |  └── web_router.py\n",
      "  |  └── templates\n",
      "  |  |  └── result.html\n",
      "  |  |  └── index.html\n",
      "  |  |  └── form.html\n",
      "  |  └── static\n",
      "  |  |  └── css\n",
      "  |  |  |  └── style.css\n",
      "  |  └── Jean_Vallée_5_notebook_test_API_042024.ipynb\n"
     ]
    }
   ],
   "source": [
    "! find ../website | sed -e \"s/[^\\/]*\\//  |/g\" -e \"s/|\\([^ ]\\)/└── \\1/\""
   ]
  },
  {
   "cell_type": "markdown",
   "id": "d75796a7-af40-4264-9ad3-1676162306f6",
   "metadata": {},
   "source": [
    "## Serveur _Web_"
   ]
  },
  {
   "cell_type": "markdown",
   "id": "39af3bae-4dd7-4321-b3a7-2073fc46760c",
   "metadata": {},
   "source": [
    "### Lancement"
   ]
  },
  {
   "cell_type": "code",
   "execution_count": 26,
   "id": "17d7da02-8e8b-49e9-b0ba-a9f4eb35bfd2",
   "metadata": {},
   "outputs": [],
   "source": [
    "shell_command = 'flask --app $file_api run -h 0.0.0.0 -p 6543 --debug > ./flask_app.log 2>&1 &'\n",
    "get_ipython().system_raw(shell_command) # run model API in background"
   ]
  },
  {
   "cell_type": "markdown",
   "id": "0edfe70c-38eb-4a07-8940-cd0c5a5d0a15",
   "metadata": {},
   "source": [
    "### Vérifications\n",
    "#### Log"
   ]
  },
  {
   "cell_type": "code",
   "execution_count": 27,
   "id": "9b358db9-17fe-462b-b14c-54c93dabcf44",
   "metadata": {},
   "outputs": [
    {
     "name": "stdout",
     "output_type": "stream",
     "text": [
      " * Serving Flask app 'web_router.py'\n",
      " * Debug mode: on\n",
      "\u001b[31m\u001b[1mWARNING: This is a development server. Do not use it in a production deployment. Use a production WSGI server instead.\u001b[0m\n",
      " * Running on all addresses (0.0.0.0)\n",
      " * Running on http://127.0.0.1:6543\n",
      " * Running on http://10.0.0.4:6543\n",
      "\u001b[33mPress CTRL+C to quit\u001b[0m\n",
      " * Restarting with stat\n",
      " * Debugger is active!\n",
      " * Debugger PIN: 134-700-135\n"
     ]
    }
   ],
   "source": [
    "!tail ./flask_app.log"
   ]
  },
  {
   "cell_type": "markdown",
   "id": "50f6d070-6b27-48fa-a9ac-8647adb61ff2",
   "metadata": {},
   "source": [
    "#### Processus\n",
    "Liste des processus"
   ]
  },
  {
   "cell_type": "code",
   "execution_count": 28,
   "id": "ff10b483-b694-4035-93df-c1b29338fbf4",
   "metadata": {},
   "outputs": [
    {
     "name": "stdout",
     "output_type": "stream",
     "text": [
      "azureus+  131413  1.0  0.9  37648 31896 ?        S    21:31   0:00 /home/azureuser/environments_folder/my_env/bin/python3 /home/azureuser/environments_folder/my_env/bin/flask --app web_router.py run -h 0.0.0.0 -p 6543 --debug\n",
      "azureus+  131414  1.5  0.9 111380 31768 ?        Sl   21:31   0:00 /home/azureuser/environments_folder/my_env/bin/python3 /home/azureuser/environments_folder/my_env/bin/flask --app web_router.py run -h 0.0.0.0 -p 6543 --debug\n"
     ]
    }
   ],
   "source": [
    "li_ps = !ps aux | grep \"flask\" | grep -v \"grep\" | awk '{print $2}' \n",
    "!ps aux | grep \"flask\" | grep -v \"grep\" "
   ]
  },
  {
   "cell_type": "markdown",
   "id": "af70c01a-d789-4251-82bc-1177e2aa00d5",
   "metadata": {},
   "source": [
    "Arrêt des processus"
   ]
  },
  {
   "cell_type": "code",
   "execution_count": 29,
   "id": "e387ec28-455d-457a-be76-88cf3d71d6c5",
   "metadata": {},
   "outputs": [
    {
     "ename": "SyntaxError",
     "evalue": "incomplete input (2464387668.py, line 2)",
     "output_type": "error",
     "traceback": [
      "\u001b[0;36m  Cell \u001b[0;32mIn[29], line 2\u001b[0;36m\u001b[0m\n\u001b[0;31m    #!kill -9 $ps_i\u001b[0m\n\u001b[0m                   ^\u001b[0m\n\u001b[0;31mSyntaxError\u001b[0m\u001b[0;31m:\u001b[0m incomplete input\n"
     ]
    }
   ],
   "source": [
    "for ps_i in li_ps : \n",
    "    #!kill -9 $ps_i"
   ]
  },
  {
   "cell_type": "markdown",
   "id": "e4cc0afc-b612-4d59-8f93-f8315791036a",
   "metadata": {},
   "source": [
    "#### Accès en ligne\n",
    "URL du site Web : http://13.92.86.145:6543/"
   ]
  }
 ],
 "metadata": {
  "kernelspec": {
   "display_name": "Python 3 (ipykernel)",
   "language": "python",
   "name": "python3"
  },
  "language_info": {
   "codemirror_mode": {
    "name": "ipython",
    "version": 3
   },
   "file_extension": ".py",
   "mimetype": "text/x-python",
   "name": "python",
   "nbconvert_exporter": "python",
   "pygments_lexer": "ipython3",
   "version": "3.10.12"
  }
 },
 "nbformat": 4,
 "nbformat_minor": 5
}

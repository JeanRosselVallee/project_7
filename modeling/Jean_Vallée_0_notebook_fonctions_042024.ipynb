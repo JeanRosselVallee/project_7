{
 "cells": [
  {
   "cell_type": "markdown",
   "id": "deecde96-b66b-4adb-b8db-b1000f664e8a",
   "metadata": {
    "id": "deecde96-b66b-4adb-b8db-b1000f664e8a"
   },
   "source": [
    "<center><font size=\"7\">Modules et fonctions</font></center>\n",
    "<div align=\"right\"><font size=\"4\"><i>par Jean Vallée"
   ]
  },
  {
   "cell_type": "markdown",
   "id": "0052b662-95c8-4ea4-9ac9-6bfe8b4364d1",
   "metadata": {
    "id": "0052b662-95c8-4ea4-9ac9-6bfe8b4364d1"
   },
   "source": [
    "<hr color=\"green\">"
   ]
  },
  {
   "cell_type": "markdown",
   "id": "e21e8711-f421-4623-b4d5-970f24498e5d",
   "metadata": {
    "id": "e21e8711-f421-4623-b4d5-970f24498e5d"
   },
   "source": [
    "# Import de modules"
   ]
  },
  {
   "cell_type": "code",
   "execution_count": 1,
   "id": "1995318e-8115-4f67-ba69-4da12a397ac3",
   "metadata": {},
   "outputs": [],
   "source": [
    "! pip --quiet install pandas matplotlib scikit-learn imblearn seaborn \n",
    "! pip --quiet install xgboost lightgbm catboost mlflow evidently sweetviz"
   ]
  },
  {
   "cell_type": "code",
   "execution_count": 2,
   "id": "057adc0c-07eb-4f12-a54b-8a8b86b55d2e",
   "metadata": {},
   "outputs": [],
   "source": [
    "! pip --quiet install -U imbalanced-learn"
   ]
  },
  {
   "cell_type": "code",
   "execution_count": 3,
   "id": "2fb0b38c-baec-4622-9e11-2d90756fe580",
   "metadata": {
    "id": "2fb0b38c-baec-4622-9e11-2d90756fe580",
    "tags": []
   },
   "outputs": [],
   "source": [
    "import pandas as pd                                    # data manipulation\n",
    "import matplotlib.pyplot as plt                        # graph visualisation\n",
    "import numpy as np                                     # numerical arrays\n",
    "import glob                                            # access to local file system\n",
    "import sys                                             # global variables\n",
    "from sklearn.model_selection import train_test_split   # Data partitioning\n",
    "from sklearn.preprocessing import StandardScaler       # normalizes features : median=0 & variance=1\n",
    "from sklearn.metrics import confusion_matrix, \\\n",
    "  r2_score, accuracy_score, precision_score, f1_score  # Scorers\n",
    "import subprocess                                      # run multi-line bash script\n",
    "import mlflow                                          # track model optimisation"
   ]
  },
  {
   "cell_type": "markdown",
   "id": "8b291547-6315-4119-8981-3b5f866387ba",
   "metadata": {
    "id": "f7814RJjR6IP"
   },
   "source": [
    "## Modèles"
   ]
  },
  {
   "cell_type": "code",
   "execution_count": 4,
   "id": "386d4de9-a15f-406f-86a2-65ef3a10695f",
   "metadata": {},
   "outputs": [],
   "source": [
    "from sklearn.dummy      import DummyClassifier\n",
    "from xgboost            import XGBClassifier\n",
    "from lightgbm           import LGBMClassifier\n",
    "from catboost import CatBoostClassifier"
   ]
  },
  {
   "cell_type": "code",
   "execution_count": 5,
   "id": "ece1b337-0ccb-4e57-b337-7aad9abec8cf",
   "metadata": {},
   "outputs": [],
   "source": [
    "# sudo apt-get install libgomp1 # run on VM for LGBM"
   ]
  },
  {
   "cell_type": "markdown",
   "id": "0132eebe-35d2-4f49-b36e-cabf95f9217d",
   "metadata": {
    "id": "0132eebe-35d2-4f49-b36e-cabf95f9217d",
    "tags": []
   },
   "source": [
    "# Variables de configuration"
   ]
  },
  {
   "cell_type": "code",
   "execution_count": 6,
   "id": "c27a88d0-dcf5-41e9-bbf0-e99fc56d2711",
   "metadata": {},
   "outputs": [],
   "source": [
    "import json\n",
    "with open('../config.json') as file_object:\n",
    "    dict_config = json.load(file_object)"
   ]
  },
  {
   "cell_type": "markdown",
   "id": "0c88d707-0678-4ae7-aa33-d3cdcd66c274",
   "metadata": {
    "id": "0132eebe-35d2-4f49-b36e-cabf95f9217d",
    "tags": []
   },
   "source": [
    "# Déclaration des fonctions"
   ]
  },
  {
   "cell_type": "markdown",
   "id": "PwV0n5bJPh0j",
   "metadata": {
    "id": "PwV0n5bJPh0j"
   },
   "source": [
    "## list_functions()"
   ]
  },
  {
   "cell_type": "code",
   "execution_count": 7,
   "id": "OulMsMwyPqNw",
   "metadata": {
    "id": "OulMsMwyPqNw"
   },
   "outputs": [],
   "source": [
    "import types\n",
    "def list_functions(search_keyword='') :\n",
    "  li_outs = [str(f) for f in globals().values() if type(f) == types.FunctionType]\n",
    "  li_outs = [s.replace('<function ', '') for s in li_outs]\n",
    "  li_outs = [s.split(' at ')[0] for s in li_outs]\n",
    "  li_outs.sort()\n",
    "  if len(search_keyword) > 0 : li_outs = [s for s in li_outs if search_keyword.lower() in s.lower()]\n",
    "  return li_outs"
   ]
  },
  {
   "cell_type": "markdown",
   "id": "2d6bc8c2-3f90-44a3-9bf6-a91bab27f74d",
   "metadata": {
    "id": "2d6bc8c2-3f90-44a3-9bf6-a91bab27f74d",
    "tags": []
   },
   "source": [
    "## Divers"
   ]
  },
  {
   "cell_type": "markdown",
   "id": "b782bbe7-ab7c-4508-9beb-a65cd8b2ebeb",
   "metadata": {
    "id": "b782bbe7-ab7c-4508-9beb-a65cd8b2ebeb"
   },
   "source": [
    "### format_1000(n)\n",
    "Appélée par get_size()"
   ]
  },
  {
   "cell_type": "code",
   "execution_count": 8,
   "id": "c965495f-4c1a-4831-b2d3-615facde74ca",
   "metadata": {
    "id": "c965495f-4c1a-4831-b2d3-615facde74ca",
    "tags": []
   },
   "outputs": [],
   "source": [
    "def format_1000(value_in) :\n",
    "    ''' adds space as thousand separator to a number '''\n",
    "    return '{:,}'.format(int(value_in)).replace(',', ' ')"
   ]
  },
  {
   "cell_type": "markdown",
   "id": "001c82d9-39b4-465b-9643-159f62c4c02b",
   "metadata": {
    "id": "001c82d9-39b4-465b-9643-159f62c4c02b",
    "jp-MarkdownHeadingCollapsed": true,
    "tags": []
   },
   "source": [
    "### get_size(df)"
   ]
  },
  {
   "cell_type": "code",
   "execution_count": 9,
   "id": "88e997b2-0c1d-446f-b285-4c87fa3ca0f1",
   "metadata": {
    "id": "88e997b2-0c1d-446f-b285-4c87fa3ca0f1",
    "tags": []
   },
   "outputs": [],
   "source": [
    "def get_size(df_in, name_in='DataFrame') :\n",
    "    ''' returns number of rows & columns of a Pandas '''\n",
    "    if len(df_in.shape) == 1 : (nb_rows,), nb_cols = df_in.shape, 1\n",
    "    else :                     nb_rows, nb_cols = df_in.shape\n",
    "    print(name_in, 'has', format_1000(nb_rows), 'rows and', nb_cols, 'columns')"
   ]
  },
  {
   "cell_type": "markdown",
   "id": "eLQg9kQqCJxo",
   "metadata": {
    "id": "eLQg9kQqCJxo"
   },
   "source": [
    "# count_distinct(df)\n",
    "Count distinct values per column"
   ]
  },
  {
   "cell_type": "code",
   "execution_count": 10,
   "id": "Dt_P5G2uCJ_0",
   "metadata": {
    "id": "Dt_P5G2uCJ_0"
   },
   "outputs": [],
   "source": [
    "def count_distinct(df_in):\n",
    "    ''' returns a df with counts of distinct values per column of the input df '''\n",
    "    tuple_col_count = [(col, len(df_in[col].unique()) ) for col in df_in.columns]\n",
    "    df_out = pd.DataFrame(tuple_col_count, columns=['column_name', 'nb_distinct_values'])\n",
    "    return df_out  # this function returns an intermediary df and shouldn't be styled"
   ]
  },
  {
   "cell_type": "markdown",
   "id": "a46a0179-5e6c-4b87-9ab3-2a6b7061b166",
   "metadata": {
    "id": "a46a0179-5e6c-4b87-9ab3-2a6b7061b166",
    "jp-MarkdownHeadingCollapsed": true
   },
   "source": [
    "### substract_lists(li, li)"
   ]
  },
  {
   "cell_type": "code",
   "execution_count": 11,
   "id": "4eecd12f-3ef3-490a-8577-4ebe6f51937b",
   "metadata": {
    "id": "4eecd12f-3ef3-490a-8577-4ebe6f51937b",
    "tags": []
   },
   "outputs": [],
   "source": [
    "def substract_lists(li_A, li_B) : return [item for item in li_A if item not in li_B]"
   ]
  },
  {
   "cell_type": "markdown",
   "id": "bfb12417-8ff5-48bf-99cf-03a8d7b03963",
   "metadata": {
    "id": "bfb12417-8ff5-48bf-99cf-03a8d7b03963"
   },
   "source": [
    "### get_1_type_cols_list(df, str)"
   ]
  },
  {
   "cell_type": "code",
   "execution_count": 12,
   "id": "c64b1e12-015a-4aa1-bd55-8e2414be781b",
   "metadata": {
    "id": "c64b1e12-015a-4aa1-bd55-8e2414be781b",
    "tags": []
   },
   "outputs": [],
   "source": [
    "def get_1_type_cols_list(df_in, type_in) :\n",
    "    ''' Lists all columns in a Pandas of a given type '''\n",
    "    ser_cols_types = df_in.dtypes\n",
    "    return list(ser_cols_types[ser_cols_types==type_in].index)"
   ]
  },
  {
   "cell_type": "markdown",
   "id": "9a740daa-0bff-40d0-8d6c-f70d79d9fe11",
   "metadata": {
    "id": "9a740daa-0bff-40d0-8d6c-f70d79d9fe11"
   },
   "source": [
    "### append_1_row(df, li)\n",
    "Appélée par get_NDU_cols()"
   ]
  },
  {
   "cell_type": "code",
   "execution_count": 13,
   "id": "d790cb80-e80c-4efb-a2a7-0129f7eb9d2d",
   "metadata": {
    "id": "d790cb80-e80c-4efb-a2a7-0129f7eb9d2d",
    "tags": []
   },
   "outputs": [],
   "source": [
    "def append_1_row(df_in, li_values_in) :\n",
    "    ''' Appends a row as a list of values to a Pandas '''\n",
    "    next_idx = len(df_in)\n",
    "    li_cols = df_in.columns\n",
    "    df_1_liner = pd.DataFrame(columns=li_cols, index=[next_idx])\n",
    "    df_1_liner.loc[next_idx] = li_values_in\n",
    "    return pd.concat([df_in, df_1_liner])\n",
    "#append_1_row(df_temp, ['col_name', 'object', 250, 100, 5]) # sample call"
   ]
  },
  {
   "cell_type": "markdown",
   "id": "00c9e729-57ed-4527-882a-5d93df89980d",
   "metadata": {
    "id": "00c9e729-57ed-4527-882a-5d93df89980d"
   },
   "source": [
    "### get_NDU_cols(df)"
   ]
  },
  {
   "cell_type": "code",
   "execution_count": 14,
   "id": "d6aa01f6-2a42-4aae-9f6f-afe8899af26d",
   "metadata": {
    "id": "d6aa01f6-2a42-4aae-9f6f-afe8899af26d",
    "tags": []
   },
   "outputs": [],
   "source": [
    "def get_1_col_type        (df_in, col_name) : return df_in[col_name].dtypes\n",
    "def get_1_col_not_null_nb (df_in, col_name) : return df_in[col_name].count()\n",
    "def get_1_col_distinct_nb (df_in, col_name) : return len(df_in[col_name].drop_duplicates())\n",
    "def get_1_col_unique_nb   (df_in, col_name) : return df_in[col_name].nunique()\n",
    "\n",
    "def get_NDU_cols(df_in) :\n",
    "    ''' Gets a DF with counts per column of Null, Duplicates and Unique values '''\n",
    "    df_out = pd.DataFrame(columns = ['column_name', 'type', 'nb_not_null', '%_not_null', 'nb_distinct', '%_distinct', 'unique'])\n",
    "    for col_i in df_in.columns :\n",
    "        nb_records   = len(df_in)\n",
    "        col_type     = get_1_col_type        (df_in, col_i)\n",
    "        nb_not_null  = get_1_col_not_null_nb (df_in, col_i)\n",
    "        pct_not_null = round(nb_not_null / nb_records * 100, 2)\n",
    "        nb_distinct  = get_1_col_distinct_nb (df_in, col_i)\n",
    "        if nb_not_null > 0 : pct_distinct = round(nb_distinct / nb_not_null * 100, 2)\n",
    "        nb_unique    = get_1_col_unique_nb   (df_in, col_i)\n",
    "\n",
    "        df_out = append_1_row(df_out, [col_i, col_type, nb_not_null, pct_not_null, nb_distinct, pct_distinct, nb_unique])\n",
    "    return df_out"
   ]
  },
  {
   "cell_type": "markdown",
   "id": "76323466-49c0-463c-85b2-61f2c43b1396",
   "metadata": {
    "id": "76323466-49c0-463c-85b2-61f2c43b1396"
   },
   "source": [
    "### get_categories(df)"
   ]
  },
  {
   "cell_type": "code",
   "execution_count": 15,
   "id": "78d4d39e-6175-4697-b42f-7615dd0e9f50",
   "metadata": {
    "id": "78d4d39e-6175-4697-b42f-7615dd0e9f50",
    "tags": []
   },
   "outputs": [],
   "source": [
    "def get_categories(df_in):\n",
    "    ''' Returns a df with distinct values per column of the input df '''\n",
    "    tuple_col_cats = [(col, df_in[col].unique()) for col in df_in.columns]\n",
    "    df_out = pd.DataFrame(tuple_col_cats, columns=['column_name', 'distinct_values'])\n",
    "    return df_out  # this function returns an intermediary df and shouldn't be styled"
   ]
  },
  {
   "cell_type": "markdown",
   "id": "w58rVnDVVqkE",
   "metadata": {
    "id": "w58rVnDVVqkE"
   },
   "source": [
    "### get_nb_outliers (df, col_name)"
   ]
  },
  {
   "cell_type": "code",
   "execution_count": 16,
   "id": "bsErpR3wVrmB",
   "metadata": {
    "id": "bsErpR3wVrmB"
   },
   "outputs": [],
   "source": [
    "def get_nb_outliers (df_in, column_name, threshold=100, verbose=False):\n",
    "    ''' Calculates the number of outliers in a specified column of a DataFrame '''\n",
    "    df_quantile = df_in[column_name].quantile([0.25, 0.75])\n",
    "    q1, q3 = df_quantile[0.25], df_quantile[0.75]\n",
    "    iqr = q3 -q1\n",
    "    return len(df_in[ (df_in[column_name] < q1 - 1.5 * iqr) | \\\n",
    "                      (df_in[column_name] > q3 + 1.5 * iqr) ])"
   ]
  },
  {
   "cell_type": "markdown",
   "id": "DeskQaf3tIY4",
   "metadata": {
    "id": "DeskQaf3tIY4"
   },
   "source": [
    "# encode_category_cols(df, col_name)\n",
    "Encode a category column into N columns"
   ]
  },
  {
   "cell_type": "code",
   "execution_count": 17,
   "id": "s3j097kksVll",
   "metadata": {
    "colab": {
     "base_uri": "https://localhost:8080/",
     "height": 206
    },
    "id": "s3j097kksVll",
    "outputId": "cb720656-e76a-42ec-c0df-652ac67270a4"
   },
   "outputs": [
    {
     "data": {
      "text/html": [
       "<div>\n",
       "<style scoped>\n",
       "    .dataframe tbody tr th:only-of-type {\n",
       "        vertical-align: middle;\n",
       "    }\n",
       "\n",
       "    .dataframe tbody tr th {\n",
       "        vertical-align: top;\n",
       "    }\n",
       "\n",
       "    .dataframe thead th {\n",
       "        text-align: right;\n",
       "    }\n",
       "</style>\n",
       "<table border=\"1\" class=\"dataframe\">\n",
       "  <thead>\n",
       "    <tr style=\"text-align: right;\">\n",
       "      <th></th>\n",
       "      <th>field_1</th>\n",
       "      <th>field_2</th>\n",
       "      <th>field_3</th>\n",
       "    </tr>\n",
       "  </thead>\n",
       "  <tbody>\n",
       "    <tr>\n",
       "      <th>0</th>\n",
       "      <td>aaaaa</td>\n",
       "      <td>111111</td>\n",
       "      <td>cat_1</td>\n",
       "    </tr>\n",
       "    <tr>\n",
       "      <th>1</th>\n",
       "      <td>bbbbb</td>\n",
       "      <td>222222</td>\n",
       "      <td>cat_2</td>\n",
       "    </tr>\n",
       "    <tr>\n",
       "      <th>2</th>\n",
       "      <td>ccccc</td>\n",
       "      <td>333333</td>\n",
       "      <td>cat_3</td>\n",
       "    </tr>\n",
       "    <tr>\n",
       "      <th>3</th>\n",
       "      <td>ddddd</td>\n",
       "      <td>444444</td>\n",
       "      <td>cat_2</td>\n",
       "    </tr>\n",
       "    <tr>\n",
       "      <th>4</th>\n",
       "      <td>eeeee</td>\n",
       "      <td>555555</td>\n",
       "      <td>cat_1</td>\n",
       "    </tr>\n",
       "  </tbody>\n",
       "</table>\n",
       "</div>"
      ],
      "text/plain": [
       "  field_1  field_2 field_3\n",
       "0   aaaaa   111111   cat_1\n",
       "1   bbbbb   222222   cat_2\n",
       "2   ccccc   333333   cat_3\n",
       "3   ddddd   444444   cat_2\n",
       "4   eeeee   555555   cat_1"
      ]
     },
     "execution_count": 17,
     "metadata": {},
     "output_type": "execute_result"
    }
   ],
   "source": [
    "df_sample = pd.DataFrame(\n",
    "        { 'field_1' : ['aaaaa', 'bbbbb', 'ccccc', 'ddddd', 'eeeee'],\n",
    "          'field_2' : [ 111111,  222222,  333333,  444444,  555555],\n",
    "          'field_3' : ['cat_1', 'cat_2', 'cat_3', 'cat_2', 'cat_1']  } )\n",
    "df_sample"
   ]
  },
  {
   "cell_type": "code",
   "execution_count": 18,
   "id": "W6_zhvL6sVr_",
   "metadata": {
    "colab": {
     "base_uri": "https://localhost:8080/",
     "height": 206
    },
    "id": "W6_zhvL6sVr_",
    "outputId": "128ed447-e11b-43b7-b1a7-64682fd5c49b"
   },
   "outputs": [
    {
     "data": {
      "text/html": [
       "<div>\n",
       "<style scoped>\n",
       "    .dataframe tbody tr th:only-of-type {\n",
       "        vertical-align: middle;\n",
       "    }\n",
       "\n",
       "    .dataframe tbody tr th {\n",
       "        vertical-align: top;\n",
       "    }\n",
       "\n",
       "    .dataframe thead th {\n",
       "        text-align: right;\n",
       "    }\n",
       "</style>\n",
       "<table border=\"1\" class=\"dataframe\">\n",
       "  <thead>\n",
       "    <tr style=\"text-align: right;\">\n",
       "      <th></th>\n",
       "      <th>field_1</th>\n",
       "      <th>field_2</th>\n",
       "      <th>cat_1</th>\n",
       "      <th>cat_2</th>\n",
       "      <th>cat_3</th>\n",
       "    </tr>\n",
       "  </thead>\n",
       "  <tbody>\n",
       "    <tr>\n",
       "      <th>0</th>\n",
       "      <td>aaaaa</td>\n",
       "      <td>111111</td>\n",
       "      <td>1</td>\n",
       "      <td>0</td>\n",
       "      <td>0</td>\n",
       "    </tr>\n",
       "    <tr>\n",
       "      <th>1</th>\n",
       "      <td>bbbbb</td>\n",
       "      <td>222222</td>\n",
       "      <td>0</td>\n",
       "      <td>1</td>\n",
       "      <td>0</td>\n",
       "    </tr>\n",
       "    <tr>\n",
       "      <th>2</th>\n",
       "      <td>ccccc</td>\n",
       "      <td>333333</td>\n",
       "      <td>0</td>\n",
       "      <td>0</td>\n",
       "      <td>1</td>\n",
       "    </tr>\n",
       "    <tr>\n",
       "      <th>3</th>\n",
       "      <td>ddddd</td>\n",
       "      <td>444444</td>\n",
       "      <td>0</td>\n",
       "      <td>1</td>\n",
       "      <td>0</td>\n",
       "    </tr>\n",
       "    <tr>\n",
       "      <th>4</th>\n",
       "      <td>eeeee</td>\n",
       "      <td>555555</td>\n",
       "      <td>1</td>\n",
       "      <td>0</td>\n",
       "      <td>0</td>\n",
       "    </tr>\n",
       "  </tbody>\n",
       "</table>\n",
       "</div>"
      ],
      "text/plain": [
       "  field_1  field_2  cat_1  cat_2  cat_3\n",
       "0   aaaaa   111111      1      0      0\n",
       "1   bbbbb   222222      0      1      0\n",
       "2   ccccc   333333      0      0      1\n",
       "3   ddddd   444444      0      1      0\n",
       "4   eeeee   555555      1      0      0"
      ]
     },
     "execution_count": 18,
     "metadata": {},
     "output_type": "execute_result"
    }
   ],
   "source": [
    "def encode_category_cols(df_in, cat_field) :\n",
    "  ''' Transforms 1 column of a Pandas in N columns. 1 new column per unique value'''\n",
    "  li_cats = list(df_in[cat_field].unique())\n",
    "  for cat_i in li_cats :\n",
    "    df_in[cat_i] = 0\n",
    "    df_in.loc[df_in[cat_field] == cat_i, cat_i] = 1\n",
    "  return df_in.drop(cat_field, axis='columns')\n",
    "encode_category_cols(df_sample, 'field_3')"
   ]
  },
  {
   "cell_type": "markdown",
   "id": "eE-wVhnENrBr",
   "metadata": {
    "id": "eE-wVhnENrBr"
   },
   "source": [
    "## mask_upper_triangle(df)\n",
    "Pour des matrices de corrélation"
   ]
  },
  {
   "cell_type": "code",
   "execution_count": 19,
   "id": "945d7865-4af2-4e62-b6ef-d8830032b2ad",
   "metadata": {
    "id": "945d7865-4af2-4e62-b6ef-d8830032b2ad"
   },
   "outputs": [],
   "source": [
    "def mask_upper_triangle(df_in) :\n",
    "    ''' Fills a diagonal and the upper half with NaNs '''\n",
    "    mask = np.zeros_like(df_in, dtype=bool)\n",
    "    mask[np.triu_indices_from(mask)] = True\n",
    "    df_in[mask] = np.nan\n",
    "    return df_in"
   ]
  },
  {
   "cell_type": "markdown",
   "id": "304d1270-bcd7-4c77-9cae-fa57ae3f4535",
   "metadata": {
    "id": "304d1270-bcd7-4c77-9cae-fa57ae3f4535"
   },
   "source": [
    "## Graphes"
   ]
  },
  {
   "cell_type": "markdown",
   "id": "413d1f05-0e6c-43e2-94d3-7de4594f2886",
   "metadata": {
    "id": "413d1f05-0e6c-43e2-94d3-7de4594f2886"
   },
   "source": [
    "### pie_cols_ratios(df, li)"
   ]
  },
  {
   "cell_type": "code",
   "execution_count": 20,
   "id": "4483c3e4-595b-412b-a82e-55fd53cc93c4",
   "metadata": {
    "id": "4483c3e4-595b-412b-a82e-55fd53cc93c4",
    "tags": []
   },
   "outputs": [],
   "source": [
    "def pie_cols_ratios(df_in, li_labels=['Filled', 'Empty'], shown_value='null', title='', nb_pies_max=5):\n",
    "    ''' Plots N puie charts of NaN or Zero-values in all N columns of a Pandas '''\n",
    "    # Configure chart's display\n",
    "    nb_cols = min(nb_pies_max, len(df_in.columns))\n",
    "    plt.figure(figsize=(3 * nb_cols, 3), facecolor='lightblue')\n",
    "    plt.suptitle(title, color='blue', y=0.1, fontsize=12, fontweight='bold')\n",
    "\n",
    "    # Displays a Pie in a SubPlot per DF's column\n",
    "    for idx, col_name in enumerate(df_in.columns[:nb_pies_max]) :\n",
    "\n",
    "        # Get list of 2 values\n",
    "        nb_A_u_B = len(df_in)\n",
    "        if shown_value == 'null'   : nb_B = len(df_in[df_in[col_name].isna()==True])\n",
    "        elif shown_value == 'zero' : nb_B = len(df_in[df_in[col_name] == 0        ])\n",
    "        nb_A = nb_A_u_B - nb_B\n",
    "        li_values = [nb_A, nb_B]\n",
    "\n",
    "        # Get list of 2 labels & colors\n",
    "        li_legend = [   li_labels[0] + ' ' + format_1000(nb_A),\n",
    "                        li_labels[1] + ' ' + format_1000(nb_B) ]\n",
    "        li_colors = ['mediumseagreen', 'tomato']\n",
    "\n",
    "        # Render titled chart in a SubPlot\n",
    "        plt.subplot(1, nb_cols, idx + 1)\n",
    "        plt.title(col_name.title(), fontsize=10, y=.9)\n",
    "        plt.pie(    li_values,\n",
    "                    #labels=li_labels,\n",
    "                    colors=li_colors,\n",
    "                    wedgeprops = { 'linewidth' : 3, 'edgecolor' : 'white' },  # slice border\n",
    "                    autopct='%1.0f%%',       # Percent calculation\n",
    "                    pctdistance=.5,\n",
    "                    labeldistance=1.0,\n",
    "                    textprops={'fontsize': 12}\n",
    "               )\n",
    "        plt.legend(li_legend, loc='lower left', fontsize=12)\n",
    "\n",
    "    plt.show()"
   ]
  },
  {
   "cell_type": "markdown",
   "id": "6b0a02b9-a3b1-4f90-a2ef-4e6eb24b8f32",
   "metadata": {
    "id": "6b0a02b9-a3b1-4f90-a2ef-4e6eb24b8f32"
   },
   "source": [
    "### barh_cols_ratios(df)"
   ]
  },
  {
   "cell_type": "code",
   "execution_count": 21,
   "id": "799c7da7-a030-4083-8074-2a1d0080bb54",
   "metadata": {
    "id": "799c7da7-a030-4083-8074-2a1d0080bb54",
    "tags": []
   },
   "outputs": [],
   "source": [
    "def barh_cols_ratios(df_in, nb_cols_max=6) :\n",
    "    ''' Plots 2 horizontal-bar charts with distinct & unique values of a Pandas '''\n",
    "    # Limit the nb of columns shown on plot\n",
    "    nb_cols = min(nb_cols_max, len(df_in.columns))\n",
    "    df_in = df_in.iloc[:, :nb_cols]\n",
    "\n",
    "    for quality in ['distinct', 'unique'] :\n",
    "        plt.figure(figsize=(3 * nb_cols, 0.5), facecolor='lightblue')\n",
    "        plt.suptitle((quality + ' values').title(), color='blue', y=-.1, fontsize=12, fontweight='bold')\n",
    "        for idx, col_name in enumerate(df_in.columns) :\n",
    "            nb_A_u_B = len(df_in)\n",
    "            if quality == 'distinct' :\n",
    "                nb_A = len(df_in[col_name].drop_duplicates())\n",
    "                color_A = 'yellow'\n",
    "            elif quality == 'unique' :\n",
    "                nb_A = df_in[col_name].nunique()\n",
    "                color_A = 'gold'\n",
    "            else :\n",
    "                nb_A = 0\n",
    "            nb_B = nb_A_u_B - nb_A\n",
    "            color_B = 'silver'\n",
    "\n",
    "            plt.subplot(1, nb_cols, idx + 1)\n",
    "            plt.title(col_name.title())\n",
    "            plt.axis('off')\n",
    "\n",
    "            plt.barh(0, nb_A, color=color_A, edgecolor='black')\n",
    "            label_A = str(int(nb_A / nb_A_u_B * 100)) + '%\\n' +  str(nb_A) + ' ' + quality\n",
    "            plt.text(x=0, y=-0.3, s=label_A)\n",
    "\n",
    "            plt.barh(0, nb_B, left=nb_A, color=color_B, edgecolor='black')\n",
    "            label_B = str(int(nb_B / nb_A_u_B * 100)) + '%\\n' +  str(nb_B)\n",
    "            if nb_B > 0 : plt.text(x=(nb_A+nb_B)*0.8, y=-0.3, s=label_B)\n",
    "        plt.show()"
   ]
  },
  {
   "cell_type": "markdown",
   "id": "sg5ENhTThmuN",
   "metadata": {
    "id": "sg5ENhTThmuN"
   },
   "source": [
    "## plot_clusters_xy(df, np_labels, str_title, nb_rows)"
   ]
  },
  {
   "cell_type": "code",
   "execution_count": 22,
   "id": "uHbExQ9PhlNI",
   "metadata": {
    "id": "uHbExQ9PhlNI"
   },
   "outputs": [],
   "source": [
    "def plot_clusters_xy(df_in, np_labels, title='', nb_rows=2, np_legend_labels='', opacity=.2) :\n",
    "  ''' Plots clusters in a 2D-scatter chart. The Pandas contains clusters and X-Y coordinates '''\n",
    "  if np_legend_labels == '' : np_legend_labels = np.unique(np_labels)\n",
    "  li_tup_idx = list(itertools.combinations(df_in.columns, 2))\n",
    "  nb_cols = int((len(li_tup_idx)-1)/nb_rows) + 1\n",
    "  fig, ax = plt.subplots(nb_rows, nb_cols, figsize=(20, 3*nb_rows), edgecolor='black', linewidth=2)\n",
    "  for idx, (str_x, str_y) in enumerate(li_tup_idx) :\n",
    "    plt.subplot(nb_rows, nb_cols, idx+1)\n",
    "    scatter = plt.scatter(df_in[str_x], df_in[str_y], c=np_labels, s=3, alpha=opacity, cmap='brg')\n",
    "    plt.xlabel(str_x), plt.ylabel(str_y)\n",
    "  legend  = plt.legend(scatter.legend_elements()[0], np_legend_labels, title='cluster', markerscale=2)\n",
    "  title   = fig.suptitle(title) #, loc='topleft')\n",
    "  plt.show()"
   ]
  },
  {
   "cell_type": "markdown",
   "id": "CayX9ZR9fRvZ",
   "metadata": {
    "id": "CayX9ZR9fRvZ"
   },
   "source": [
    "## plot_correlation_circle(axis, np_in, li_variables, li_colors)"
   ]
  },
  {
   "cell_type": "code",
   "execution_count": 23,
   "id": "eAj3jfkOfP-k",
   "metadata": {
    "id": "eAj3jfkOfP-k"
   },
   "outputs": [],
   "source": [
    "def plot_correlation_circle(ax, np_in, li_variables, li_colors, idx_pc_A=0, idx_pc_B=1, x_min=-1, x_max=1, y_min=-1, y_max=1, title_prefix='') :\n",
    "    ''' Used in PCA to show correlation between attributes and principal components '''\n",
    "    x_origin, y_origin = 0, 0\n",
    "    for idx_feature in range(0, len(np_in[idx_pc_B])) :\n",
    "        x_arrow_head, y_arrow_head = np_in[idx_pc_A, idx_feature], np_in[idx_pc_B, idx_feature]\n",
    "        if  (x_arrow_head>x_min) & (x_arrow_head<x_max) & (y_arrow_head>y_min) & (y_arrow_head<y_max) :\n",
    "            # plot 1 arrow\n",
    "            ax.arrow(x_origin, y_origin, x_arrow_head, y_arrow_head,\n",
    "                     head_width=0.05, head_length=0.03, width=0.02, # arrow's dimensions\n",
    "                     color=li_colors[idx_feature], alpha=.3) # alpha: opacity\n",
    "            # plot 1 arrow's head\n",
    "            arrow_label = li_variables[idx_feature]\n",
    "            x_label, y_label = x_arrow_head + (np.sign(x_arrow_head))*0.03, y_arrow_head\n",
    "            ax.text(x_label, y_label, arrow_label, size=10)\n",
    "\n",
    "    # Axis x,y\n",
    "    ax.plot([-1, 1], [0, 0], color='black', ls='dotted')\n",
    "    ax.plot([0, 0], [-1, 1], color='black', ls='dotted')\n",
    "    ax.set_xlim([x_min, x_max]), ax.set_ylim([y_min, y_max])\n",
    "    if (x_min==-1) & (x_max==1) & (y_min==-1) & (y_max==1) : ax.axis('equal') # sets proportion x,y\n",
    "    ax.set_xticks([]), ax.set_yticks([])\n",
    "    ax.set_xlabel('PC_{} ({}%)'.format(idx_pc_A+1, round(100*np_variance_pct[idx_pc_A],1))) # Axis labels & variance percent\n",
    "    ax.set_ylabel('PC_{} ({}%)'.format(idx_pc_B+1, round(100*np_variance_pct[idx_pc_B],1)))\n",
    "\n",
    "    angle = np.linspace(0, 2 * np.pi, 100)   # ~float range(0, 2pi) with 100 steps\n",
    "    ax.plot(np.cos(angle), np.sin(angle))  # plots circle\n",
    "    ax.set_title(title_prefix + 'Correlation Circle (PC_{} et PC_{})'.format(idx_pc_A+1, idx_pc_B+1), size=9)"
   ]
  },
  {
   "cell_type": "markdown",
   "id": "Q2Zfg3Q5IzNx",
   "metadata": {
    "id": "Q2Zfg3Q5IzNx"
   },
   "source": [
    "## plot_2d_umap()"
   ]
  },
  {
   "cell_type": "code",
   "execution_count": 24,
   "id": "Q8Znu5-uDcNU",
   "metadata": {
    "id": "Q8Znu5-uDcNU"
   },
   "outputs": [],
   "source": [
    "def plot_2d_umap(plt, nb_rows, nb_cols, idx, np_tuple_xy, df_target, li_labels, title='Photo Features 2D (embedded via UMAP)', size=10) :\n",
    "  nb_labels = len(li_labels)\n",
    "  # Scatter plot\n",
    "  plt.subplot(nb_rows, nb_cols, idx + 1)\n",
    "  plt.scatter(*np_tuple_xy.T, s=size, c=df_target, cmap='Spectral', alpha=.8, edgecolors='none')\n",
    "  plt.setp(ax, xticks=[], yticks=[])\n",
    "  # Legend\n",
    "  color_bar = plt.colorbar(boundaries=np.arange(nb_labels+1)-0.5)\n",
    "  color_bar.set_ticks(range(nb_labels))\n",
    "  color_bar.set_ticklabels(li_labels)\n",
    "  plt.title(title)"
   ]
  },
  {
   "cell_type": "markdown",
   "id": "6a9e118c-0383-4f61-b3b2-fc7cfced1522",
   "metadata": {
    "id": "Q2Zfg3Q5IzNx"
   },
   "source": [
    "## plot_distribution(target)"
   ]
  },
  {
   "cell_type": "code",
   "execution_count": 25,
   "id": "68b24c44-e3e5-459e-a4f4-7340b171d57a",
   "metadata": {},
   "outputs": [],
   "source": [
    "from collections import Counter\n",
    "def plot_distribution(target) : # target: array or 1-column Pandas\n",
    "    count_values = Counter(target)\n",
    "    if type(target) is np.ndarray : target = pd.DataFrame(target)\n",
    "    plt.figure(figsize=(2, 2))   \n",
    "    ax = plt.pie(target.value_counts(), autopct='%1.0f%%', textprops={'color': 'white'})\n",
    "    plt.show()\n",
    "    return count_values"
   ]
  },
  {
   "cell_type": "markdown",
   "id": "dc31641b-6aaf-4b6e-9ad7-eaa30203ef6e",
   "metadata": {
    "id": "Q2Zfg3Q5IzNx"
   },
   "source": [
    "## show_boxplot(df_single_col)"
   ]
  },
  {
   "cell_type": "code",
   "execution_count": 26,
   "id": "5a87b401-8563-4f9e-a007-6e10c17260e8",
   "metadata": {},
   "outputs": [],
   "source": [
    "def show_boxplot(df_single_col) :\n",
    "  flierprops = dict(marker='.', markerfacecolor='darkgreen', markersize=7, markeredgecolor='none', alpha=.2)\n",
    "  df_single_col.plot.box(figsize=(10, .5), vert=False, flierprops=flierprops)\n",
    "  plt.yticks(rotation=90), plt.show()"
   ]
  },
  {
   "cell_type": "markdown",
   "id": "3965603e-c5ce-41c2-bf5f-b75e6a266b1b",
   "metadata": {},
   "source": [
    "# Files"
   ]
  },
  {
   "cell_type": "markdown",
   "id": "7b81d73a-9680-42cf-8c00-18083b2edcff",
   "metadata": {},
   "source": [
    "## unzip_to_dir(zip_file, target_dir)"
   ]
  },
  {
   "cell_type": "code",
   "execution_count": 27,
   "id": "2d898323-634e-4f69-8ab9-27d6a8d6118c",
   "metadata": {},
   "outputs": [],
   "source": [
    "def unzip_to_dir(zip_file, target_dir) :\n",
    "  command = f'''\n",
    "    if [ ~ -f \"{zip_file}\" ]  ; then echo \"{zip_file} not found in current folder\" ; exit ; fi\n",
    "    ls -l \"{zip_file}\"\n",
    "    echo \"Unzipping ZIP file to {target_dir} ...\"\n",
    "    UNZIP_IS_AVAILABLE=`which unzip`\n",
    "    if [ ~ UNZIP_IS_AVAILABLE ] ; then echo \"unzip unavailable\" ; exit ; fi\n",
    "    unzip {zip_file} -d \"{target_dir}\" | grep -i \"error\"\n",
    "    for EXT in \"jpg\" \"csv\" \"txt\" ; do\n",
    "        NB_FILES=`ls \"{target_dir}\" | grep \"$EXT\" | wc -l`\n",
    "        echo \"$NB_FILES $EXT files\"\n",
    "    done\n",
    "    else \n",
    "    fi\n",
    "  '''\n",
    "  result = subprocess.run(command, shell=True, capture_output=True, text=True)\n",
    "  print(result.stdout)"
   ]
  },
  {
   "cell_type": "markdown",
   "id": "99652e4d-91e8-49fa-9ae2-c013c82de454",
   "metadata": {},
   "source": [
    "## wget_file(url, file_extension, dir_target)"
   ]
  },
  {
   "cell_type": "code",
   "execution_count": 28,
   "id": "747c07d0-4e75-41dd-ad63-9f17e1f01b1e",
   "metadata": {},
   "outputs": [],
   "source": [
    "def wget_file(url, file_extension, dir_target) :\n",
    "  suffix = '.' + file_extension\n",
    "  li_dir_contents = !ls\n",
    "  if suffix in li_dir_contents[0] :\n",
    "    print('Target file already downloaded')\n",
    "  else :\n",
    "    ! cd $dir_target ; wget \"$url\""
   ]
  },
  {
   "cell_type": "markdown",
   "id": "613d6af1-f0a5-4885-995b-4f9ed32849fd",
   "metadata": {},
   "source": [
    "## get_filenames_in_dir(path, file_extension)"
   ]
  },
  {
   "cell_type": "code",
   "execution_count": 29,
   "id": "7faaa22a-6208-46f2-a621-06c24b197452",
   "metadata": {},
   "outputs": [],
   "source": [
    "def get_filenames_in_dir(path, file_extension='*') :\n",
    "  shell_command = f'ls -1 {path}/*.{file_extension}'\n",
    "  shell_output = subprocess.getoutput(shell_command)\n",
    "  return shell_output.split()"
   ]
  }
 ],
 "metadata": {
  "colab": {
   "provenance": []
  },
  "kernelspec": {
   "display_name": "Python 3 (ipykernel)",
   "language": "python",
   "name": "python3"
  },
  "language_info": {
   "codemirror_mode": {
    "name": "ipython",
    "version": 3
   },
   "file_extension": ".py",
   "mimetype": "text/x-python",
   "name": "python",
   "nbconvert_exporter": "python",
   "pygments_lexer": "ipython3",
   "version": "3.10.12"
  },
  "toc-autonumbering": true
 },
 "nbformat": 4,
 "nbformat_minor": 5
}
